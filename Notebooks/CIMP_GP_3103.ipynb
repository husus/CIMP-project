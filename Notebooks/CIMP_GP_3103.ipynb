{
 "cells": [
  {
   "cell_type": "markdown",
   "metadata": {},
   "source": [
    "# Setup"
   ]
  },
  {
   "cell_type": "code",
   "execution_count": 1,
   "metadata": {},
   "outputs": [
    {
     "name": "stderr",
     "output_type": "stream",
     "text": [
      "\n",
      "Attaching package: 'dplyr'\n",
      "\n",
      "\n",
      "The following objects are masked from 'package:stats':\n",
      "\n",
      "    filter, lag\n",
      "\n",
      "\n",
      "The following objects are masked from 'package:base':\n",
      "\n",
      "    intersect, setdiff, setequal, union\n",
      "\n",
      "\n",
      "Warning message:\n",
      "\"package 'tidyverse' was built under R version 4.0.5\"\n",
      "-- \u001b[1mAttaching packages\u001b[22m ------------------------------------------------------------------------------- tidyverse 1.3.1 --\n",
      "\n",
      "\u001b[32mv\u001b[39m \u001b[34mggplot2\u001b[39m 3.3.3     \u001b[32mv\u001b[39m \u001b[34mpurrr  \u001b[39m 0.3.4\n",
      "\u001b[32mv\u001b[39m \u001b[34mtibble \u001b[39m 3.0.6     \u001b[32mv\u001b[39m \u001b[34mstringr\u001b[39m 1.4.0\n",
      "\u001b[32mv\u001b[39m \u001b[34mtidyr  \u001b[39m 1.1.3     \u001b[32mv\u001b[39m \u001b[34mforcats\u001b[39m 0.5.1\n",
      "\u001b[32mv\u001b[39m \u001b[34mreadr  \u001b[39m 1.4.0     \n",
      "\n",
      "Warning message:\n",
      "\"package 'tidyr' was built under R version 4.0.5\"\n",
      "-- \u001b[1mConflicts\u001b[22m ---------------------------------------------------------------------------------- tidyverse_conflicts() --\n",
      "\u001b[31mx\u001b[39m \u001b[34mdplyr\u001b[39m::\u001b[32mfilter()\u001b[39m  masks \u001b[34mstats\u001b[39m::filter()\n",
      "\u001b[31mx\u001b[39m \u001b[34mpurrr\u001b[39m::\u001b[32mflatten()\u001b[39m masks \u001b[34mjsonlite\u001b[39m::flatten()\n",
      "\u001b[31mx\u001b[39m \u001b[34mdplyr\u001b[39m::\u001b[32mlag()\u001b[39m     masks \u001b[34mstats\u001b[39m::lag()\n",
      "\n",
      "\n",
      "Attaching package: 'data.table'\n",
      "\n",
      "\n",
      "The following object is masked from 'package:purrr':\n",
      "\n",
      "    transpose\n",
      "\n",
      "\n",
      "The following objects are masked from 'package:dplyr':\n",
      "\n",
      "    between, first, last\n",
      "\n",
      "\n",
      "Warning message:\n",
      "\"package 'gplots' was built under R version 4.0.5\"\n",
      "\n",
      "Attaching package: 'gplots'\n",
      "\n",
      "\n",
      "The following object is masked from 'package:stats':\n",
      "\n",
      "    lowess\n",
      "\n",
      "\n",
      "Warning message:\n",
      "\"package 'plotly' was built under R version 4.0.5\"\n",
      "\n",
      "Attaching package: 'plotly'\n",
      "\n",
      "\n",
      "The following object is masked from 'package:ggplot2':\n",
      "\n",
      "    last_plot\n",
      "\n",
      "\n",
      "The following object is masked from 'package:stats':\n",
      "\n",
      "    filter\n",
      "\n",
      "\n",
      "The following object is masked from 'package:graphics':\n",
      "\n",
      "    layout\n",
      "\n",
      "\n",
      "Loading required package: carData\n",
      "\n",
      "\n",
      "Attaching package: 'car'\n",
      "\n",
      "\n",
      "The following object is masked from 'package:purrr':\n",
      "\n",
      "    some\n",
      "\n",
      "\n",
      "The following object is masked from 'package:dplyr':\n",
      "\n",
      "    recode\n",
      "\n",
      "\n",
      "Warning message:\n",
      "\"package 'margins' was built under R version 4.0.5\"\n",
      "Warning message:\n",
      "\"package 'tools4uplift' was built under R version 4.0.5\"\n",
      "Warning message:\n",
      "\"package 'xgboost' was built under R version 4.0.5\"\n",
      "\n",
      "Attaching package: 'xgboost'\n",
      "\n",
      "\n",
      "The following object is masked from 'package:plotly':\n",
      "\n",
      "    slice\n",
      "\n",
      "\n",
      "The following object is masked from 'package:dplyr':\n",
      "\n",
      "    slice\n",
      "\n",
      "\n",
      "Warning message:\n",
      "\"package 'grf' was built under R version 4.0.5\"\n",
      "\n",
      "Attaching package: 'matrixStats'\n",
      "\n",
      "\n",
      "The following object is masked from 'package:dplyr':\n",
      "\n",
      "    count\n",
      "\n",
      "\n",
      "\n",
      "Attaching package: 'reshape2'\n",
      "\n",
      "\n",
      "The following objects are masked from 'package:data.table':\n",
      "\n",
      "    dcast, melt\n",
      "\n",
      "\n",
      "The following object is masked from 'package:tidyr':\n",
      "\n",
      "    smiths\n",
      "\n",
      "\n",
      "Warning message:\n",
      "\"package 'Rcpp' was built under R version 4.0.5\"\n",
      "Warning message:\n",
      "\"package 'mltools' was built under R version 4.0.5\"\n",
      "\n",
      "Attaching package: 'mltools'\n",
      "\n",
      "\n",
      "The following object is masked from 'package:tidyr':\n",
      "\n",
      "    replace_na\n",
      "\n",
      "\n",
      "Warning message:\n",
      "\"package 'glmnet' was built under R version 4.0.5\"\n",
      "Loading required package: Matrix\n",
      "\n",
      "\n",
      "Attaching package: 'Matrix'\n",
      "\n",
      "\n",
      "The following objects are masked from 'package:tidyr':\n",
      "\n",
      "    expand, pack, unpack\n",
      "\n",
      "\n",
      "Loaded glmnet 4.1-3\n",
      "\n",
      "Warning message:\n",
      "\"package 'caret' was built under R version 4.0.5\"\n",
      "Loading required package: lattice\n",
      "\n",
      "\n",
      "Attaching package: 'caret'\n",
      "\n",
      "\n",
      "The following object is masked from 'package:purrr':\n",
      "\n",
      "    lift\n",
      "\n",
      "\n",
      "Warning message:\n",
      "\"package 'mlr' was built under R version 4.0.5\"\n",
      "Loading required package: ParamHelpers\n",
      "\n",
      "Warning message:\n",
      "\"package 'ParamHelpers' was built under R version 4.0.5\"\n",
      "Warning message: 'mlr' is in 'maintenance-only' mode since July 2019.\n",
      "Future development will only happen in 'mlr3'\n",
      "(<https://mlr3.mlr-org.com>). Due to the focus on 'mlr3' there might be\n",
      "uncaught bugs meanwhile in {mlr} - please consider switching.\n",
      "\n",
      "\n",
      "Attaching package: 'mlr'\n",
      "\n",
      "\n",
      "The following object is masked from 'package:caret':\n",
      "\n",
      "    train\n",
      "\n",
      "\n"
     ]
    }
   ],
   "source": [
    "rm(list = ls())\n",
    "options(scipen=999)\n",
    "set.seed(10)\n",
    "\n",
    "# Packages for Data Manipulation \n",
    "library(\"dplyr\")\n",
    "library('tidyverse')\n",
    "library(\"data.table\")\n",
    "\n",
    "# Stuff for Graphs and Plots\n",
    "library(\"ggplot2\")\n",
    "library(\"ggpubr\")\n",
    "library(\"gplots\")\n",
    "library(\"plotly\")\n",
    "library(\"ggrepel\")\n",
    "library(\"RColorBrewer\")\n",
    "\n",
    "\n",
    "##I define a personalized theme for ggplot based on a default theme\n",
    "mytheme<-theme_minimal()+theme(plot.title = element_text(hjust = 0.5))\n",
    "\n",
    "# General Tools for Regressions and Marginal Effects\n",
    "library(\"car\")\n",
    "library(\"margins\")\n",
    "\n",
    "# Package for regression uplifting models\n",
    "library(\"tools4uplift\")\n",
    "\n",
    "# Package for XGBoosting\n",
    "library('xgboost')\n",
    "\n",
    "# Package for HCF\n",
    "library(\"grf\")\n",
    "\n",
    "# Miscellaneous\n",
    "library(\"matrixStats\")\n",
    "library(\"reshape2\")\n",
    "library(\"Rcpp\")\n",
    "library('mltools')\n",
    "library('glmnet')\n",
    "library('caret')\n",
    "library(\"mlr\")\n",
    "\n",
    "\n",
    "#Automatically Install Missing Packages\n",
    "listOfPackages <- c(\"dplyr\",\"tidyverse\",\"data.table\",\"ggplot2\",\"ggpubr\",\n",
    "                    \"gplots\",\"plotly\",\"ggrepel\",\"RColorBrewer\",\n",
    "                    \"reshape2\",\"margins\", \"tools4uplift\",\"xgboost\",\"grf\",\"ggplot2\",\"matrixStats\",\n",
    "                    \"Rcpp\",\"car\",\"mltools\",\"glmnet\",\n",
    "                    \"caret\",\"mlr\")\n",
    "for (i in listOfPackages){\n",
    "     if(! i %in% installed.packages()){\n",
    "         install.packages(i, dependencies = TRUE)\n",
    "         library(i)\n",
    "     }\n",
    "}\n"
   ]
  },
  {
   "cell_type": "markdown",
   "metadata": {},
   "source": [
    "# Data Generation"
   ]
  },
  {
   "cell_type": "code",
   "execution_count": 2,
   "metadata": {},
   "outputs": [],
   "source": [
    "# total number of users under study - Increased from 1000 to 100000 (experiment)\n",
    "num_users <- 100000\n",
    "\n",
    "u_id <- seq(1,num_users)\n",
    "\n",
    "u_age <- sample(c(1,2,3,4,5,6),num_users,replace=T,prob=c(0.1,0.30,0.35,0.15,0.05,0.05))\n",
    "# 1=<18 2=[18,25) 3=[25,35) 4=[35,45), 5=[45,55), 6=>55\n",
    "\n",
    "u_gender <- sample(c(1,2),num_users,replace=T,prob=c(0.6,0.4))\n",
    "# 1=M, 2=F\n",
    "\n",
    "u_weekly_utilisation <- sample(0:7,num_users,replace=T)\n",
    "# number of days using the service in a week\n",
    "\n",
    "u_sub_utilisation <- round(runif(num_users,0,1),2)\n",
    "# proportion of time spent on the service since the first subscription\n",
    "\n",
    "#u_rating_given <- sample(0:5,num_users,replace=T)\n",
    "u_rating_given<-round(runif(num_users,0,5),2)\n",
    "\n",
    "# rating on a scale from 0 to 5 given by each user to the platform\n",
    "\n",
    "u_format_pref <- sample(c(1,2,3),num_users,replace=T,prob=c(0.5,0.4,0.1))\n",
    "# 1=TV-series, 2=movies, 3=documentaries\n",
    "\n",
    "u_genre_pref <- sample(1:7,num_users,replace=T)\n",
    "# 1=action, 2=comedy, 3=romance, 4=sci-fi, 5=animation, 6=drama, 7=horror\n",
    "\n",
    "u_other_sub <- sample(0:1,num_users,replace=T)\n",
    "# binary variable where 0=not subscribed to other streaming platforms, 1=yes\n",
    "\n",
    "# creating the data table with all the users\n",
    "USERS <- data.table(u_id, u_gender, u_age, u_weekly_utilisation, u_sub_utilisation, u_format_pref,\n",
    "                    u_genre_pref, u_rating_given, u_other_sub)\n"
   ]
  },
  {
   "cell_type": "code",
   "execution_count": 3,
   "metadata": {
    "scrolled": true
   },
   "outputs": [
    {
     "data": {
      "text/html": [
       "<table class=\"dataframe\">\n",
       "<caption>A data.table: 100000 × 9</caption>\n",
       "<thead>\n",
       "\t<tr><th scope=col>u_id</th><th scope=col>u_gender</th><th scope=col>u_age</th><th scope=col>u_weekly_utilisation</th><th scope=col>u_sub_utilisation</th><th scope=col>u_format_pref</th><th scope=col>u_genre_pref</th><th scope=col>u_rating_given</th><th scope=col>u_other_sub</th></tr>\n",
       "\t<tr><th scope=col>&lt;int&gt;</th><th scope=col>&lt;dbl&gt;</th><th scope=col>&lt;dbl&gt;</th><th scope=col>&lt;int&gt;</th><th scope=col>&lt;dbl&gt;</th><th scope=col>&lt;dbl&gt;</th><th scope=col>&lt;int&gt;</th><th scope=col>&lt;dbl&gt;</th><th scope=col>&lt;int&gt;</th></tr>\n",
       "</thead>\n",
       "<tbody>\n",
       "\t<tr><td> 1</td><td>2</td><td>2</td><td>2</td><td>0.40</td><td>1</td><td>4</td><td>3.05</td><td>0</td></tr>\n",
       "\t<tr><td> 2</td><td>2</td><td>3</td><td>1</td><td>0.38</td><td>1</td><td>4</td><td>2.01</td><td>1</td></tr>\n",
       "\t<tr><td> 3</td><td>2</td><td>2</td><td>6</td><td>0.31</td><td>2</td><td>5</td><td>0.47</td><td>0</td></tr>\n",
       "\t<tr><td> 4</td><td>1</td><td>4</td><td>6</td><td>0.09</td><td>2</td><td>3</td><td>0.43</td><td>0</td></tr>\n",
       "\t<tr><td> 5</td><td>2</td><td>3</td><td>0</td><td>0.33</td><td>1</td><td>3</td><td>0.69</td><td>0</td></tr>\n",
       "\t<tr><td> 6</td><td>2</td><td>3</td><td>7</td><td>0.06</td><td>1</td><td>3</td><td>3.79</td><td>0</td></tr>\n",
       "\t<tr><td> 7</td><td>1</td><td>3</td><td>6</td><td>0.82</td><td>2</td><td>5</td><td>0.32</td><td>0</td></tr>\n",
       "\t<tr><td> 8</td><td>1</td><td>3</td><td>6</td><td>0.16</td><td>1</td><td>5</td><td>2.76</td><td>0</td></tr>\n",
       "\t<tr><td> 9</td><td>2</td><td>2</td><td>1</td><td>0.84</td><td>1</td><td>7</td><td>4.41</td><td>1</td></tr>\n",
       "\t<tr><td>10</td><td>2</td><td>2</td><td>1</td><td>0.55</td><td>1</td><td>2</td><td>1.94</td><td>0</td></tr>\n",
       "\t<tr><td>11</td><td>1</td><td>4</td><td>5</td><td>0.24</td><td>1</td><td>6</td><td>2.66</td><td>0</td></tr>\n",
       "\t<tr><td>12</td><td>2</td><td>2</td><td>3</td><td>0.69</td><td>1</td><td>7</td><td>4.52</td><td>1</td></tr>\n",
       "\t<tr><td>13</td><td>1</td><td>3</td><td>4</td><td>0.73</td><td>1</td><td>4</td><td>1.07</td><td>1</td></tr>\n",
       "\t<tr><td>14</td><td>1</td><td>2</td><td>3</td><td>0.93</td><td>1</td><td>2</td><td>1.22</td><td>1</td></tr>\n",
       "\t<tr><td>15</td><td>1</td><td>2</td><td>4</td><td>0.05</td><td>1</td><td>4</td><td>3.57</td><td>1</td></tr>\n",
       "\t<tr><td>16</td><td>1</td><td>2</td><td>6</td><td>0.62</td><td>2</td><td>5</td><td>2.13</td><td>1</td></tr>\n",
       "\t<tr><td>17</td><td>1</td><td>3</td><td>0</td><td>0.52</td><td>2</td><td>2</td><td>1.14</td><td>0</td></tr>\n",
       "\t<tr><td>18</td><td>2</td><td>3</td><td>3</td><td>0.91</td><td>1</td><td>6</td><td>1.85</td><td>0</td></tr>\n",
       "\t<tr><td>19</td><td>2</td><td>2</td><td>6</td><td>0.90</td><td>2</td><td>1</td><td>2.11</td><td>0</td></tr>\n",
       "\t<tr><td>20</td><td>2</td><td>1</td><td>3</td><td>0.45</td><td>1</td><td>2</td><td>2.43</td><td>1</td></tr>\n",
       "\t<tr><td>21</td><td>1</td><td>1</td><td>2</td><td>0.92</td><td>2</td><td>6</td><td>2.82</td><td>1</td></tr>\n",
       "\t<tr><td>22</td><td>2</td><td>2</td><td>3</td><td>0.29</td><td>3</td><td>5</td><td>3.76</td><td>0</td></tr>\n",
       "\t<tr><td>23</td><td>1</td><td>4</td><td>5</td><td>0.81</td><td>1</td><td>7</td><td>4.34</td><td>0</td></tr>\n",
       "\t<tr><td>24</td><td>2</td><td>2</td><td>0</td><td>0.26</td><td>1</td><td>4</td><td>3.96</td><td>1</td></tr>\n",
       "\t<tr><td>25</td><td>2</td><td>2</td><td>3</td><td>0.15</td><td>3</td><td>3</td><td>4.17</td><td>1</td></tr>\n",
       "\t<tr><td>26</td><td>1</td><td>4</td><td>6</td><td>0.11</td><td>2</td><td>7</td><td>4.35</td><td>1</td></tr>\n",
       "\t<tr><td>27</td><td>1</td><td>1</td><td>0</td><td>0.09</td><td>2</td><td>4</td><td>3.99</td><td>1</td></tr>\n",
       "\t<tr><td>28</td><td>1</td><td>3</td><td>5</td><td>0.64</td><td>2</td><td>1</td><td>1.05</td><td>0</td></tr>\n",
       "\t<tr><td>29</td><td>1</td><td>4</td><td>7</td><td>0.96</td><td>1</td><td>4</td><td>0.99</td><td>0</td></tr>\n",
       "\t<tr><td>30</td><td>1</td><td>2</td><td>1</td><td>0.49</td><td>2</td><td>7</td><td>3.50</td><td>1</td></tr>\n",
       "\t<tr><td>...</td><td>...</td><td>...</td><td>...</td><td>...</td><td>...</td><td>...</td><td>...</td><td>...</td></tr>\n",
       "\t<tr><td> 99971</td><td>2</td><td>3</td><td>1</td><td>0.16</td><td>1</td><td>3</td><td>0.54</td><td>1</td></tr>\n",
       "\t<tr><td> 99972</td><td>1</td><td>3</td><td>7</td><td>0.16</td><td>1</td><td>7</td><td>3.03</td><td>1</td></tr>\n",
       "\t<tr><td> 99973</td><td>2</td><td>6</td><td>0</td><td>0.23</td><td>3</td><td>7</td><td>0.95</td><td>1</td></tr>\n",
       "\t<tr><td> 99974</td><td>2</td><td>2</td><td>2</td><td>0.55</td><td>2</td><td>6</td><td>4.64</td><td>0</td></tr>\n",
       "\t<tr><td> 99975</td><td>2</td><td>3</td><td>7</td><td>0.80</td><td>1</td><td>5</td><td>3.91</td><td>1</td></tr>\n",
       "\t<tr><td> 99976</td><td>1</td><td>4</td><td>0</td><td>0.32</td><td>1</td><td>3</td><td>1.41</td><td>0</td></tr>\n",
       "\t<tr><td> 99977</td><td>2</td><td>3</td><td>2</td><td>0.32</td><td>2</td><td>1</td><td>3.27</td><td>0</td></tr>\n",
       "\t<tr><td> 99978</td><td>2</td><td>2</td><td>5</td><td>0.93</td><td>3</td><td>2</td><td>3.75</td><td>1</td></tr>\n",
       "\t<tr><td> 99979</td><td>1</td><td>1</td><td>3</td><td>0.45</td><td>1</td><td>4</td><td>1.53</td><td>0</td></tr>\n",
       "\t<tr><td> 99980</td><td>1</td><td>4</td><td>7</td><td>0.93</td><td>3</td><td>3</td><td>3.41</td><td>1</td></tr>\n",
       "\t<tr><td> 99981</td><td>2</td><td>4</td><td>1</td><td>0.36</td><td>2</td><td>3</td><td>1.01</td><td>1</td></tr>\n",
       "\t<tr><td> 99982</td><td>1</td><td>2</td><td>1</td><td>0.10</td><td>1</td><td>7</td><td>2.58</td><td>1</td></tr>\n",
       "\t<tr><td> 99983</td><td>2</td><td>1</td><td>3</td><td>0.29</td><td>1</td><td>7</td><td>3.11</td><td>0</td></tr>\n",
       "\t<tr><td> 99984</td><td>2</td><td>3</td><td>6</td><td>0.42</td><td>3</td><td>4</td><td>2.27</td><td>1</td></tr>\n",
       "\t<tr><td> 99985</td><td>1</td><td>3</td><td>2</td><td>0.21</td><td>1</td><td>6</td><td>1.47</td><td>1</td></tr>\n",
       "\t<tr><td> 99986</td><td>1</td><td>2</td><td>7</td><td>0.05</td><td>2</td><td>5</td><td>2.44</td><td>1</td></tr>\n",
       "\t<tr><td> 99987</td><td>1</td><td>4</td><td>0</td><td>0.43</td><td>1</td><td>3</td><td>0.45</td><td>0</td></tr>\n",
       "\t<tr><td> 99988</td><td>1</td><td>3</td><td>3</td><td>0.05</td><td>1</td><td>5</td><td>3.87</td><td>0</td></tr>\n",
       "\t<tr><td> 99989</td><td>1</td><td>2</td><td>7</td><td>0.89</td><td>2</td><td>6</td><td>3.78</td><td>0</td></tr>\n",
       "\t<tr><td> 99990</td><td>2</td><td>3</td><td>6</td><td>0.41</td><td>1</td><td>2</td><td>0.66</td><td>1</td></tr>\n",
       "\t<tr><td> 99991</td><td>1</td><td>4</td><td>4</td><td>0.96</td><td>1</td><td>1</td><td>1.39</td><td>0</td></tr>\n",
       "\t<tr><td> 99992</td><td>1</td><td>1</td><td>1</td><td>0.33</td><td>1</td><td>4</td><td>0.05</td><td>1</td></tr>\n",
       "\t<tr><td> 99993</td><td>1</td><td>4</td><td>0</td><td>0.20</td><td>2</td><td>5</td><td>2.37</td><td>1</td></tr>\n",
       "\t<tr><td> 99994</td><td>1</td><td>1</td><td>0</td><td>0.38</td><td>3</td><td>4</td><td>0.12</td><td>1</td></tr>\n",
       "\t<tr><td> 99995</td><td>1</td><td>2</td><td>2</td><td>0.42</td><td>2</td><td>5</td><td>4.52</td><td>0</td></tr>\n",
       "\t<tr><td> 99996</td><td>1</td><td>2</td><td>1</td><td>0.38</td><td>1</td><td>3</td><td>3.26</td><td>0</td></tr>\n",
       "\t<tr><td> 99997</td><td>1</td><td>4</td><td>5</td><td>0.71</td><td>2</td><td>7</td><td>2.19</td><td>0</td></tr>\n",
       "\t<tr><td> 99998</td><td>2</td><td>2</td><td>0</td><td>0.32</td><td>1</td><td>6</td><td>4.31</td><td>1</td></tr>\n",
       "\t<tr><td> 99999</td><td>2</td><td>3</td><td>6</td><td>0.86</td><td>2</td><td>5</td><td>1.46</td><td>0</td></tr>\n",
       "\t<tr><td>100000</td><td>1</td><td>4</td><td>5</td><td>0.43</td><td>1</td><td>5</td><td>1.18</td><td>0</td></tr>\n",
       "</tbody>\n",
       "</table>\n"
      ],
      "text/latex": [
       "A data.table: 100000 × 9\n",
       "\\begin{tabular}{lllllllll}\n",
       " u\\_id & u\\_gender & u\\_age & u\\_weekly\\_utilisation & u\\_sub\\_utilisation & u\\_format\\_pref & u\\_genre\\_pref & u\\_rating\\_given & u\\_other\\_sub\\\\\n",
       " <int> & <dbl> & <dbl> & <int> & <dbl> & <dbl> & <int> & <dbl> & <int>\\\\\n",
       "\\hline\n",
       "\t  1 & 2 & 2 & 2 & 0.40 & 1 & 4 & 3.05 & 0\\\\\n",
       "\t  2 & 2 & 3 & 1 & 0.38 & 1 & 4 & 2.01 & 1\\\\\n",
       "\t  3 & 2 & 2 & 6 & 0.31 & 2 & 5 & 0.47 & 0\\\\\n",
       "\t  4 & 1 & 4 & 6 & 0.09 & 2 & 3 & 0.43 & 0\\\\\n",
       "\t  5 & 2 & 3 & 0 & 0.33 & 1 & 3 & 0.69 & 0\\\\\n",
       "\t  6 & 2 & 3 & 7 & 0.06 & 1 & 3 & 3.79 & 0\\\\\n",
       "\t  7 & 1 & 3 & 6 & 0.82 & 2 & 5 & 0.32 & 0\\\\\n",
       "\t  8 & 1 & 3 & 6 & 0.16 & 1 & 5 & 2.76 & 0\\\\\n",
       "\t  9 & 2 & 2 & 1 & 0.84 & 1 & 7 & 4.41 & 1\\\\\n",
       "\t 10 & 2 & 2 & 1 & 0.55 & 1 & 2 & 1.94 & 0\\\\\n",
       "\t 11 & 1 & 4 & 5 & 0.24 & 1 & 6 & 2.66 & 0\\\\\n",
       "\t 12 & 2 & 2 & 3 & 0.69 & 1 & 7 & 4.52 & 1\\\\\n",
       "\t 13 & 1 & 3 & 4 & 0.73 & 1 & 4 & 1.07 & 1\\\\\n",
       "\t 14 & 1 & 2 & 3 & 0.93 & 1 & 2 & 1.22 & 1\\\\\n",
       "\t 15 & 1 & 2 & 4 & 0.05 & 1 & 4 & 3.57 & 1\\\\\n",
       "\t 16 & 1 & 2 & 6 & 0.62 & 2 & 5 & 2.13 & 1\\\\\n",
       "\t 17 & 1 & 3 & 0 & 0.52 & 2 & 2 & 1.14 & 0\\\\\n",
       "\t 18 & 2 & 3 & 3 & 0.91 & 1 & 6 & 1.85 & 0\\\\\n",
       "\t 19 & 2 & 2 & 6 & 0.90 & 2 & 1 & 2.11 & 0\\\\\n",
       "\t 20 & 2 & 1 & 3 & 0.45 & 1 & 2 & 2.43 & 1\\\\\n",
       "\t 21 & 1 & 1 & 2 & 0.92 & 2 & 6 & 2.82 & 1\\\\\n",
       "\t 22 & 2 & 2 & 3 & 0.29 & 3 & 5 & 3.76 & 0\\\\\n",
       "\t 23 & 1 & 4 & 5 & 0.81 & 1 & 7 & 4.34 & 0\\\\\n",
       "\t 24 & 2 & 2 & 0 & 0.26 & 1 & 4 & 3.96 & 1\\\\\n",
       "\t 25 & 2 & 2 & 3 & 0.15 & 3 & 3 & 4.17 & 1\\\\\n",
       "\t 26 & 1 & 4 & 6 & 0.11 & 2 & 7 & 4.35 & 1\\\\\n",
       "\t 27 & 1 & 1 & 0 & 0.09 & 2 & 4 & 3.99 & 1\\\\\n",
       "\t 28 & 1 & 3 & 5 & 0.64 & 2 & 1 & 1.05 & 0\\\\\n",
       "\t 29 & 1 & 4 & 7 & 0.96 & 1 & 4 & 0.99 & 0\\\\\n",
       "\t 30 & 1 & 2 & 1 & 0.49 & 2 & 7 & 3.50 & 1\\\\\n",
       "\t ... & ... & ... & ... & ... & ... & ... & ... & ...\\\\\n",
       "\t  99971 & 2 & 3 & 1 & 0.16 & 1 & 3 & 0.54 & 1\\\\\n",
       "\t  99972 & 1 & 3 & 7 & 0.16 & 1 & 7 & 3.03 & 1\\\\\n",
       "\t  99973 & 2 & 6 & 0 & 0.23 & 3 & 7 & 0.95 & 1\\\\\n",
       "\t  99974 & 2 & 2 & 2 & 0.55 & 2 & 6 & 4.64 & 0\\\\\n",
       "\t  99975 & 2 & 3 & 7 & 0.80 & 1 & 5 & 3.91 & 1\\\\\n",
       "\t  99976 & 1 & 4 & 0 & 0.32 & 1 & 3 & 1.41 & 0\\\\\n",
       "\t  99977 & 2 & 3 & 2 & 0.32 & 2 & 1 & 3.27 & 0\\\\\n",
       "\t  99978 & 2 & 2 & 5 & 0.93 & 3 & 2 & 3.75 & 1\\\\\n",
       "\t  99979 & 1 & 1 & 3 & 0.45 & 1 & 4 & 1.53 & 0\\\\\n",
       "\t  99980 & 1 & 4 & 7 & 0.93 & 3 & 3 & 3.41 & 1\\\\\n",
       "\t  99981 & 2 & 4 & 1 & 0.36 & 2 & 3 & 1.01 & 1\\\\\n",
       "\t  99982 & 1 & 2 & 1 & 0.10 & 1 & 7 & 2.58 & 1\\\\\n",
       "\t  99983 & 2 & 1 & 3 & 0.29 & 1 & 7 & 3.11 & 0\\\\\n",
       "\t  99984 & 2 & 3 & 6 & 0.42 & 3 & 4 & 2.27 & 1\\\\\n",
       "\t  99985 & 1 & 3 & 2 & 0.21 & 1 & 6 & 1.47 & 1\\\\\n",
       "\t  99986 & 1 & 2 & 7 & 0.05 & 2 & 5 & 2.44 & 1\\\\\n",
       "\t  99987 & 1 & 4 & 0 & 0.43 & 1 & 3 & 0.45 & 0\\\\\n",
       "\t  99988 & 1 & 3 & 3 & 0.05 & 1 & 5 & 3.87 & 0\\\\\n",
       "\t  99989 & 1 & 2 & 7 & 0.89 & 2 & 6 & 3.78 & 0\\\\\n",
       "\t  99990 & 2 & 3 & 6 & 0.41 & 1 & 2 & 0.66 & 1\\\\\n",
       "\t  99991 & 1 & 4 & 4 & 0.96 & 1 & 1 & 1.39 & 0\\\\\n",
       "\t  99992 & 1 & 1 & 1 & 0.33 & 1 & 4 & 0.05 & 1\\\\\n",
       "\t  99993 & 1 & 4 & 0 & 0.20 & 2 & 5 & 2.37 & 1\\\\\n",
       "\t  99994 & 1 & 1 & 0 & 0.38 & 3 & 4 & 0.12 & 1\\\\\n",
       "\t  99995 & 1 & 2 & 2 & 0.42 & 2 & 5 & 4.52 & 0\\\\\n",
       "\t  99996 & 1 & 2 & 1 & 0.38 & 1 & 3 & 3.26 & 0\\\\\n",
       "\t  99997 & 1 & 4 & 5 & 0.71 & 2 & 7 & 2.19 & 0\\\\\n",
       "\t  99998 & 2 & 2 & 0 & 0.32 & 1 & 6 & 4.31 & 1\\\\\n",
       "\t  99999 & 2 & 3 & 6 & 0.86 & 2 & 5 & 1.46 & 0\\\\\n",
       "\t 100000 & 1 & 4 & 5 & 0.43 & 1 & 5 & 1.18 & 0\\\\\n",
       "\\end{tabular}\n"
      ],
      "text/markdown": [
       "\n",
       "A data.table: 100000 × 9\n",
       "\n",
       "| u_id &lt;int&gt; | u_gender &lt;dbl&gt; | u_age &lt;dbl&gt; | u_weekly_utilisation &lt;int&gt; | u_sub_utilisation &lt;dbl&gt; | u_format_pref &lt;dbl&gt; | u_genre_pref &lt;int&gt; | u_rating_given &lt;dbl&gt; | u_other_sub &lt;int&gt; |\n",
       "|---|---|---|---|---|---|---|---|---|\n",
       "|  1 | 2 | 2 | 2 | 0.40 | 1 | 4 | 3.05 | 0 |\n",
       "|  2 | 2 | 3 | 1 | 0.38 | 1 | 4 | 2.01 | 1 |\n",
       "|  3 | 2 | 2 | 6 | 0.31 | 2 | 5 | 0.47 | 0 |\n",
       "|  4 | 1 | 4 | 6 | 0.09 | 2 | 3 | 0.43 | 0 |\n",
       "|  5 | 2 | 3 | 0 | 0.33 | 1 | 3 | 0.69 | 0 |\n",
       "|  6 | 2 | 3 | 7 | 0.06 | 1 | 3 | 3.79 | 0 |\n",
       "|  7 | 1 | 3 | 6 | 0.82 | 2 | 5 | 0.32 | 0 |\n",
       "|  8 | 1 | 3 | 6 | 0.16 | 1 | 5 | 2.76 | 0 |\n",
       "|  9 | 2 | 2 | 1 | 0.84 | 1 | 7 | 4.41 | 1 |\n",
       "| 10 | 2 | 2 | 1 | 0.55 | 1 | 2 | 1.94 | 0 |\n",
       "| 11 | 1 | 4 | 5 | 0.24 | 1 | 6 | 2.66 | 0 |\n",
       "| 12 | 2 | 2 | 3 | 0.69 | 1 | 7 | 4.52 | 1 |\n",
       "| 13 | 1 | 3 | 4 | 0.73 | 1 | 4 | 1.07 | 1 |\n",
       "| 14 | 1 | 2 | 3 | 0.93 | 1 | 2 | 1.22 | 1 |\n",
       "| 15 | 1 | 2 | 4 | 0.05 | 1 | 4 | 3.57 | 1 |\n",
       "| 16 | 1 | 2 | 6 | 0.62 | 2 | 5 | 2.13 | 1 |\n",
       "| 17 | 1 | 3 | 0 | 0.52 | 2 | 2 | 1.14 | 0 |\n",
       "| 18 | 2 | 3 | 3 | 0.91 | 1 | 6 | 1.85 | 0 |\n",
       "| 19 | 2 | 2 | 6 | 0.90 | 2 | 1 | 2.11 | 0 |\n",
       "| 20 | 2 | 1 | 3 | 0.45 | 1 | 2 | 2.43 | 1 |\n",
       "| 21 | 1 | 1 | 2 | 0.92 | 2 | 6 | 2.82 | 1 |\n",
       "| 22 | 2 | 2 | 3 | 0.29 | 3 | 5 | 3.76 | 0 |\n",
       "| 23 | 1 | 4 | 5 | 0.81 | 1 | 7 | 4.34 | 0 |\n",
       "| 24 | 2 | 2 | 0 | 0.26 | 1 | 4 | 3.96 | 1 |\n",
       "| 25 | 2 | 2 | 3 | 0.15 | 3 | 3 | 4.17 | 1 |\n",
       "| 26 | 1 | 4 | 6 | 0.11 | 2 | 7 | 4.35 | 1 |\n",
       "| 27 | 1 | 1 | 0 | 0.09 | 2 | 4 | 3.99 | 1 |\n",
       "| 28 | 1 | 3 | 5 | 0.64 | 2 | 1 | 1.05 | 0 |\n",
       "| 29 | 1 | 4 | 7 | 0.96 | 1 | 4 | 0.99 | 0 |\n",
       "| 30 | 1 | 2 | 1 | 0.49 | 2 | 7 | 3.50 | 1 |\n",
       "| ... | ... | ... | ... | ... | ... | ... | ... | ... |\n",
       "|  99971 | 2 | 3 | 1 | 0.16 | 1 | 3 | 0.54 | 1 |\n",
       "|  99972 | 1 | 3 | 7 | 0.16 | 1 | 7 | 3.03 | 1 |\n",
       "|  99973 | 2 | 6 | 0 | 0.23 | 3 | 7 | 0.95 | 1 |\n",
       "|  99974 | 2 | 2 | 2 | 0.55 | 2 | 6 | 4.64 | 0 |\n",
       "|  99975 | 2 | 3 | 7 | 0.80 | 1 | 5 | 3.91 | 1 |\n",
       "|  99976 | 1 | 4 | 0 | 0.32 | 1 | 3 | 1.41 | 0 |\n",
       "|  99977 | 2 | 3 | 2 | 0.32 | 2 | 1 | 3.27 | 0 |\n",
       "|  99978 | 2 | 2 | 5 | 0.93 | 3 | 2 | 3.75 | 1 |\n",
       "|  99979 | 1 | 1 | 3 | 0.45 | 1 | 4 | 1.53 | 0 |\n",
       "|  99980 | 1 | 4 | 7 | 0.93 | 3 | 3 | 3.41 | 1 |\n",
       "|  99981 | 2 | 4 | 1 | 0.36 | 2 | 3 | 1.01 | 1 |\n",
       "|  99982 | 1 | 2 | 1 | 0.10 | 1 | 7 | 2.58 | 1 |\n",
       "|  99983 | 2 | 1 | 3 | 0.29 | 1 | 7 | 3.11 | 0 |\n",
       "|  99984 | 2 | 3 | 6 | 0.42 | 3 | 4 | 2.27 | 1 |\n",
       "|  99985 | 1 | 3 | 2 | 0.21 | 1 | 6 | 1.47 | 1 |\n",
       "|  99986 | 1 | 2 | 7 | 0.05 | 2 | 5 | 2.44 | 1 |\n",
       "|  99987 | 1 | 4 | 0 | 0.43 | 1 | 3 | 0.45 | 0 |\n",
       "|  99988 | 1 | 3 | 3 | 0.05 | 1 | 5 | 3.87 | 0 |\n",
       "|  99989 | 1 | 2 | 7 | 0.89 | 2 | 6 | 3.78 | 0 |\n",
       "|  99990 | 2 | 3 | 6 | 0.41 | 1 | 2 | 0.66 | 1 |\n",
       "|  99991 | 1 | 4 | 4 | 0.96 | 1 | 1 | 1.39 | 0 |\n",
       "|  99992 | 1 | 1 | 1 | 0.33 | 1 | 4 | 0.05 | 1 |\n",
       "|  99993 | 1 | 4 | 0 | 0.20 | 2 | 5 | 2.37 | 1 |\n",
       "|  99994 | 1 | 1 | 0 | 0.38 | 3 | 4 | 0.12 | 1 |\n",
       "|  99995 | 1 | 2 | 2 | 0.42 | 2 | 5 | 4.52 | 0 |\n",
       "|  99996 | 1 | 2 | 1 | 0.38 | 1 | 3 | 3.26 | 0 |\n",
       "|  99997 | 1 | 4 | 5 | 0.71 | 2 | 7 | 2.19 | 0 |\n",
       "|  99998 | 2 | 2 | 0 | 0.32 | 1 | 6 | 4.31 | 1 |\n",
       "|  99999 | 2 | 3 | 6 | 0.86 | 2 | 5 | 1.46 | 0 |\n",
       "| 100000 | 1 | 4 | 5 | 0.43 | 1 | 5 | 1.18 | 0 |\n",
       "\n"
      ],
      "text/plain": [
       "       u_id   u_gender u_age u_weekly_utilisation u_sub_utilisation\n",
       "1       1     2        2     2                    0.40             \n",
       "2       2     2        3     1                    0.38             \n",
       "3       3     2        2     6                    0.31             \n",
       "4       4     1        4     6                    0.09             \n",
       "5       5     2        3     0                    0.33             \n",
       "6       6     2        3     7                    0.06             \n",
       "7       7     1        3     6                    0.82             \n",
       "8       8     1        3     6                    0.16             \n",
       "9       9     2        2     1                    0.84             \n",
       "10     10     2        2     1                    0.55             \n",
       "11     11     1        4     5                    0.24             \n",
       "12     12     2        2     3                    0.69             \n",
       "13     13     1        3     4                    0.73             \n",
       "14     14     1        2     3                    0.93             \n",
       "15     15     1        2     4                    0.05             \n",
       "16     16     1        2     6                    0.62             \n",
       "17     17     1        3     0                    0.52             \n",
       "18     18     2        3     3                    0.91             \n",
       "19     19     2        2     6                    0.90             \n",
       "20     20     2        1     3                    0.45             \n",
       "21     21     1        1     2                    0.92             \n",
       "22     22     2        2     3                    0.29             \n",
       "23     23     1        4     5                    0.81             \n",
       "24     24     2        2     0                    0.26             \n",
       "25     25     2        2     3                    0.15             \n",
       "26     26     1        4     6                    0.11             \n",
       "27     27     1        1     0                    0.09             \n",
       "28     28     1        3     5                    0.64             \n",
       "29     29     1        4     7                    0.96             \n",
       "30     30     1        2     1                    0.49             \n",
       "...    ...    ...      ...   ...                  ...              \n",
       "99971   99971 2        3     1                    0.16             \n",
       "99972   99972 1        3     7                    0.16             \n",
       "99973   99973 2        6     0                    0.23             \n",
       "99974   99974 2        2     2                    0.55             \n",
       "99975   99975 2        3     7                    0.80             \n",
       "99976   99976 1        4     0                    0.32             \n",
       "99977   99977 2        3     2                    0.32             \n",
       "99978   99978 2        2     5                    0.93             \n",
       "99979   99979 1        1     3                    0.45             \n",
       "99980   99980 1        4     7                    0.93             \n",
       "99981   99981 2        4     1                    0.36             \n",
       "99982   99982 1        2     1                    0.10             \n",
       "99983   99983 2        1     3                    0.29             \n",
       "99984   99984 2        3     6                    0.42             \n",
       "99985   99985 1        3     2                    0.21             \n",
       "99986   99986 1        2     7                    0.05             \n",
       "99987   99987 1        4     0                    0.43             \n",
       "99988   99988 1        3     3                    0.05             \n",
       "99989   99989 1        2     7                    0.89             \n",
       "99990   99990 2        3     6                    0.41             \n",
       "99991   99991 1        4     4                    0.96             \n",
       "99992   99992 1        1     1                    0.33             \n",
       "99993   99993 1        4     0                    0.20             \n",
       "99994   99994 1        1     0                    0.38             \n",
       "99995   99995 1        2     2                    0.42             \n",
       "99996   99996 1        2     1                    0.38             \n",
       "99997   99997 1        4     5                    0.71             \n",
       "99998   99998 2        2     0                    0.32             \n",
       "99999   99999 2        3     6                    0.86             \n",
       "100000 100000 1        4     5                    0.43             \n",
       "       u_format_pref u_genre_pref u_rating_given u_other_sub\n",
       "1      1             4            3.05           0          \n",
       "2      1             4            2.01           1          \n",
       "3      2             5            0.47           0          \n",
       "4      2             3            0.43           0          \n",
       "5      1             3            0.69           0          \n",
       "6      1             3            3.79           0          \n",
       "7      2             5            0.32           0          \n",
       "8      1             5            2.76           0          \n",
       "9      1             7            4.41           1          \n",
       "10     1             2            1.94           0          \n",
       "11     1             6            2.66           0          \n",
       "12     1             7            4.52           1          \n",
       "13     1             4            1.07           1          \n",
       "14     1             2            1.22           1          \n",
       "15     1             4            3.57           1          \n",
       "16     2             5            2.13           1          \n",
       "17     2             2            1.14           0          \n",
       "18     1             6            1.85           0          \n",
       "19     2             1            2.11           0          \n",
       "20     1             2            2.43           1          \n",
       "21     2             6            2.82           1          \n",
       "22     3             5            3.76           0          \n",
       "23     1             7            4.34           0          \n",
       "24     1             4            3.96           1          \n",
       "25     3             3            4.17           1          \n",
       "26     2             7            4.35           1          \n",
       "27     2             4            3.99           1          \n",
       "28     2             1            1.05           0          \n",
       "29     1             4            0.99           0          \n",
       "30     2             7            3.50           1          \n",
       "...    ...           ...          ...            ...        \n",
       "99971  1             3            0.54           1          \n",
       "99972  1             7            3.03           1          \n",
       "99973  3             7            0.95           1          \n",
       "99974  2             6            4.64           0          \n",
       "99975  1             5            3.91           1          \n",
       "99976  1             3            1.41           0          \n",
       "99977  2             1            3.27           0          \n",
       "99978  3             2            3.75           1          \n",
       "99979  1             4            1.53           0          \n",
       "99980  3             3            3.41           1          \n",
       "99981  2             3            1.01           1          \n",
       "99982  1             7            2.58           1          \n",
       "99983  1             7            3.11           0          \n",
       "99984  3             4            2.27           1          \n",
       "99985  1             6            1.47           1          \n",
       "99986  2             5            2.44           1          \n",
       "99987  1             3            0.45           0          \n",
       "99988  1             5            3.87           0          \n",
       "99989  2             6            3.78           0          \n",
       "99990  1             2            0.66           1          \n",
       "99991  1             1            1.39           0          \n",
       "99992  1             4            0.05           1          \n",
       "99993  2             5            2.37           1          \n",
       "99994  3             4            0.12           1          \n",
       "99995  2             5            4.52           0          \n",
       "99996  1             3            3.26           0          \n",
       "99997  2             7            2.19           0          \n",
       "99998  1             6            4.31           1          \n",
       "99999  2             5            1.46           0          \n",
       "100000 1             5            1.18           0          "
      ]
     },
     "metadata": {},
     "output_type": "display_data"
    }
   ],
   "source": [
    "USERS"
   ]
  },
  {
   "cell_type": "code",
   "execution_count": 4,
   "metadata": {},
   "outputs": [
    {
     "data": {
      "text/plain": [
       "   \n",
       "        1     2     3     4     5\n",
       "  1  9850     0     0     0     0\n",
       "  2     0 12037 11894  6068     0\n",
       "  3     0 14243 13944  7039     0\n",
       "  4     0  1465 10517  3005     0\n",
       "  5     0   482  3511   940     0\n",
       "  6     0     0  1470     0  3535"
      ]
     },
     "metadata": {},
     "output_type": "display_data"
    },
    {
     "data": {
      "image/png": "[encoded data removed]",
      "text/plain": [
       "plot without title"
      ]
     },
     "metadata": {
      "image/png": {
       "height": 420,
       "width": 420
      }
     },
     "output_type": "display_data"
    }
   ],
   "source": [
    "# defining the users' occupation variable based on some conditions\n",
    "USERS$u_occupation[u_age==1] <- 1\n",
    "USERS$u_occupation[u_age==2|u_age==3] <- sample(c(2,3,4),nrow(USERS[u_age==2|u_age==3]),replace=T,prob=c(0.4,0.4,0.2))\n",
    "USERS$u_occupation[u_age==4|u_age==5] <- sample(c(2,3,4),nrow(USERS[u_age==4|u_age==5]),replace=T,prob=c(0.1,0.7,0.2))\n",
    "USERS$u_occupation[u_age==6] <- sample(c(3,5),nrow(USERS[u_age==6]),replace=T,prob=c(0.3,0.7))\n",
    "# occupation: 1=student 2=part-time 3=full-time 4=unemployed 5=retired\n",
    "# age: 1=<18 2=[18,25) 3=[25,35) 4=[35,45), 5=[45,55), 6=>55\n",
    "\n",
    "table(USERS$u_age, USERS$u_occupation)\n",
    "barplot(table(USERS$u_age, USERS$u_occupation), beside=T, legend=T, col=rainbow(6))"
   ]
  },
  {
   "cell_type": "code",
   "execution_count": 5,
   "metadata": {},
   "outputs": [],
   "source": [
    "# we suppose that our streaming service is focused on action and sci-fi tv-series \n",
    "# u_genre_pref(1=action||4=sci-fi), u_format_pref(1=series), u_age(-), u_occupation(-)\n",
    "# u_other_sub(-), u_rating_given(+), u_sub_utilisation(+), u_weekly_utilisation(+)\n",
    "# add error term from rnorm"
   ]
  },
  {
   "cell_type": "code",
   "execution_count": 6,
   "metadata": {},
   "outputs": [
    {
     "data": {
      "text/plain": [
       "   Min. 1st Qu.  Median    Mean 3rd Qu.    Max. \n",
       " -107.5   389.1   618.5   619.3   849.8  1417.2 "
      ]
     },
     "metadata": {},
     "output_type": "display_data"
    },
    {
     "data": {
      "image/png": "[encoded data removed]",
      "text/plain": [
       "Plot with title \"Histogram of USERS$baseline_score\""
      ]
     },
     "metadata": {
      "image/png": {
       "height": 420,
       "width": 420
      }
     },
     "output_type": "display_data"
    }
   ],
   "source": [
    "# score = u_genre_pref(1|4) 80 + u_format_pref(1) 100 + u_age(1|2) 30 - u_age(3|4|5|6) 30 \n",
    "#         + u_occupation(1|4|5) 30 - u_occupation(2|3) 30 - u_other_sub*55 + u_rating_given*50\n",
    "#         + u_sub_utilisation*130 + u_weekly_utilisation*115 + error \n",
    "# NB: coefficients arbitrarly given\n",
    "# USERS[,score:=u_rating_given*50+u_sub_utilisation*130+u_weekly_utilisation*115-u_other_sub*55+rnorm(1)*100]\n",
    "\n",
    "# Deterministic Portion of Utility\n",
    "USERS[,baseline_score:=u_rating_given*50+u_sub_utilisation*130+u_weekly_utilisation*115-u_other_sub*55]\n",
    "USERS[u_genre_pref==1|u_genre_pref==4, baseline_score:=baseline_score+80]\n",
    "USERS[u_format_pref==1, baseline_score:=baseline_score+100]\n",
    "USERS[,baseline_score:=ifelse(u_age==1|u_age==2,baseline_score+30,baseline_score-30)] \n",
    "USERS[,baseline_score:=ifelse(u_occupation==2|u_occupation==3,baseline_score-30,baseline_score+30)] \n",
    "\n",
    "summary(USERS$baseline_score)\n",
    "hist(USERS$baseline_score)"
   ]
  },
  {
   "cell_type": "code",
   "execution_count": 7,
   "metadata": {
    "scrolled": true
   },
   "outputs": [
    {
     "data": {
      "text/plain": [
       "   Min. 1st Qu.  Median    Mean 3rd Qu.    Max. \n",
       " -12.31  484.29  713.69  714.45  944.99 1512.39 "
      ]
     },
     "metadata": {},
     "output_type": "display_data"
    },
    {
     "data": {
      "image/png": "[encoded data removed]",
      "text/plain": [
       "Plot with title \"Histogram of USERS$baseline_score\""
      ]
     },
     "metadata": {
      "image/png": {
       "height": 420,
       "width": 420
      }
     },
     "output_type": "display_data"
    }
   ],
   "source": [
    "# Random Component of Utility (observable to customers but unobservable to the econometrician)\n",
    "USERS$baseline_score=USERS$baseline_score+rnorm(1,0,70)\n",
    "\n",
    "# NOTE: Remember to set appropriate size for the noise\n",
    "\n",
    "summary(USERS$baseline_score)\n",
    "hist(USERS$baseline_score)"
   ]
  },
  {
   "cell_type": "code",
   "execution_count": 8,
   "metadata": {
    "scrolled": true
   },
   "outputs": [
    {
     "data": {
      "text/plain": [
       "   Min. 1st Qu.  Median    Mean 3rd Qu.    Max. \n",
       " -43.28    0.00    0.00   20.04   40.10  119.16 "
      ]
     },
     "metadata": {},
     "output_type": "display_data"
    },
    {
     "data": {
      "image/png": "[encoded data removed]",
      "text/plain": [
       "Plot with title \"Histogram of USERS$treatment_score\""
      ]
     },
     "metadata": {
      "image/png": {
       "height": 420,
       "width": 420
      }
     },
     "output_type": "display_data"
    }
   ],
   "source": [
    "# Creating Treatment Effects\n",
    "\n",
    "# treatment variable randomly assigned to the users\n",
    "USERS$treated <- sample(0:1,num_users,replace=T)\n",
    "\n",
    "# The impact of our policy can be divided into two components: \n",
    "# First: an additive component independent of covariates and positive on average\n",
    "USERS[,treatment_score:=ifelse(treated==1,rnorm(num_users,40,20),0)]\n",
    "summary(USERS$treatment_score)\n",
    "hist(USERS$treatment_score)\n",
    "# NOTE: Remember to set appropriate size for the random component\n"
   ]
  },
  {
   "cell_type": "code",
   "execution_count": 9,
   "metadata": {},
   "outputs": [
    {
     "data": {
      "text/plain": [
       "   Min. 1st Qu.  Median    Mean 3rd Qu.    Max. \n",
       " -28.22    0.00    0.00   80.23  153.44  393.40 "
      ]
     },
     "metadata": {},
     "output_type": "display_data"
    },
    {
     "data": {
      "image/png": "[encoded data removed]",
      "text/plain": [
       "Plot with title \"Histogram of USERS$treatment_score\""
      ]
     },
     "metadata": {
      "image/png": {
       "height": 420,
       "width": 420
      }
     },
     "output_type": "display_data"
    }
   ],
   "source": [
    "# Second: part of the effect depends on some user's characteristics (interactions).\n",
    "# For example, #to capture the higher price sensitivity of young people and students/unemployed:\n",
    "USERS[treated==1,treatment_score:=ifelse(u_age==1|u_age==2,treatment_score+70,treatment_score)]\n",
    "USERS[treated==1,treatment_score:=ifelse(u_occupation==2|u_occupation==3|u_occupation==5,treatment_score,treatment_score+100)] \n",
    "# We may assume we face different degrees of competition depending on the favorite genre of users: \n",
    "USERS[treated==1,treatment_score:=ifelse(u_genre_pref==2|u_genre_pref==3,treatment_score,treatment_score+50)] \n",
    "# Finally, a voucher would reduce multihoming costs of being subscribed to multiple platforms\n",
    "USERS[u_other_sub==1&treated==1, treatment_score:=treatment_score+60]\n",
    "\n",
    "# Overall, we get\n",
    "summary(USERS$treatment_score)\n",
    "hist(USERS$treatment_score)"
   ]
  },
  {
   "cell_type": "code",
   "execution_count": 10,
   "metadata": {},
   "outputs": [
    {
     "data": {
      "text/plain": [
       "   Min. 1st Qu.  Median    Mean 3rd Qu.    Max. \n",
       " -12.31  556.79  795.89  794.68 1026.27 1796.81 "
      ]
     },
     "metadata": {},
     "output_type": "display_data"
    },
    {
     "data": {
      "image/png": "[encoded data removed]",
      "text/plain": [
       "Plot with title \"Histogram of USERS$total_score\""
      ]
     },
     "metadata": {
      "image/png": {
       "height": 420,
       "width": 420
      }
     },
     "output_type": "display_data"
    }
   ],
   "source": [
    "# Unifying baseline and treatment  scores\n",
    "USERS$total_score=USERS$baseline_score+USERS$treatment_score\n",
    "summary(USERS$total_score)\n",
    "hist(USERS$total_score)"
   ]
  },
  {
   "cell_type": "code",
   "execution_count": 11,
   "metadata": {},
   "outputs": [
    {
     "data": {
      "text/plain": [
       "   Min. 1st Qu.  Median    Mean 3rd Qu.    Max. \n",
       " 0.0000  1.0000  1.0000  0.9003  1.0000  1.0000 "
      ]
     },
     "metadata": {},
     "output_type": "display_data"
    }
   ],
   "source": [
    "#How to assign churn?\n",
    "#Assume that 15% of customer churn\n",
    "threshold_churn=quantile(USERS$baseline_score, prob=c(.15))\n",
    "USERS[,resub:=ifelse(total_score>threshold_churn,1,0)] \n",
    "summary(USERS$resub)"
   ]
  },
  {
   "cell_type": "code",
   "execution_count": 12,
   "metadata": {
    "scrolled": true
   },
   "outputs": [
    {
     "data": {
      "text/html": [
       "<table class=\"dataframe\">\n",
       "<caption>A data.table: 100000 × 15</caption>\n",
       "<thead>\n",
       "\t<tr><th scope=col>u_id</th><th scope=col>u_gender</th><th scope=col>u_age</th><th scope=col>u_weekly_utilisation</th><th scope=col>u_sub_utilisation</th><th scope=col>u_format_pref</th><th scope=col>u_genre_pref</th><th scope=col>u_rating_given</th><th scope=col>u_other_sub</th><th scope=col>u_occupation</th><th scope=col>baseline_score</th><th scope=col>treated</th><th scope=col>treatment_score</th><th scope=col>total_score</th><th scope=col>resub</th></tr>\n",
       "\t<tr><th scope=col>&lt;int&gt;</th><th scope=col>&lt;dbl&gt;</th><th scope=col>&lt;dbl&gt;</th><th scope=col>&lt;int&gt;</th><th scope=col>&lt;dbl&gt;</th><th scope=col>&lt;dbl&gt;</th><th scope=col>&lt;int&gt;</th><th scope=col>&lt;dbl&gt;</th><th scope=col>&lt;int&gt;</th><th scope=col>&lt;dbl&gt;</th><th scope=col>&lt;dbl&gt;</th><th scope=col>&lt;int&gt;</th><th scope=col>&lt;dbl&gt;</th><th scope=col>&lt;dbl&gt;</th><th scope=col>&lt;dbl&gt;</th></tr>\n",
       "</thead>\n",
       "<tbody>\n",
       "\t<tr><td> 1</td><td>2</td><td>2</td><td>2</td><td>0.40</td><td>1</td><td>4</td><td>3.05</td><td>0</td><td>4</td><td> 769.693</td><td>1</td><td>251.14148</td><td>1020.8345</td><td>1</td></tr>\n",
       "\t<tr><td> 2</td><td>2</td><td>3</td><td>1</td><td>0.38</td><td>1</td><td>4</td><td>2.01</td><td>1</td><td>3</td><td> 425.093</td><td>0</td><td>  0.00000</td><td> 425.0930</td><td>1</td></tr>\n",
       "\t<tr><td> 3</td><td>2</td><td>2</td><td>6</td><td>0.31</td><td>2</td><td>5</td><td>0.47</td><td>0</td><td>3</td><td> 848.993</td><td>0</td><td>  0.00000</td><td> 848.9930</td><td>1</td></tr>\n",
       "\t<tr><td> 4</td><td>1</td><td>4</td><td>6</td><td>0.09</td><td>2</td><td>3</td><td>0.43</td><td>0</td><td>4</td><td> 818.393</td><td>1</td><td>149.06428</td><td> 967.4573</td><td>1</td></tr>\n",
       "\t<tr><td> 5</td><td>2</td><td>3</td><td>0</td><td>0.33</td><td>1</td><td>3</td><td>0.69</td><td>0</td><td>2</td><td> 212.593</td><td>1</td><td> 19.37872</td><td> 231.9717</td><td>0</td></tr>\n",
       "\t<tr><td> 6</td><td>2</td><td>3</td><td>7</td><td>0.06</td><td>1</td><td>3</td><td>3.79</td><td>0</td><td>3</td><td>1137.493</td><td>1</td><td> 42.37630</td><td>1179.8693</td><td>1</td></tr>\n",
       "\t<tr><td> 7</td><td>1</td><td>3</td><td>6</td><td>0.82</td><td>2</td><td>5</td><td>0.32</td><td>0</td><td>4</td><td> 907.793</td><td>0</td><td>  0.00000</td><td> 907.7930</td><td>1</td></tr>\n",
       "\t<tr><td> 8</td><td>1</td><td>3</td><td>6</td><td>0.16</td><td>1</td><td>5</td><td>2.76</td><td>0</td><td>2</td><td> 983.993</td><td>1</td><td> 72.06029</td><td>1056.0533</td><td>1</td></tr>\n",
       "\t<tr><td> 9</td><td>2</td><td>2</td><td>1</td><td>0.84</td><td>1</td><td>7</td><td>4.41</td><td>1</td><td>2</td><td> 584.893</td><td>0</td><td>  0.00000</td><td> 584.8930</td><td>1</td></tr>\n",
       "\t<tr><td>10</td><td>2</td><td>2</td><td>1</td><td>0.55</td><td>1</td><td>2</td><td>1.94</td><td>0</td><td>3</td><td> 478.693</td><td>0</td><td>  0.00000</td><td> 478.6930</td><td>1</td></tr>\n",
       "\t<tr><td>11</td><td>1</td><td>4</td><td>5</td><td>0.24</td><td>1</td><td>6</td><td>2.66</td><td>0</td><td>3</td><td> 874.393</td><td>1</td><td> 55.02383</td><td> 929.4168</td><td>1</td></tr>\n",
       "\t<tr><td>12</td><td>2</td><td>2</td><td>3</td><td>0.69</td><td>1</td><td>7</td><td>4.52</td><td>1</td><td>4</td><td> 860.893</td><td>1</td><td>316.72198</td><td>1177.6150</td><td>1</td></tr>\n",
       "\t<tr><td>13</td><td>1</td><td>3</td><td>4</td><td>0.73</td><td>1</td><td>4</td><td>1.07</td><td>1</td><td>2</td><td> 768.593</td><td>1</td><td>148.70758</td><td> 917.3006</td><td>1</td></tr>\n",
       "\t<tr><td>14</td><td>1</td><td>2</td><td>3</td><td>0.93</td><td>1</td><td>2</td><td>1.22</td><td>1</td><td>3</td><td> 667.093</td><td>1</td><td>145.21798</td><td> 812.3110</td><td>1</td></tr>\n",
       "\t<tr><td>15</td><td>1</td><td>2</td><td>4</td><td>0.05</td><td>1</td><td>4</td><td>3.57</td><td>1</td><td>2</td><td> 865.193</td><td>0</td><td>  0.00000</td><td> 865.1930</td><td>1</td></tr>\n",
       "\t<tr><td>16</td><td>1</td><td>2</td><td>6</td><td>0.62</td><td>2</td><td>5</td><td>2.13</td><td>1</td><td>2</td><td> 917.293</td><td>1</td><td>183.58612</td><td>1100.8791</td><td>1</td></tr>\n",
       "\t<tr><td>17</td><td>1</td><td>3</td><td>0</td><td>0.52</td><td>2</td><td>2</td><td>1.14</td><td>0</td><td>3</td><td> 159.793</td><td>1</td><td> 62.68076</td><td> 222.4738</td><td>0</td></tr>\n",
       "\t<tr><td>18</td><td>2</td><td>3</td><td>3</td><td>0.91</td><td>1</td><td>6</td><td>1.85</td><td>0</td><td>2</td><td> 690.993</td><td>1</td><td>112.04741</td><td> 803.0404</td><td>1</td></tr>\n",
       "\t<tr><td>19</td><td>2</td><td>2</td><td>6</td><td>0.90</td><td>2</td><td>1</td><td>2.11</td><td>0</td><td>4</td><td>1147.693</td><td>0</td><td>  0.00000</td><td>1147.6930</td><td>1</td></tr>\n",
       "\t<tr><td>20</td><td>2</td><td>1</td><td>3</td><td>0.45</td><td>1</td><td>2</td><td>2.43</td><td>1</td><td>1</td><td> 725.193</td><td>0</td><td>  0.00000</td><td> 725.1930</td><td>1</td></tr>\n",
       "\t<tr><td>21</td><td>1</td><td>1</td><td>2</td><td>0.92</td><td>2</td><td>6</td><td>2.82</td><td>1</td><td>1</td><td> 590.793</td><td>1</td><td>354.71812</td><td> 945.5111</td><td>1</td></tr>\n",
       "\t<tr><td>22</td><td>2</td><td>2</td><td>3</td><td>0.29</td><td>3</td><td>5</td><td>3.76</td><td>0</td><td>3</td><td> 665.893</td><td>1</td><td>162.27018</td><td> 828.1632</td><td>1</td></tr>\n",
       "\t<tr><td>23</td><td>1</td><td>4</td><td>5</td><td>0.81</td><td>1</td><td>7</td><td>4.34</td><td>0</td><td>4</td><td>1092.493</td><td>0</td><td>  0.00000</td><td>1092.4930</td><td>1</td></tr>\n",
       "\t<tr><td>24</td><td>2</td><td>2</td><td>0</td><td>0.26</td><td>1</td><td>4</td><td>3.96</td><td>1</td><td>2</td><td> 451.993</td><td>0</td><td>  0.00000</td><td> 451.9930</td><td>1</td></tr>\n",
       "\t<tr><td>25</td><td>2</td><td>2</td><td>3</td><td>0.15</td><td>3</td><td>3</td><td>4.17</td><td>1</td><td>3</td><td> 613.193</td><td>0</td><td>  0.00000</td><td> 613.1930</td><td>1</td></tr>\n",
       "\t<tr><td>26</td><td>1</td><td>4</td><td>6</td><td>0.11</td><td>2</td><td>7</td><td>4.35</td><td>1</td><td>3</td><td> 901.993</td><td>0</td><td>  0.00000</td><td> 901.9930</td><td>1</td></tr>\n",
       "\t<tr><td>27</td><td>1</td><td>1</td><td>0</td><td>0.09</td><td>2</td><td>4</td><td>3.99</td><td>1</td><td>1</td><td> 391.393</td><td>0</td><td>  0.00000</td><td> 391.3930</td><td>1</td></tr>\n",
       "\t<tr><td>28</td><td>1</td><td>3</td><td>5</td><td>0.64</td><td>2</td><td>1</td><td>1.05</td><td>0</td><td>3</td><td> 825.893</td><td>1</td><td>108.98711</td><td> 934.8801</td><td>1</td></tr>\n",
       "\t<tr><td>29</td><td>1</td><td>4</td><td>7</td><td>0.96</td><td>1</td><td>4</td><td>0.99</td><td>0</td><td>3</td><td>1194.493</td><td>0</td><td>  0.00000</td><td>1194.4930</td><td>1</td></tr>\n",
       "\t<tr><td>30</td><td>1</td><td>2</td><td>1</td><td>0.49</td><td>2</td><td>7</td><td>3.50</td><td>1</td><td>3</td><td> 393.893</td><td>0</td><td>  0.00000</td><td> 393.8930</td><td>1</td></tr>\n",
       "\t<tr><td>...</td><td>...</td><td>...</td><td>...</td><td>...</td><td>...</td><td>...</td><td>...</td><td>...</td><td>...</td><td>...</td><td>...</td><td>...</td><td>...</td><td>...</td></tr>\n",
       "\t<tr><td> 99971</td><td>2</td><td>3</td><td>1</td><td>0.16</td><td>1</td><td>3</td><td>0.54</td><td>1</td><td>4</td><td> 302.993</td><td>0</td><td>  0.000000</td><td> 302.9930</td><td>0</td></tr>\n",
       "\t<tr><td> 99972</td><td>1</td><td>3</td><td>7</td><td>0.16</td><td>1</td><td>7</td><td>3.03</td><td>1</td><td>3</td><td>1057.493</td><td>0</td><td>  0.000000</td><td>1057.4930</td><td>1</td></tr>\n",
       "\t<tr><td> 99973</td><td>2</td><td>6</td><td>0</td><td>0.23</td><td>3</td><td>7</td><td>0.95</td><td>1</td><td>5</td><td> 117.593</td><td>0</td><td>  0.000000</td><td> 117.5930</td><td>0</td></tr>\n",
       "\t<tr><td> 99974</td><td>2</td><td>2</td><td>2</td><td>0.55</td><td>2</td><td>6</td><td>4.64</td><td>0</td><td>4</td><td> 688.693</td><td>0</td><td>  0.000000</td><td> 688.6930</td><td>1</td></tr>\n",
       "\t<tr><td> 99975</td><td>2</td><td>3</td><td>7</td><td>0.80</td><td>1</td><td>5</td><td>3.91</td><td>1</td><td>4</td><td>1244.693</td><td>0</td><td>  0.000000</td><td>1244.6930</td><td>1</td></tr>\n",
       "\t<tr><td> 99976</td><td>1</td><td>4</td><td>0</td><td>0.32</td><td>1</td><td>3</td><td>1.41</td><td>0</td><td>3</td><td> 247.293</td><td>1</td><td> -2.150143</td><td> 245.1429</td><td>0</td></tr>\n",
       "\t<tr><td> 99977</td><td>2</td><td>3</td><td>2</td><td>0.32</td><td>2</td><td>1</td><td>3.27</td><td>0</td><td>4</td><td> 610.293</td><td>1</td><td>172.011606</td><td> 782.3046</td><td>1</td></tr>\n",
       "\t<tr><td> 99978</td><td>2</td><td>2</td><td>5</td><td>0.93</td><td>3</td><td>2</td><td>3.75</td><td>1</td><td>3</td><td> 923.593</td><td>1</td><td>170.806918</td><td>1094.3999</td><td>1</td></tr>\n",
       "\t<tr><td> 99979</td><td>1</td><td>1</td><td>3</td><td>0.45</td><td>1</td><td>4</td><td>1.53</td><td>0</td><td>1</td><td> 815.193</td><td>0</td><td>  0.000000</td><td> 815.1930</td><td>1</td></tr>\n",
       "\t<tr><td> 99980</td><td>1</td><td>4</td><td>7</td><td>0.93</td><td>3</td><td>3</td><td>3.41</td><td>1</td><td>3</td><td>1076.593</td><td>0</td><td>  0.000000</td><td>1076.5930</td><td>1</td></tr>\n",
       "\t<tr><td> 99981</td><td>2</td><td>4</td><td>1</td><td>0.36</td><td>2</td><td>3</td><td>1.01</td><td>1</td><td>3</td><td> 192.493</td><td>1</td><td>122.201948</td><td> 314.6950</td><td>0</td></tr>\n",
       "\t<tr><td> 99982</td><td>1</td><td>2</td><td>1</td><td>0.10</td><td>1</td><td>7</td><td>2.58</td><td>1</td><td>3</td><td> 397.193</td><td>1</td><td>234.891119</td><td> 632.0841</td><td>1</td></tr>\n",
       "\t<tr><td> 99983</td><td>2</td><td>1</td><td>3</td><td>0.29</td><td>1</td><td>7</td><td>3.11</td><td>0</td><td>1</td><td> 793.393</td><td>1</td><td>272.327239</td><td>1065.7202</td><td>1</td></tr>\n",
       "\t<tr><td> 99984</td><td>2</td><td>3</td><td>6</td><td>0.42</td><td>3</td><td>4</td><td>2.27</td><td>1</td><td>3</td><td> 918.293</td><td>1</td><td>174.239125</td><td>1092.5321</td><td>1</td></tr>\n",
       "\t<tr><td> 99985</td><td>1</td><td>3</td><td>2</td><td>0.21</td><td>1</td><td>6</td><td>1.47</td><td>1</td><td>2</td><td> 410.993</td><td>1</td><td>147.821982</td><td> 558.8150</td><td>1</td></tr>\n",
       "\t<tr><td> 99986</td><td>1</td><td>2</td><td>7</td><td>0.05</td><td>2</td><td>5</td><td>2.44</td><td>1</td><td>2</td><td> 973.693</td><td>1</td><td>202.675542</td><td>1176.3685</td><td>1</td></tr>\n",
       "\t<tr><td> 99987</td><td>1</td><td>4</td><td>0</td><td>0.43</td><td>1</td><td>3</td><td>0.45</td><td>0</td><td>3</td><td> 213.593</td><td>1</td><td> 70.892972</td><td> 284.4860</td><td>0</td></tr>\n",
       "\t<tr><td> 99988</td><td>1</td><td>3</td><td>3</td><td>0.05</td><td>1</td><td>5</td><td>3.87</td><td>0</td><td>3</td><td> 680.193</td><td>0</td><td>  0.000000</td><td> 680.1930</td><td>1</td></tr>\n",
       "\t<tr><td> 99989</td><td>1</td><td>2</td><td>7</td><td>0.89</td><td>2</td><td>6</td><td>3.78</td><td>0</td><td>2</td><td>1204.893</td><td>0</td><td>  0.000000</td><td>1204.8930</td><td>1</td></tr>\n",
       "\t<tr><td> 99990</td><td>2</td><td>3</td><td>6</td><td>0.41</td><td>1</td><td>2</td><td>0.66</td><td>1</td><td>4</td><td> 916.493</td><td>0</td><td>  0.000000</td><td> 916.4930</td><td>1</td></tr>\n",
       "\t<tr><td> 99991</td><td>1</td><td>4</td><td>4</td><td>0.96</td><td>1</td><td>1</td><td>1.39</td><td>0</td><td>3</td><td> 869.493</td><td>0</td><td>  0.000000</td><td> 869.4930</td><td>1</td></tr>\n",
       "\t<tr><td> 99992</td><td>1</td><td>1</td><td>1</td><td>0.33</td><td>1</td><td>4</td><td>0.05</td><td>1</td><td>1</td><td> 440.593</td><td>0</td><td>  0.000000</td><td> 440.5930</td><td>1</td></tr>\n",
       "\t<tr><td> 99993</td><td>1</td><td>4</td><td>0</td><td>0.20</td><td>2</td><td>5</td><td>2.37</td><td>1</td><td>3</td><td> 124.693</td><td>0</td><td>  0.000000</td><td> 124.6930</td><td>0</td></tr>\n",
       "\t<tr><td> 99994</td><td>1</td><td>1</td><td>0</td><td>0.38</td><td>3</td><td>4</td><td>0.12</td><td>1</td><td>1</td><td> 235.593</td><td>0</td><td>  0.000000</td><td> 235.5930</td><td>0</td></tr>\n",
       "\t<tr><td> 99995</td><td>1</td><td>2</td><td>2</td><td>0.42</td><td>2</td><td>5</td><td>4.52</td><td>0</td><td>3</td><td> 605.793</td><td>1</td><td>171.695075</td><td> 777.4881</td><td>1</td></tr>\n",
       "\t<tr><td> 99996</td><td>1</td><td>2</td><td>1</td><td>0.38</td><td>1</td><td>3</td><td>3.26</td><td>0</td><td>2</td><td> 522.593</td><td>0</td><td>  0.000000</td><td> 522.5930</td><td>1</td></tr>\n",
       "\t<tr><td> 99997</td><td>1</td><td>4</td><td>5</td><td>0.71</td><td>2</td><td>7</td><td>2.19</td><td>0</td><td>3</td><td> 811.993</td><td>0</td><td>  0.000000</td><td> 811.9930</td><td>1</td></tr>\n",
       "\t<tr><td> 99998</td><td>2</td><td>2</td><td>0</td><td>0.32</td><td>1</td><td>6</td><td>4.31</td><td>1</td><td>2</td><td> 397.293</td><td>0</td><td>  0.000000</td><td> 397.2930</td><td>1</td></tr>\n",
       "\t<tr><td> 99999</td><td>2</td><td>3</td><td>6</td><td>0.86</td><td>2</td><td>5</td><td>1.46</td><td>0</td><td>3</td><td> 909.993</td><td>0</td><td>  0.000000</td><td> 909.9930</td><td>1</td></tr>\n",
       "\t<tr><td>100000</td><td>1</td><td>4</td><td>5</td><td>0.43</td><td>1</td><td>5</td><td>1.18</td><td>0</td><td>3</td><td> 825.093</td><td>0</td><td>  0.000000</td><td> 825.0930</td><td>1</td></tr>\n",
       "</tbody>\n",
       "</table>\n"
      ],
      "text/latex": [
       "A data.table: 100000 × 15\n",
       "\\begin{tabular}{lllllllllllllll}\n",
       " u\\_id & u\\_gender & u\\_age & u\\_weekly\\_utilisation & u\\_sub\\_utilisation & u\\_format\\_pref & u\\_genre\\_pref & u\\_rating\\_given & u\\_other\\_sub & u\\_occupation & baseline\\_score & treated & treatment\\_score & total\\_score & resub\\\\\n",
       " <int> & <dbl> & <dbl> & <int> & <dbl> & <dbl> & <int> & <dbl> & <int> & <dbl> & <dbl> & <int> & <dbl> & <dbl> & <dbl>\\\\\n",
       "\\hline\n",
       "\t  1 & 2 & 2 & 2 & 0.40 & 1 & 4 & 3.05 & 0 & 4 &  769.693 & 1 & 251.14148 & 1020.8345 & 1\\\\\n",
       "\t  2 & 2 & 3 & 1 & 0.38 & 1 & 4 & 2.01 & 1 & 3 &  425.093 & 0 &   0.00000 &  425.0930 & 1\\\\\n",
       "\t  3 & 2 & 2 & 6 & 0.31 & 2 & 5 & 0.47 & 0 & 3 &  848.993 & 0 &   0.00000 &  848.9930 & 1\\\\\n",
       "\t  4 & 1 & 4 & 6 & 0.09 & 2 & 3 & 0.43 & 0 & 4 &  818.393 & 1 & 149.06428 &  967.4573 & 1\\\\\n",
       "\t  5 & 2 & 3 & 0 & 0.33 & 1 & 3 & 0.69 & 0 & 2 &  212.593 & 1 &  19.37872 &  231.9717 & 0\\\\\n",
       "\t  6 & 2 & 3 & 7 & 0.06 & 1 & 3 & 3.79 & 0 & 3 & 1137.493 & 1 &  42.37630 & 1179.8693 & 1\\\\\n",
       "\t  7 & 1 & 3 & 6 & 0.82 & 2 & 5 & 0.32 & 0 & 4 &  907.793 & 0 &   0.00000 &  907.7930 & 1\\\\\n",
       "\t  8 & 1 & 3 & 6 & 0.16 & 1 & 5 & 2.76 & 0 & 2 &  983.993 & 1 &  72.06029 & 1056.0533 & 1\\\\\n",
       "\t  9 & 2 & 2 & 1 & 0.84 & 1 & 7 & 4.41 & 1 & 2 &  584.893 & 0 &   0.00000 &  584.8930 & 1\\\\\n",
       "\t 10 & 2 & 2 & 1 & 0.55 & 1 & 2 & 1.94 & 0 & 3 &  478.693 & 0 &   0.00000 &  478.6930 & 1\\\\\n",
       "\t 11 & 1 & 4 & 5 & 0.24 & 1 & 6 & 2.66 & 0 & 3 &  874.393 & 1 &  55.02383 &  929.4168 & 1\\\\\n",
       "\t 12 & 2 & 2 & 3 & 0.69 & 1 & 7 & 4.52 & 1 & 4 &  860.893 & 1 & 316.72198 & 1177.6150 & 1\\\\\n",
       "\t 13 & 1 & 3 & 4 & 0.73 & 1 & 4 & 1.07 & 1 & 2 &  768.593 & 1 & 148.70758 &  917.3006 & 1\\\\\n",
       "\t 14 & 1 & 2 & 3 & 0.93 & 1 & 2 & 1.22 & 1 & 3 &  667.093 & 1 & 145.21798 &  812.3110 & 1\\\\\n",
       "\t 15 & 1 & 2 & 4 & 0.05 & 1 & 4 & 3.57 & 1 & 2 &  865.193 & 0 &   0.00000 &  865.1930 & 1\\\\\n",
       "\t 16 & 1 & 2 & 6 & 0.62 & 2 & 5 & 2.13 & 1 & 2 &  917.293 & 1 & 183.58612 & 1100.8791 & 1\\\\\n",
       "\t 17 & 1 & 3 & 0 & 0.52 & 2 & 2 & 1.14 & 0 & 3 &  159.793 & 1 &  62.68076 &  222.4738 & 0\\\\\n",
       "\t 18 & 2 & 3 & 3 & 0.91 & 1 & 6 & 1.85 & 0 & 2 &  690.993 & 1 & 112.04741 &  803.0404 & 1\\\\\n",
       "\t 19 & 2 & 2 & 6 & 0.90 & 2 & 1 & 2.11 & 0 & 4 & 1147.693 & 0 &   0.00000 & 1147.6930 & 1\\\\\n",
       "\t 20 & 2 & 1 & 3 & 0.45 & 1 & 2 & 2.43 & 1 & 1 &  725.193 & 0 &   0.00000 &  725.1930 & 1\\\\\n",
       "\t 21 & 1 & 1 & 2 & 0.92 & 2 & 6 & 2.82 & 1 & 1 &  590.793 & 1 & 354.71812 &  945.5111 & 1\\\\\n",
       "\t 22 & 2 & 2 & 3 & 0.29 & 3 & 5 & 3.76 & 0 & 3 &  665.893 & 1 & 162.27018 &  828.1632 & 1\\\\\n",
       "\t 23 & 1 & 4 & 5 & 0.81 & 1 & 7 & 4.34 & 0 & 4 & 1092.493 & 0 &   0.00000 & 1092.4930 & 1\\\\\n",
       "\t 24 & 2 & 2 & 0 & 0.26 & 1 & 4 & 3.96 & 1 & 2 &  451.993 & 0 &   0.00000 &  451.9930 & 1\\\\\n",
       "\t 25 & 2 & 2 & 3 & 0.15 & 3 & 3 & 4.17 & 1 & 3 &  613.193 & 0 &   0.00000 &  613.1930 & 1\\\\\n",
       "\t 26 & 1 & 4 & 6 & 0.11 & 2 & 7 & 4.35 & 1 & 3 &  901.993 & 0 &   0.00000 &  901.9930 & 1\\\\\n",
       "\t 27 & 1 & 1 & 0 & 0.09 & 2 & 4 & 3.99 & 1 & 1 &  391.393 & 0 &   0.00000 &  391.3930 & 1\\\\\n",
       "\t 28 & 1 & 3 & 5 & 0.64 & 2 & 1 & 1.05 & 0 & 3 &  825.893 & 1 & 108.98711 &  934.8801 & 1\\\\\n",
       "\t 29 & 1 & 4 & 7 & 0.96 & 1 & 4 & 0.99 & 0 & 3 & 1194.493 & 0 &   0.00000 & 1194.4930 & 1\\\\\n",
       "\t 30 & 1 & 2 & 1 & 0.49 & 2 & 7 & 3.50 & 1 & 3 &  393.893 & 0 &   0.00000 &  393.8930 & 1\\\\\n",
       "\t ... & ... & ... & ... & ... & ... & ... & ... & ... & ... & ... & ... & ... & ... & ...\\\\\n",
       "\t  99971 & 2 & 3 & 1 & 0.16 & 1 & 3 & 0.54 & 1 & 4 &  302.993 & 0 &   0.000000 &  302.9930 & 0\\\\\n",
       "\t  99972 & 1 & 3 & 7 & 0.16 & 1 & 7 & 3.03 & 1 & 3 & 1057.493 & 0 &   0.000000 & 1057.4930 & 1\\\\\n",
       "\t  99973 & 2 & 6 & 0 & 0.23 & 3 & 7 & 0.95 & 1 & 5 &  117.593 & 0 &   0.000000 &  117.5930 & 0\\\\\n",
       "\t  99974 & 2 & 2 & 2 & 0.55 & 2 & 6 & 4.64 & 0 & 4 &  688.693 & 0 &   0.000000 &  688.6930 & 1\\\\\n",
       "\t  99975 & 2 & 3 & 7 & 0.80 & 1 & 5 & 3.91 & 1 & 4 & 1244.693 & 0 &   0.000000 & 1244.6930 & 1\\\\\n",
       "\t  99976 & 1 & 4 & 0 & 0.32 & 1 & 3 & 1.41 & 0 & 3 &  247.293 & 1 &  -2.150143 &  245.1429 & 0\\\\\n",
       "\t  99977 & 2 & 3 & 2 & 0.32 & 2 & 1 & 3.27 & 0 & 4 &  610.293 & 1 & 172.011606 &  782.3046 & 1\\\\\n",
       "\t  99978 & 2 & 2 & 5 & 0.93 & 3 & 2 & 3.75 & 1 & 3 &  923.593 & 1 & 170.806918 & 1094.3999 & 1\\\\\n",
       "\t  99979 & 1 & 1 & 3 & 0.45 & 1 & 4 & 1.53 & 0 & 1 &  815.193 & 0 &   0.000000 &  815.1930 & 1\\\\\n",
       "\t  99980 & 1 & 4 & 7 & 0.93 & 3 & 3 & 3.41 & 1 & 3 & 1076.593 & 0 &   0.000000 & 1076.5930 & 1\\\\\n",
       "\t  99981 & 2 & 4 & 1 & 0.36 & 2 & 3 & 1.01 & 1 & 3 &  192.493 & 1 & 122.201948 &  314.6950 & 0\\\\\n",
       "\t  99982 & 1 & 2 & 1 & 0.10 & 1 & 7 & 2.58 & 1 & 3 &  397.193 & 1 & 234.891119 &  632.0841 & 1\\\\\n",
       "\t  99983 & 2 & 1 & 3 & 0.29 & 1 & 7 & 3.11 & 0 & 1 &  793.393 & 1 & 272.327239 & 1065.7202 & 1\\\\\n",
       "\t  99984 & 2 & 3 & 6 & 0.42 & 3 & 4 & 2.27 & 1 & 3 &  918.293 & 1 & 174.239125 & 1092.5321 & 1\\\\\n",
       "\t  99985 & 1 & 3 & 2 & 0.21 & 1 & 6 & 1.47 & 1 & 2 &  410.993 & 1 & 147.821982 &  558.8150 & 1\\\\\n",
       "\t  99986 & 1 & 2 & 7 & 0.05 & 2 & 5 & 2.44 & 1 & 2 &  973.693 & 1 & 202.675542 & 1176.3685 & 1\\\\\n",
       "\t  99987 & 1 & 4 & 0 & 0.43 & 1 & 3 & 0.45 & 0 & 3 &  213.593 & 1 &  70.892972 &  284.4860 & 0\\\\\n",
       "\t  99988 & 1 & 3 & 3 & 0.05 & 1 & 5 & 3.87 & 0 & 3 &  680.193 & 0 &   0.000000 &  680.1930 & 1\\\\\n",
       "\t  99989 & 1 & 2 & 7 & 0.89 & 2 & 6 & 3.78 & 0 & 2 & 1204.893 & 0 &   0.000000 & 1204.8930 & 1\\\\\n",
       "\t  99990 & 2 & 3 & 6 & 0.41 & 1 & 2 & 0.66 & 1 & 4 &  916.493 & 0 &   0.000000 &  916.4930 & 1\\\\\n",
       "\t  99991 & 1 & 4 & 4 & 0.96 & 1 & 1 & 1.39 & 0 & 3 &  869.493 & 0 &   0.000000 &  869.4930 & 1\\\\\n",
       "\t  99992 & 1 & 1 & 1 & 0.33 & 1 & 4 & 0.05 & 1 & 1 &  440.593 & 0 &   0.000000 &  440.5930 & 1\\\\\n",
       "\t  99993 & 1 & 4 & 0 & 0.20 & 2 & 5 & 2.37 & 1 & 3 &  124.693 & 0 &   0.000000 &  124.6930 & 0\\\\\n",
       "\t  99994 & 1 & 1 & 0 & 0.38 & 3 & 4 & 0.12 & 1 & 1 &  235.593 & 0 &   0.000000 &  235.5930 & 0\\\\\n",
       "\t  99995 & 1 & 2 & 2 & 0.42 & 2 & 5 & 4.52 & 0 & 3 &  605.793 & 1 & 171.695075 &  777.4881 & 1\\\\\n",
       "\t  99996 & 1 & 2 & 1 & 0.38 & 1 & 3 & 3.26 & 0 & 2 &  522.593 & 0 &   0.000000 &  522.5930 & 1\\\\\n",
       "\t  99997 & 1 & 4 & 5 & 0.71 & 2 & 7 & 2.19 & 0 & 3 &  811.993 & 0 &   0.000000 &  811.9930 & 1\\\\\n",
       "\t  99998 & 2 & 2 & 0 & 0.32 & 1 & 6 & 4.31 & 1 & 2 &  397.293 & 0 &   0.000000 &  397.2930 & 1\\\\\n",
       "\t  99999 & 2 & 3 & 6 & 0.86 & 2 & 5 & 1.46 & 0 & 3 &  909.993 & 0 &   0.000000 &  909.9930 & 1\\\\\n",
       "\t 100000 & 1 & 4 & 5 & 0.43 & 1 & 5 & 1.18 & 0 & 3 &  825.093 & 0 &   0.000000 &  825.0930 & 1\\\\\n",
       "\\end{tabular}\n"
      ],
      "text/markdown": [
       "\n",
       "A data.table: 100000 × 15\n",
       "\n",
       "| u_id &lt;int&gt; | u_gender &lt;dbl&gt; | u_age &lt;dbl&gt; | u_weekly_utilisation &lt;int&gt; | u_sub_utilisation &lt;dbl&gt; | u_format_pref &lt;dbl&gt; | u_genre_pref &lt;int&gt; | u_rating_given &lt;dbl&gt; | u_other_sub &lt;int&gt; | u_occupation &lt;dbl&gt; | baseline_score &lt;dbl&gt; | treated &lt;int&gt; | treatment_score &lt;dbl&gt; | total_score &lt;dbl&gt; | resub &lt;dbl&gt; |\n",
       "|---|---|---|---|---|---|---|---|---|---|---|---|---|---|---|\n",
       "|  1 | 2 | 2 | 2 | 0.40 | 1 | 4 | 3.05 | 0 | 4 |  769.693 | 1 | 251.14148 | 1020.8345 | 1 |\n",
       "|  2 | 2 | 3 | 1 | 0.38 | 1 | 4 | 2.01 | 1 | 3 |  425.093 | 0 |   0.00000 |  425.0930 | 1 |\n",
       "|  3 | 2 | 2 | 6 | 0.31 | 2 | 5 | 0.47 | 0 | 3 |  848.993 | 0 |   0.00000 |  848.9930 | 1 |\n",
       "|  4 | 1 | 4 | 6 | 0.09 | 2 | 3 | 0.43 | 0 | 4 |  818.393 | 1 | 149.06428 |  967.4573 | 1 |\n",
       "|  5 | 2 | 3 | 0 | 0.33 | 1 | 3 | 0.69 | 0 | 2 |  212.593 | 1 |  19.37872 |  231.9717 | 0 |\n",
       "|  6 | 2 | 3 | 7 | 0.06 | 1 | 3 | 3.79 | 0 | 3 | 1137.493 | 1 |  42.37630 | 1179.8693 | 1 |\n",
       "|  7 | 1 | 3 | 6 | 0.82 | 2 | 5 | 0.32 | 0 | 4 |  907.793 | 0 |   0.00000 |  907.7930 | 1 |\n",
       "|  8 | 1 | 3 | 6 | 0.16 | 1 | 5 | 2.76 | 0 | 2 |  983.993 | 1 |  72.06029 | 1056.0533 | 1 |\n",
       "|  9 | 2 | 2 | 1 | 0.84 | 1 | 7 | 4.41 | 1 | 2 |  584.893 | 0 |   0.00000 |  584.8930 | 1 |\n",
       "| 10 | 2 | 2 | 1 | 0.55 | 1 | 2 | 1.94 | 0 | 3 |  478.693 | 0 |   0.00000 |  478.6930 | 1 |\n",
       "| 11 | 1 | 4 | 5 | 0.24 | 1 | 6 | 2.66 | 0 | 3 |  874.393 | 1 |  55.02383 |  929.4168 | 1 |\n",
       "| 12 | 2 | 2 | 3 | 0.69 | 1 | 7 | 4.52 | 1 | 4 |  860.893 | 1 | 316.72198 | 1177.6150 | 1 |\n",
       "| 13 | 1 | 3 | 4 | 0.73 | 1 | 4 | 1.07 | 1 | 2 |  768.593 | 1 | 148.70758 |  917.3006 | 1 |\n",
       "| 14 | 1 | 2 | 3 | 0.93 | 1 | 2 | 1.22 | 1 | 3 |  667.093 | 1 | 145.21798 |  812.3110 | 1 |\n",
       "| 15 | 1 | 2 | 4 | 0.05 | 1 | 4 | 3.57 | 1 | 2 |  865.193 | 0 |   0.00000 |  865.1930 | 1 |\n",
       "| 16 | 1 | 2 | 6 | 0.62 | 2 | 5 | 2.13 | 1 | 2 |  917.293 | 1 | 183.58612 | 1100.8791 | 1 |\n",
       "| 17 | 1 | 3 | 0 | 0.52 | 2 | 2 | 1.14 | 0 | 3 |  159.793 | 1 |  62.68076 |  222.4738 | 0 |\n",
       "| 18 | 2 | 3 | 3 | 0.91 | 1 | 6 | 1.85 | 0 | 2 |  690.993 | 1 | 112.04741 |  803.0404 | 1 |\n",
       "| 19 | 2 | 2 | 6 | 0.90 | 2 | 1 | 2.11 | 0 | 4 | 1147.693 | 0 |   0.00000 | 1147.6930 | 1 |\n",
       "| 20 | 2 | 1 | 3 | 0.45 | 1 | 2 | 2.43 | 1 | 1 |  725.193 | 0 |   0.00000 |  725.1930 | 1 |\n",
       "| 21 | 1 | 1 | 2 | 0.92 | 2 | 6 | 2.82 | 1 | 1 |  590.793 | 1 | 354.71812 |  945.5111 | 1 |\n",
       "| 22 | 2 | 2 | 3 | 0.29 | 3 | 5 | 3.76 | 0 | 3 |  665.893 | 1 | 162.27018 |  828.1632 | 1 |\n",
       "| 23 | 1 | 4 | 5 | 0.81 | 1 | 7 | 4.34 | 0 | 4 | 1092.493 | 0 |   0.00000 | 1092.4930 | 1 |\n",
       "| 24 | 2 | 2 | 0 | 0.26 | 1 | 4 | 3.96 | 1 | 2 |  451.993 | 0 |   0.00000 |  451.9930 | 1 |\n",
       "| 25 | 2 | 2 | 3 | 0.15 | 3 | 3 | 4.17 | 1 | 3 |  613.193 | 0 |   0.00000 |  613.1930 | 1 |\n",
       "| 26 | 1 | 4 | 6 | 0.11 | 2 | 7 | 4.35 | 1 | 3 |  901.993 | 0 |   0.00000 |  901.9930 | 1 |\n",
       "| 27 | 1 | 1 | 0 | 0.09 | 2 | 4 | 3.99 | 1 | 1 |  391.393 | 0 |   0.00000 |  391.3930 | 1 |\n",
       "| 28 | 1 | 3 | 5 | 0.64 | 2 | 1 | 1.05 | 0 | 3 |  825.893 | 1 | 108.98711 |  934.8801 | 1 |\n",
       "| 29 | 1 | 4 | 7 | 0.96 | 1 | 4 | 0.99 | 0 | 3 | 1194.493 | 0 |   0.00000 | 1194.4930 | 1 |\n",
       "| 30 | 1 | 2 | 1 | 0.49 | 2 | 7 | 3.50 | 1 | 3 |  393.893 | 0 |   0.00000 |  393.8930 | 1 |\n",
       "| ... | ... | ... | ... | ... | ... | ... | ... | ... | ... | ... | ... | ... | ... | ... |\n",
       "|  99971 | 2 | 3 | 1 | 0.16 | 1 | 3 | 0.54 | 1 | 4 |  302.993 | 0 |   0.000000 |  302.9930 | 0 |\n",
       "|  99972 | 1 | 3 | 7 | 0.16 | 1 | 7 | 3.03 | 1 | 3 | 1057.493 | 0 |   0.000000 | 1057.4930 | 1 |\n",
       "|  99973 | 2 | 6 | 0 | 0.23 | 3 | 7 | 0.95 | 1 | 5 |  117.593 | 0 |   0.000000 |  117.5930 | 0 |\n",
       "|  99974 | 2 | 2 | 2 | 0.55 | 2 | 6 | 4.64 | 0 | 4 |  688.693 | 0 |   0.000000 |  688.6930 | 1 |\n",
       "|  99975 | 2 | 3 | 7 | 0.80 | 1 | 5 | 3.91 | 1 | 4 | 1244.693 | 0 |   0.000000 | 1244.6930 | 1 |\n",
       "|  99976 | 1 | 4 | 0 | 0.32 | 1 | 3 | 1.41 | 0 | 3 |  247.293 | 1 |  -2.150143 |  245.1429 | 0 |\n",
       "|  99977 | 2 | 3 | 2 | 0.32 | 2 | 1 | 3.27 | 0 | 4 |  610.293 | 1 | 172.011606 |  782.3046 | 1 |\n",
       "|  99978 | 2 | 2 | 5 | 0.93 | 3 | 2 | 3.75 | 1 | 3 |  923.593 | 1 | 170.806918 | 1094.3999 | 1 |\n",
       "|  99979 | 1 | 1 | 3 | 0.45 | 1 | 4 | 1.53 | 0 | 1 |  815.193 | 0 |   0.000000 |  815.1930 | 1 |\n",
       "|  99980 | 1 | 4 | 7 | 0.93 | 3 | 3 | 3.41 | 1 | 3 | 1076.593 | 0 |   0.000000 | 1076.5930 | 1 |\n",
       "|  99981 | 2 | 4 | 1 | 0.36 | 2 | 3 | 1.01 | 1 | 3 |  192.493 | 1 | 122.201948 |  314.6950 | 0 |\n",
       "|  99982 | 1 | 2 | 1 | 0.10 | 1 | 7 | 2.58 | 1 | 3 |  397.193 | 1 | 234.891119 |  632.0841 | 1 |\n",
       "|  99983 | 2 | 1 | 3 | 0.29 | 1 | 7 | 3.11 | 0 | 1 |  793.393 | 1 | 272.327239 | 1065.7202 | 1 |\n",
       "|  99984 | 2 | 3 | 6 | 0.42 | 3 | 4 | 2.27 | 1 | 3 |  918.293 | 1 | 174.239125 | 1092.5321 | 1 |\n",
       "|  99985 | 1 | 3 | 2 | 0.21 | 1 | 6 | 1.47 | 1 | 2 |  410.993 | 1 | 147.821982 |  558.8150 | 1 |\n",
       "|  99986 | 1 | 2 | 7 | 0.05 | 2 | 5 | 2.44 | 1 | 2 |  973.693 | 1 | 202.675542 | 1176.3685 | 1 |\n",
       "|  99987 | 1 | 4 | 0 | 0.43 | 1 | 3 | 0.45 | 0 | 3 |  213.593 | 1 |  70.892972 |  284.4860 | 0 |\n",
       "|  99988 | 1 | 3 | 3 | 0.05 | 1 | 5 | 3.87 | 0 | 3 |  680.193 | 0 |   0.000000 |  680.1930 | 1 |\n",
       "|  99989 | 1 | 2 | 7 | 0.89 | 2 | 6 | 3.78 | 0 | 2 | 1204.893 | 0 |   0.000000 | 1204.8930 | 1 |\n",
       "|  99990 | 2 | 3 | 6 | 0.41 | 1 | 2 | 0.66 | 1 | 4 |  916.493 | 0 |   0.000000 |  916.4930 | 1 |\n",
       "|  99991 | 1 | 4 | 4 | 0.96 | 1 | 1 | 1.39 | 0 | 3 |  869.493 | 0 |   0.000000 |  869.4930 | 1 |\n",
       "|  99992 | 1 | 1 | 1 | 0.33 | 1 | 4 | 0.05 | 1 | 1 |  440.593 | 0 |   0.000000 |  440.5930 | 1 |\n",
       "|  99993 | 1 | 4 | 0 | 0.20 | 2 | 5 | 2.37 | 1 | 3 |  124.693 | 0 |   0.000000 |  124.6930 | 0 |\n",
       "|  99994 | 1 | 1 | 0 | 0.38 | 3 | 4 | 0.12 | 1 | 1 |  235.593 | 0 |   0.000000 |  235.5930 | 0 |\n",
       "|  99995 | 1 | 2 | 2 | 0.42 | 2 | 5 | 4.52 | 0 | 3 |  605.793 | 1 | 171.695075 |  777.4881 | 1 |\n",
       "|  99996 | 1 | 2 | 1 | 0.38 | 1 | 3 | 3.26 | 0 | 2 |  522.593 | 0 |   0.000000 |  522.5930 | 1 |\n",
       "|  99997 | 1 | 4 | 5 | 0.71 | 2 | 7 | 2.19 | 0 | 3 |  811.993 | 0 |   0.000000 |  811.9930 | 1 |\n",
       "|  99998 | 2 | 2 | 0 | 0.32 | 1 | 6 | 4.31 | 1 | 2 |  397.293 | 0 |   0.000000 |  397.2930 | 1 |\n",
       "|  99999 | 2 | 3 | 6 | 0.86 | 2 | 5 | 1.46 | 0 | 3 |  909.993 | 0 |   0.000000 |  909.9930 | 1 |\n",
       "| 100000 | 1 | 4 | 5 | 0.43 | 1 | 5 | 1.18 | 0 | 3 |  825.093 | 0 |   0.000000 |  825.0930 | 1 |\n",
       "\n"
      ],
      "text/plain": [
       "       u_id   u_gender u_age u_weekly_utilisation u_sub_utilisation\n",
       "1       1     2        2     2                    0.40             \n",
       "2       2     2        3     1                    0.38             \n",
       "3       3     2        2     6                    0.31             \n",
       "4       4     1        4     6                    0.09             \n",
       "5       5     2        3     0                    0.33             \n",
       "6       6     2        3     7                    0.06             \n",
       "7       7     1        3     6                    0.82             \n",
       "8       8     1        3     6                    0.16             \n",
       "9       9     2        2     1                    0.84             \n",
       "10     10     2        2     1                    0.55             \n",
       "11     11     1        4     5                    0.24             \n",
       "12     12     2        2     3                    0.69             \n",
       "13     13     1        3     4                    0.73             \n",
       "14     14     1        2     3                    0.93             \n",
       "15     15     1        2     4                    0.05             \n",
       "16     16     1        2     6                    0.62             \n",
       "17     17     1        3     0                    0.52             \n",
       "18     18     2        3     3                    0.91             \n",
       "19     19     2        2     6                    0.90             \n",
       "20     20     2        1     3                    0.45             \n",
       "21     21     1        1     2                    0.92             \n",
       "22     22     2        2     3                    0.29             \n",
       "23     23     1        4     5                    0.81             \n",
       "24     24     2        2     0                    0.26             \n",
       "25     25     2        2     3                    0.15             \n",
       "26     26     1        4     6                    0.11             \n",
       "27     27     1        1     0                    0.09             \n",
       "28     28     1        3     5                    0.64             \n",
       "29     29     1        4     7                    0.96             \n",
       "30     30     1        2     1                    0.49             \n",
       "...    ...    ...      ...   ...                  ...              \n",
       "99971   99971 2        3     1                    0.16             \n",
       "99972   99972 1        3     7                    0.16             \n",
       "99973   99973 2        6     0                    0.23             \n",
       "99974   99974 2        2     2                    0.55             \n",
       "99975   99975 2        3     7                    0.80             \n",
       "99976   99976 1        4     0                    0.32             \n",
       "99977   99977 2        3     2                    0.32             \n",
       "99978   99978 2        2     5                    0.93             \n",
       "99979   99979 1        1     3                    0.45             \n",
       "99980   99980 1        4     7                    0.93             \n",
       "99981   99981 2        4     1                    0.36             \n",
       "99982   99982 1        2     1                    0.10             \n",
       "99983   99983 2        1     3                    0.29             \n",
       "99984   99984 2        3     6                    0.42             \n",
       "99985   99985 1        3     2                    0.21             \n",
       "99986   99986 1        2     7                    0.05             \n",
       "99987   99987 1        4     0                    0.43             \n",
       "99988   99988 1        3     3                    0.05             \n",
       "99989   99989 1        2     7                    0.89             \n",
       "99990   99990 2        3     6                    0.41             \n",
       "99991   99991 1        4     4                    0.96             \n",
       "99992   99992 1        1     1                    0.33             \n",
       "99993   99993 1        4     0                    0.20             \n",
       "99994   99994 1        1     0                    0.38             \n",
       "99995   99995 1        2     2                    0.42             \n",
       "99996   99996 1        2     1                    0.38             \n",
       "99997   99997 1        4     5                    0.71             \n",
       "99998   99998 2        2     0                    0.32             \n",
       "99999   99999 2        3     6                    0.86             \n",
       "100000 100000 1        4     5                    0.43             \n",
       "       u_format_pref u_genre_pref u_rating_given u_other_sub u_occupation\n",
       "1      1             4            3.05           0           4           \n",
       "2      1             4            2.01           1           3           \n",
       "3      2             5            0.47           0           3           \n",
       "4      2             3            0.43           0           4           \n",
       "5      1             3            0.69           0           2           \n",
       "6      1             3            3.79           0           3           \n",
       "7      2             5            0.32           0           4           \n",
       "8      1             5            2.76           0           2           \n",
       "9      1             7            4.41           1           2           \n",
       "10     1             2            1.94           0           3           \n",
       "11     1             6            2.66           0           3           \n",
       "12     1             7            4.52           1           4           \n",
       "13     1             4            1.07           1           2           \n",
       "14     1             2            1.22           1           3           \n",
       "15     1             4            3.57           1           2           \n",
       "16     2             5            2.13           1           2           \n",
       "17     2             2            1.14           0           3           \n",
       "18     1             6            1.85           0           2           \n",
       "19     2             1            2.11           0           4           \n",
       "20     1             2            2.43           1           1           \n",
       "21     2             6            2.82           1           1           \n",
       "22     3             5            3.76           0           3           \n",
       "23     1             7            4.34           0           4           \n",
       "24     1             4            3.96           1           2           \n",
       "25     3             3            4.17           1           3           \n",
       "26     2             7            4.35           1           3           \n",
       "27     2             4            3.99           1           1           \n",
       "28     2             1            1.05           0           3           \n",
       "29     1             4            0.99           0           3           \n",
       "30     2             7            3.50           1           3           \n",
       "...    ...           ...          ...            ...         ...         \n",
       "99971  1             3            0.54           1           4           \n",
       "99972  1             7            3.03           1           3           \n",
       "99973  3             7            0.95           1           5           \n",
       "99974  2             6            4.64           0           4           \n",
       "99975  1             5            3.91           1           4           \n",
       "99976  1             3            1.41           0           3           \n",
       "99977  2             1            3.27           0           4           \n",
       "99978  3             2            3.75           1           3           \n",
       "99979  1             4            1.53           0           1           \n",
       "99980  3             3            3.41           1           3           \n",
       "99981  2             3            1.01           1           3           \n",
       "99982  1             7            2.58           1           3           \n",
       "99983  1             7            3.11           0           1           \n",
       "99984  3             4            2.27           1           3           \n",
       "99985  1             6            1.47           1           2           \n",
       "99986  2             5            2.44           1           2           \n",
       "99987  1             3            0.45           0           3           \n",
       "99988  1             5            3.87           0           3           \n",
       "99989  2             6            3.78           0           2           \n",
       "99990  1             2            0.66           1           4           \n",
       "99991  1             1            1.39           0           3           \n",
       "99992  1             4            0.05           1           1           \n",
       "99993  2             5            2.37           1           3           \n",
       "99994  3             4            0.12           1           1           \n",
       "99995  2             5            4.52           0           3           \n",
       "99996  1             3            3.26           0           2           \n",
       "99997  2             7            2.19           0           3           \n",
       "99998  1             6            4.31           1           2           \n",
       "99999  2             5            1.46           0           3           \n",
       "100000 1             5            1.18           0           3           \n",
       "       baseline_score treated treatment_score total_score resub\n",
       "1       769.693       1       251.14148       1020.8345   1    \n",
       "2       425.093       0         0.00000        425.0930   1    \n",
       "3       848.993       0         0.00000        848.9930   1    \n",
       "4       818.393       1       149.06428        967.4573   1    \n",
       "5       212.593       1        19.37872        231.9717   0    \n",
       "6      1137.493       1        42.37630       1179.8693   1    \n",
       "7       907.793       0         0.00000        907.7930   1    \n",
       "8       983.993       1        72.06029       1056.0533   1    \n",
       "9       584.893       0         0.00000        584.8930   1    \n",
       "10      478.693       0         0.00000        478.6930   1    \n",
       "11      874.393       1        55.02383        929.4168   1    \n",
       "12      860.893       1       316.72198       1177.6150   1    \n",
       "13      768.593       1       148.70758        917.3006   1    \n",
       "14      667.093       1       145.21798        812.3110   1    \n",
       "15      865.193       0         0.00000        865.1930   1    \n",
       "16      917.293       1       183.58612       1100.8791   1    \n",
       "17      159.793       1        62.68076        222.4738   0    \n",
       "18      690.993       1       112.04741        803.0404   1    \n",
       "19     1147.693       0         0.00000       1147.6930   1    \n",
       "20      725.193       0         0.00000        725.1930   1    \n",
       "21      590.793       1       354.71812        945.5111   1    \n",
       "22      665.893       1       162.27018        828.1632   1    \n",
       "23     1092.493       0         0.00000       1092.4930   1    \n",
       "24      451.993       0         0.00000        451.9930   1    \n",
       "25      613.193       0         0.00000        613.1930   1    \n",
       "26      901.993       0         0.00000        901.9930   1    \n",
       "27      391.393       0         0.00000        391.3930   1    \n",
       "28      825.893       1       108.98711        934.8801   1    \n",
       "29     1194.493       0         0.00000       1194.4930   1    \n",
       "30      393.893       0         0.00000        393.8930   1    \n",
       "...    ...            ...     ...             ...         ...  \n",
       "99971   302.993       0         0.000000       302.9930   0    \n",
       "99972  1057.493       0         0.000000      1057.4930   1    \n",
       "99973   117.593       0         0.000000       117.5930   0    \n",
       "99974   688.693       0         0.000000       688.6930   1    \n",
       "99975  1244.693       0         0.000000      1244.6930   1    \n",
       "99976   247.293       1        -2.150143       245.1429   0    \n",
       "99977   610.293       1       172.011606       782.3046   1    \n",
       "99978   923.593       1       170.806918      1094.3999   1    \n",
       "99979   815.193       0         0.000000       815.1930   1    \n",
       "99980  1076.593       0         0.000000      1076.5930   1    \n",
       "99981   192.493       1       122.201948       314.6950   0    \n",
       "99982   397.193       1       234.891119       632.0841   1    \n",
       "99983   793.393       1       272.327239      1065.7202   1    \n",
       "99984   918.293       1       174.239125      1092.5321   1    \n",
       "99985   410.993       1       147.821982       558.8150   1    \n",
       "99986   973.693       1       202.675542      1176.3685   1    \n",
       "99987   213.593       1        70.892972       284.4860   0    \n",
       "99988   680.193       0         0.000000       680.1930   1    \n",
       "99989  1204.893       0         0.000000      1204.8930   1    \n",
       "99990   916.493       0         0.000000       916.4930   1    \n",
       "99991   869.493       0         0.000000       869.4930   1    \n",
       "99992   440.593       0         0.000000       440.5930   1    \n",
       "99993   124.693       0         0.000000       124.6930   0    \n",
       "99994   235.593       0         0.000000       235.5930   0    \n",
       "99995   605.793       1       171.695075       777.4881   1    \n",
       "99996   522.593       0         0.000000       522.5930   1    \n",
       "99997   811.993       0         0.000000       811.9930   1    \n",
       "99998   397.293       0         0.000000       397.2930   1    \n",
       "99999   909.993       0         0.000000       909.9930   1    \n",
       "100000  825.093       0         0.000000       825.0930   1    "
      ]
     },
     "metadata": {},
     "output_type": "display_data"
    }
   ],
   "source": [
    "USERS"
   ]
  },
  {
   "cell_type": "code",
   "execution_count": 13,
   "metadata": {
    "scrolled": true
   },
   "outputs": [
    {
     "data": {
      "text/html": [
       "<table class=\"dataframe\">\n",
       "<caption>A data.table: 100000 × 15</caption>\n",
       "<thead>\n",
       "\t<tr><th scope=col>u_id</th><th scope=col>u_gender</th><th scope=col>u_age</th><th scope=col>u_weekly_utilisation</th><th scope=col>u_sub_utilisation</th><th scope=col>u_format_pref</th><th scope=col>u_genre_pref</th><th scope=col>u_rating_given</th><th scope=col>u_other_sub</th><th scope=col>u_occupation</th><th scope=col>baseline_score</th><th scope=col>treated</th><th scope=col>treatment_score</th><th scope=col>total_score</th><th scope=col>resub</th></tr>\n",
       "\t<tr><th scope=col>&lt;int&gt;</th><th scope=col>&lt;dbl&gt;</th><th scope=col>&lt;dbl&gt;</th><th scope=col>&lt;int&gt;</th><th scope=col>&lt;dbl&gt;</th><th scope=col>&lt;dbl&gt;</th><th scope=col>&lt;int&gt;</th><th scope=col>&lt;dbl&gt;</th><th scope=col>&lt;int&gt;</th><th scope=col>&lt;dbl&gt;</th><th scope=col>&lt;dbl&gt;</th><th scope=col>&lt;int&gt;</th><th scope=col>&lt;dbl&gt;</th><th scope=col>&lt;dbl&gt;</th><th scope=col>&lt;dbl&gt;</th></tr>\n",
       "</thead>\n",
       "<tbody>\n",
       "\t<tr><td> 1</td><td>2</td><td>2</td><td>2</td><td>0.40</td><td>1</td><td>4</td><td>3.05</td><td>0</td><td>4</td><td> 769.693</td><td>1</td><td>251.14148</td><td>1020.8345</td><td>1</td></tr>\n",
       "\t<tr><td> 2</td><td>2</td><td>3</td><td>1</td><td>0.38</td><td>1</td><td>4</td><td>2.01</td><td>1</td><td>3</td><td> 425.093</td><td>0</td><td>  0.00000</td><td> 425.0930</td><td>1</td></tr>\n",
       "\t<tr><td> 3</td><td>2</td><td>2</td><td>6</td><td>0.31</td><td>2</td><td>5</td><td>0.47</td><td>0</td><td>3</td><td> 848.993</td><td>0</td><td>  0.00000</td><td> 848.9930</td><td>1</td></tr>\n",
       "\t<tr><td> 4</td><td>1</td><td>4</td><td>6</td><td>0.09</td><td>2</td><td>3</td><td>0.43</td><td>0</td><td>4</td><td> 818.393</td><td>1</td><td>149.06428</td><td> 967.4573</td><td>1</td></tr>\n",
       "\t<tr><td> 5</td><td>2</td><td>3</td><td>0</td><td>0.33</td><td>1</td><td>3</td><td>0.69</td><td>0</td><td>2</td><td> 212.593</td><td>1</td><td> 19.37872</td><td> 231.9717</td><td>0</td></tr>\n",
       "\t<tr><td> 6</td><td>2</td><td>3</td><td>7</td><td>0.06</td><td>1</td><td>3</td><td>3.79</td><td>0</td><td>3</td><td>1137.493</td><td>1</td><td> 42.37630</td><td>1179.8693</td><td>1</td></tr>\n",
       "\t<tr><td> 7</td><td>1</td><td>3</td><td>6</td><td>0.82</td><td>2</td><td>5</td><td>0.32</td><td>0</td><td>4</td><td> 907.793</td><td>0</td><td>  0.00000</td><td> 907.7930</td><td>1</td></tr>\n",
       "\t<tr><td> 8</td><td>1</td><td>3</td><td>6</td><td>0.16</td><td>1</td><td>5</td><td>2.76</td><td>0</td><td>2</td><td> 983.993</td><td>1</td><td> 72.06029</td><td>1056.0533</td><td>1</td></tr>\n",
       "\t<tr><td> 9</td><td>2</td><td>2</td><td>1</td><td>0.84</td><td>1</td><td>7</td><td>4.41</td><td>1</td><td>2</td><td> 584.893</td><td>0</td><td>  0.00000</td><td> 584.8930</td><td>1</td></tr>\n",
       "\t<tr><td>10</td><td>2</td><td>2</td><td>1</td><td>0.55</td><td>1</td><td>2</td><td>1.94</td><td>0</td><td>3</td><td> 478.693</td><td>0</td><td>  0.00000</td><td> 478.6930</td><td>1</td></tr>\n",
       "\t<tr><td>11</td><td>1</td><td>4</td><td>5</td><td>0.24</td><td>1</td><td>6</td><td>2.66</td><td>0</td><td>3</td><td> 874.393</td><td>1</td><td> 55.02383</td><td> 929.4168</td><td>1</td></tr>\n",
       "\t<tr><td>12</td><td>2</td><td>2</td><td>3</td><td>0.69</td><td>1</td><td>7</td><td>4.52</td><td>1</td><td>4</td><td> 860.893</td><td>1</td><td>316.72198</td><td>1177.6150</td><td>1</td></tr>\n",
       "\t<tr><td>13</td><td>1</td><td>3</td><td>4</td><td>0.73</td><td>1</td><td>4</td><td>1.07</td><td>1</td><td>2</td><td> 768.593</td><td>1</td><td>148.70758</td><td> 917.3006</td><td>1</td></tr>\n",
       "\t<tr><td>14</td><td>1</td><td>2</td><td>3</td><td>0.93</td><td>1</td><td>2</td><td>1.22</td><td>1</td><td>3</td><td> 667.093</td><td>1</td><td>145.21798</td><td> 812.3110</td><td>1</td></tr>\n",
       "\t<tr><td>15</td><td>1</td><td>2</td><td>4</td><td>0.05</td><td>1</td><td>4</td><td>3.57</td><td>1</td><td>2</td><td> 865.193</td><td>0</td><td>  0.00000</td><td> 865.1930</td><td>1</td></tr>\n",
       "\t<tr><td>16</td><td>1</td><td>2</td><td>6</td><td>0.62</td><td>2</td><td>5</td><td>2.13</td><td>1</td><td>2</td><td> 917.293</td><td>1</td><td>183.58612</td><td>1100.8791</td><td>1</td></tr>\n",
       "\t<tr><td>17</td><td>1</td><td>3</td><td>0</td><td>0.52</td><td>2</td><td>2</td><td>1.14</td><td>0</td><td>3</td><td> 159.793</td><td>1</td><td> 62.68076</td><td> 222.4738</td><td>0</td></tr>\n",
       "\t<tr><td>18</td><td>2</td><td>3</td><td>3</td><td>0.91</td><td>1</td><td>6</td><td>1.85</td><td>0</td><td>2</td><td> 690.993</td><td>1</td><td>112.04741</td><td> 803.0404</td><td>1</td></tr>\n",
       "\t<tr><td>19</td><td>2</td><td>2</td><td>6</td><td>0.90</td><td>2</td><td>1</td><td>2.11</td><td>0</td><td>4</td><td>1147.693</td><td>0</td><td>  0.00000</td><td>1147.6930</td><td>1</td></tr>\n",
       "\t<tr><td>20</td><td>2</td><td>1</td><td>3</td><td>0.45</td><td>1</td><td>2</td><td>2.43</td><td>1</td><td>1</td><td> 725.193</td><td>0</td><td>  0.00000</td><td> 725.1930</td><td>1</td></tr>\n",
       "\t<tr><td>21</td><td>1</td><td>1</td><td>2</td><td>0.92</td><td>2</td><td>6</td><td>2.82</td><td>1</td><td>1</td><td> 590.793</td><td>1</td><td>354.71812</td><td> 945.5111</td><td>1</td></tr>\n",
       "\t<tr><td>22</td><td>2</td><td>2</td><td>3</td><td>0.29</td><td>3</td><td>5</td><td>3.76</td><td>0</td><td>3</td><td> 665.893</td><td>1</td><td>162.27018</td><td> 828.1632</td><td>1</td></tr>\n",
       "\t<tr><td>23</td><td>1</td><td>4</td><td>5</td><td>0.81</td><td>1</td><td>7</td><td>4.34</td><td>0</td><td>4</td><td>1092.493</td><td>0</td><td>  0.00000</td><td>1092.4930</td><td>1</td></tr>\n",
       "\t<tr><td>24</td><td>2</td><td>2</td><td>0</td><td>0.26</td><td>1</td><td>4</td><td>3.96</td><td>1</td><td>2</td><td> 451.993</td><td>0</td><td>  0.00000</td><td> 451.9930</td><td>1</td></tr>\n",
       "\t<tr><td>25</td><td>2</td><td>2</td><td>3</td><td>0.15</td><td>3</td><td>3</td><td>4.17</td><td>1</td><td>3</td><td> 613.193</td><td>0</td><td>  0.00000</td><td> 613.1930</td><td>1</td></tr>\n",
       "\t<tr><td>26</td><td>1</td><td>4</td><td>6</td><td>0.11</td><td>2</td><td>7</td><td>4.35</td><td>1</td><td>3</td><td> 901.993</td><td>0</td><td>  0.00000</td><td> 901.9930</td><td>1</td></tr>\n",
       "\t<tr><td>27</td><td>1</td><td>1</td><td>0</td><td>0.09</td><td>2</td><td>4</td><td>3.99</td><td>1</td><td>1</td><td> 391.393</td><td>0</td><td>  0.00000</td><td> 391.3930</td><td>1</td></tr>\n",
       "\t<tr><td>28</td><td>1</td><td>3</td><td>5</td><td>0.64</td><td>2</td><td>1</td><td>1.05</td><td>0</td><td>3</td><td> 825.893</td><td>1</td><td>108.98711</td><td> 934.8801</td><td>1</td></tr>\n",
       "\t<tr><td>29</td><td>1</td><td>4</td><td>7</td><td>0.96</td><td>1</td><td>4</td><td>0.99</td><td>0</td><td>3</td><td>1194.493</td><td>0</td><td>  0.00000</td><td>1194.4930</td><td>1</td></tr>\n",
       "\t<tr><td>30</td><td>1</td><td>2</td><td>1</td><td>0.49</td><td>2</td><td>7</td><td>3.50</td><td>1</td><td>3</td><td> 393.893</td><td>0</td><td>  0.00000</td><td> 393.8930</td><td>1</td></tr>\n",
       "\t<tr><td>...</td><td>...</td><td>...</td><td>...</td><td>...</td><td>...</td><td>...</td><td>...</td><td>...</td><td>...</td><td>...</td><td>...</td><td>...</td><td>...</td><td>...</td></tr>\n",
       "\t<tr><td> 99971</td><td>2</td><td>3</td><td>1</td><td>0.16</td><td>1</td><td>3</td><td>0.54</td><td>1</td><td>4</td><td> 302.993</td><td>0</td><td>  0.000000</td><td> 302.9930</td><td>0</td></tr>\n",
       "\t<tr><td> 99972</td><td>1</td><td>3</td><td>7</td><td>0.16</td><td>1</td><td>7</td><td>3.03</td><td>1</td><td>3</td><td>1057.493</td><td>0</td><td>  0.000000</td><td>1057.4930</td><td>1</td></tr>\n",
       "\t<tr><td> 99973</td><td>2</td><td>6</td><td>0</td><td>0.23</td><td>3</td><td>7</td><td>0.95</td><td>1</td><td>5</td><td> 117.593</td><td>0</td><td>  0.000000</td><td> 117.5930</td><td>0</td></tr>\n",
       "\t<tr><td> 99974</td><td>2</td><td>2</td><td>2</td><td>0.55</td><td>2</td><td>6</td><td>4.64</td><td>0</td><td>4</td><td> 688.693</td><td>0</td><td>  0.000000</td><td> 688.6930</td><td>1</td></tr>\n",
       "\t<tr><td> 99975</td><td>2</td><td>3</td><td>7</td><td>0.80</td><td>1</td><td>5</td><td>3.91</td><td>1</td><td>4</td><td>1244.693</td><td>0</td><td>  0.000000</td><td>1244.6930</td><td>1</td></tr>\n",
       "\t<tr><td> 99976</td><td>1</td><td>4</td><td>0</td><td>0.32</td><td>1</td><td>3</td><td>1.41</td><td>0</td><td>3</td><td> 247.293</td><td>1</td><td> -2.150143</td><td> 245.1429</td><td>0</td></tr>\n",
       "\t<tr><td> 99977</td><td>2</td><td>3</td><td>2</td><td>0.32</td><td>2</td><td>1</td><td>3.27</td><td>0</td><td>4</td><td> 610.293</td><td>1</td><td>172.011606</td><td> 782.3046</td><td>1</td></tr>\n",
       "\t<tr><td> 99978</td><td>2</td><td>2</td><td>5</td><td>0.93</td><td>3</td><td>2</td><td>3.75</td><td>1</td><td>3</td><td> 923.593</td><td>1</td><td>170.806918</td><td>1094.3999</td><td>1</td></tr>\n",
       "\t<tr><td> 99979</td><td>1</td><td>1</td><td>3</td><td>0.45</td><td>1</td><td>4</td><td>1.53</td><td>0</td><td>1</td><td> 815.193</td><td>0</td><td>  0.000000</td><td> 815.1930</td><td>1</td></tr>\n",
       "\t<tr><td> 99980</td><td>1</td><td>4</td><td>7</td><td>0.93</td><td>3</td><td>3</td><td>3.41</td><td>1</td><td>3</td><td>1076.593</td><td>0</td><td>  0.000000</td><td>1076.5930</td><td>0</td></tr>\n",
       "\t<tr><td> 99981</td><td>2</td><td>4</td><td>1</td><td>0.36</td><td>2</td><td>3</td><td>1.01</td><td>1</td><td>3</td><td> 192.493</td><td>1</td><td>122.201948</td><td> 314.6950</td><td>0</td></tr>\n",
       "\t<tr><td> 99982</td><td>1</td><td>2</td><td>1</td><td>0.10</td><td>1</td><td>7</td><td>2.58</td><td>1</td><td>3</td><td> 397.193</td><td>1</td><td>234.891119</td><td> 632.0841</td><td>1</td></tr>\n",
       "\t<tr><td> 99983</td><td>2</td><td>1</td><td>3</td><td>0.29</td><td>1</td><td>7</td><td>3.11</td><td>0</td><td>1</td><td> 793.393</td><td>1</td><td>272.327239</td><td>1065.7202</td><td>1</td></tr>\n",
       "\t<tr><td> 99984</td><td>2</td><td>3</td><td>6</td><td>0.42</td><td>3</td><td>4</td><td>2.27</td><td>1</td><td>3</td><td> 918.293</td><td>1</td><td>174.239125</td><td>1092.5321</td><td>1</td></tr>\n",
       "\t<tr><td> 99985</td><td>1</td><td>3</td><td>2</td><td>0.21</td><td>1</td><td>6</td><td>1.47</td><td>1</td><td>2</td><td> 410.993</td><td>1</td><td>147.821982</td><td> 558.8150</td><td>1</td></tr>\n",
       "\t<tr><td> 99986</td><td>1</td><td>2</td><td>7</td><td>0.05</td><td>2</td><td>5</td><td>2.44</td><td>1</td><td>2</td><td> 973.693</td><td>1</td><td>202.675542</td><td>1176.3685</td><td>1</td></tr>\n",
       "\t<tr><td> 99987</td><td>1</td><td>4</td><td>0</td><td>0.43</td><td>1</td><td>3</td><td>0.45</td><td>0</td><td>3</td><td> 213.593</td><td>1</td><td> 70.892972</td><td> 284.4860</td><td>0</td></tr>\n",
       "\t<tr><td> 99988</td><td>1</td><td>3</td><td>3</td><td>0.05</td><td>1</td><td>5</td><td>3.87</td><td>0</td><td>3</td><td> 680.193</td><td>0</td><td>  0.000000</td><td> 680.1930</td><td>1</td></tr>\n",
       "\t<tr><td> 99989</td><td>1</td><td>2</td><td>7</td><td>0.89</td><td>2</td><td>6</td><td>3.78</td><td>0</td><td>2</td><td>1204.893</td><td>0</td><td>  0.000000</td><td>1204.8930</td><td>1</td></tr>\n",
       "\t<tr><td> 99990</td><td>2</td><td>3</td><td>6</td><td>0.41</td><td>1</td><td>2</td><td>0.66</td><td>1</td><td>4</td><td> 916.493</td><td>0</td><td>  0.000000</td><td> 916.4930</td><td>1</td></tr>\n",
       "\t<tr><td> 99991</td><td>1</td><td>4</td><td>4</td><td>0.96</td><td>1</td><td>1</td><td>1.39</td><td>0</td><td>3</td><td> 869.493</td><td>0</td><td>  0.000000</td><td> 869.4930</td><td>1</td></tr>\n",
       "\t<tr><td> 99992</td><td>1</td><td>1</td><td>1</td><td>0.33</td><td>1</td><td>4</td><td>0.05</td><td>1</td><td>1</td><td> 440.593</td><td>0</td><td>  0.000000</td><td> 440.5930</td><td>1</td></tr>\n",
       "\t<tr><td> 99993</td><td>1</td><td>4</td><td>0</td><td>0.20</td><td>2</td><td>5</td><td>2.37</td><td>1</td><td>3</td><td> 124.693</td><td>0</td><td>  0.000000</td><td> 124.6930</td><td>0</td></tr>\n",
       "\t<tr><td> 99994</td><td>1</td><td>1</td><td>0</td><td>0.38</td><td>3</td><td>4</td><td>0.12</td><td>1</td><td>1</td><td> 235.593</td><td>0</td><td>  0.000000</td><td> 235.5930</td><td>0</td></tr>\n",
       "\t<tr><td> 99995</td><td>1</td><td>2</td><td>2</td><td>0.42</td><td>2</td><td>5</td><td>4.52</td><td>0</td><td>3</td><td> 605.793</td><td>1</td><td>171.695075</td><td> 777.4881</td><td>1</td></tr>\n",
       "\t<tr><td> 99996</td><td>1</td><td>2</td><td>1</td><td>0.38</td><td>1</td><td>3</td><td>3.26</td><td>0</td><td>2</td><td> 522.593</td><td>0</td><td>  0.000000</td><td> 522.5930</td><td>1</td></tr>\n",
       "\t<tr><td> 99997</td><td>1</td><td>4</td><td>5</td><td>0.71</td><td>2</td><td>7</td><td>2.19</td><td>0</td><td>3</td><td> 811.993</td><td>0</td><td>  0.000000</td><td> 811.9930</td><td>0</td></tr>\n",
       "\t<tr><td> 99998</td><td>2</td><td>2</td><td>0</td><td>0.32</td><td>1</td><td>6</td><td>4.31</td><td>1</td><td>2</td><td> 397.293</td><td>0</td><td>  0.000000</td><td> 397.2930</td><td>1</td></tr>\n",
       "\t<tr><td> 99999</td><td>2</td><td>3</td><td>6</td><td>0.86</td><td>2</td><td>5</td><td>1.46</td><td>0</td><td>3</td><td> 909.993</td><td>0</td><td>  0.000000</td><td> 909.9930</td><td>1</td></tr>\n",
       "\t<tr><td>100000</td><td>1</td><td>4</td><td>5</td><td>0.43</td><td>1</td><td>5</td><td>1.18</td><td>0</td><td>3</td><td> 825.093</td><td>0</td><td>  0.000000</td><td> 825.0930</td><td>0</td></tr>\n",
       "</tbody>\n",
       "</table>\n"
      ],
      "text/latex": [
       "A data.table: 100000 × 15\n",
       "\\begin{tabular}{lllllllllllllll}\n",
       " u\\_id & u\\_gender & u\\_age & u\\_weekly\\_utilisation & u\\_sub\\_utilisation & u\\_format\\_pref & u\\_genre\\_pref & u\\_rating\\_given & u\\_other\\_sub & u\\_occupation & baseline\\_score & treated & treatment\\_score & total\\_score & resub\\\\\n",
       " <int> & <dbl> & <dbl> & <int> & <dbl> & <dbl> & <int> & <dbl> & <int> & <dbl> & <dbl> & <int> & <dbl> & <dbl> & <dbl>\\\\\n",
       "\\hline\n",
       "\t  1 & 2 & 2 & 2 & 0.40 & 1 & 4 & 3.05 & 0 & 4 &  769.693 & 1 & 251.14148 & 1020.8345 & 1\\\\\n",
       "\t  2 & 2 & 3 & 1 & 0.38 & 1 & 4 & 2.01 & 1 & 3 &  425.093 & 0 &   0.00000 &  425.0930 & 1\\\\\n",
       "\t  3 & 2 & 2 & 6 & 0.31 & 2 & 5 & 0.47 & 0 & 3 &  848.993 & 0 &   0.00000 &  848.9930 & 1\\\\\n",
       "\t  4 & 1 & 4 & 6 & 0.09 & 2 & 3 & 0.43 & 0 & 4 &  818.393 & 1 & 149.06428 &  967.4573 & 1\\\\\n",
       "\t  5 & 2 & 3 & 0 & 0.33 & 1 & 3 & 0.69 & 0 & 2 &  212.593 & 1 &  19.37872 &  231.9717 & 0\\\\\n",
       "\t  6 & 2 & 3 & 7 & 0.06 & 1 & 3 & 3.79 & 0 & 3 & 1137.493 & 1 &  42.37630 & 1179.8693 & 1\\\\\n",
       "\t  7 & 1 & 3 & 6 & 0.82 & 2 & 5 & 0.32 & 0 & 4 &  907.793 & 0 &   0.00000 &  907.7930 & 1\\\\\n",
       "\t  8 & 1 & 3 & 6 & 0.16 & 1 & 5 & 2.76 & 0 & 2 &  983.993 & 1 &  72.06029 & 1056.0533 & 1\\\\\n",
       "\t  9 & 2 & 2 & 1 & 0.84 & 1 & 7 & 4.41 & 1 & 2 &  584.893 & 0 &   0.00000 &  584.8930 & 1\\\\\n",
       "\t 10 & 2 & 2 & 1 & 0.55 & 1 & 2 & 1.94 & 0 & 3 &  478.693 & 0 &   0.00000 &  478.6930 & 1\\\\\n",
       "\t 11 & 1 & 4 & 5 & 0.24 & 1 & 6 & 2.66 & 0 & 3 &  874.393 & 1 &  55.02383 &  929.4168 & 1\\\\\n",
       "\t 12 & 2 & 2 & 3 & 0.69 & 1 & 7 & 4.52 & 1 & 4 &  860.893 & 1 & 316.72198 & 1177.6150 & 1\\\\\n",
       "\t 13 & 1 & 3 & 4 & 0.73 & 1 & 4 & 1.07 & 1 & 2 &  768.593 & 1 & 148.70758 &  917.3006 & 1\\\\\n",
       "\t 14 & 1 & 2 & 3 & 0.93 & 1 & 2 & 1.22 & 1 & 3 &  667.093 & 1 & 145.21798 &  812.3110 & 1\\\\\n",
       "\t 15 & 1 & 2 & 4 & 0.05 & 1 & 4 & 3.57 & 1 & 2 &  865.193 & 0 &   0.00000 &  865.1930 & 1\\\\\n",
       "\t 16 & 1 & 2 & 6 & 0.62 & 2 & 5 & 2.13 & 1 & 2 &  917.293 & 1 & 183.58612 & 1100.8791 & 1\\\\\n",
       "\t 17 & 1 & 3 & 0 & 0.52 & 2 & 2 & 1.14 & 0 & 3 &  159.793 & 1 &  62.68076 &  222.4738 & 0\\\\\n",
       "\t 18 & 2 & 3 & 3 & 0.91 & 1 & 6 & 1.85 & 0 & 2 &  690.993 & 1 & 112.04741 &  803.0404 & 1\\\\\n",
       "\t 19 & 2 & 2 & 6 & 0.90 & 2 & 1 & 2.11 & 0 & 4 & 1147.693 & 0 &   0.00000 & 1147.6930 & 1\\\\\n",
       "\t 20 & 2 & 1 & 3 & 0.45 & 1 & 2 & 2.43 & 1 & 1 &  725.193 & 0 &   0.00000 &  725.1930 & 1\\\\\n",
       "\t 21 & 1 & 1 & 2 & 0.92 & 2 & 6 & 2.82 & 1 & 1 &  590.793 & 1 & 354.71812 &  945.5111 & 1\\\\\n",
       "\t 22 & 2 & 2 & 3 & 0.29 & 3 & 5 & 3.76 & 0 & 3 &  665.893 & 1 & 162.27018 &  828.1632 & 1\\\\\n",
       "\t 23 & 1 & 4 & 5 & 0.81 & 1 & 7 & 4.34 & 0 & 4 & 1092.493 & 0 &   0.00000 & 1092.4930 & 1\\\\\n",
       "\t 24 & 2 & 2 & 0 & 0.26 & 1 & 4 & 3.96 & 1 & 2 &  451.993 & 0 &   0.00000 &  451.9930 & 1\\\\\n",
       "\t 25 & 2 & 2 & 3 & 0.15 & 3 & 3 & 4.17 & 1 & 3 &  613.193 & 0 &   0.00000 &  613.1930 & 1\\\\\n",
       "\t 26 & 1 & 4 & 6 & 0.11 & 2 & 7 & 4.35 & 1 & 3 &  901.993 & 0 &   0.00000 &  901.9930 & 1\\\\\n",
       "\t 27 & 1 & 1 & 0 & 0.09 & 2 & 4 & 3.99 & 1 & 1 &  391.393 & 0 &   0.00000 &  391.3930 & 1\\\\\n",
       "\t 28 & 1 & 3 & 5 & 0.64 & 2 & 1 & 1.05 & 0 & 3 &  825.893 & 1 & 108.98711 &  934.8801 & 1\\\\\n",
       "\t 29 & 1 & 4 & 7 & 0.96 & 1 & 4 & 0.99 & 0 & 3 & 1194.493 & 0 &   0.00000 & 1194.4930 & 1\\\\\n",
       "\t 30 & 1 & 2 & 1 & 0.49 & 2 & 7 & 3.50 & 1 & 3 &  393.893 & 0 &   0.00000 &  393.8930 & 1\\\\\n",
       "\t ... & ... & ... & ... & ... & ... & ... & ... & ... & ... & ... & ... & ... & ... & ...\\\\\n",
       "\t  99971 & 2 & 3 & 1 & 0.16 & 1 & 3 & 0.54 & 1 & 4 &  302.993 & 0 &   0.000000 &  302.9930 & 0\\\\\n",
       "\t  99972 & 1 & 3 & 7 & 0.16 & 1 & 7 & 3.03 & 1 & 3 & 1057.493 & 0 &   0.000000 & 1057.4930 & 1\\\\\n",
       "\t  99973 & 2 & 6 & 0 & 0.23 & 3 & 7 & 0.95 & 1 & 5 &  117.593 & 0 &   0.000000 &  117.5930 & 0\\\\\n",
       "\t  99974 & 2 & 2 & 2 & 0.55 & 2 & 6 & 4.64 & 0 & 4 &  688.693 & 0 &   0.000000 &  688.6930 & 1\\\\\n",
       "\t  99975 & 2 & 3 & 7 & 0.80 & 1 & 5 & 3.91 & 1 & 4 & 1244.693 & 0 &   0.000000 & 1244.6930 & 1\\\\\n",
       "\t  99976 & 1 & 4 & 0 & 0.32 & 1 & 3 & 1.41 & 0 & 3 &  247.293 & 1 &  -2.150143 &  245.1429 & 0\\\\\n",
       "\t  99977 & 2 & 3 & 2 & 0.32 & 2 & 1 & 3.27 & 0 & 4 &  610.293 & 1 & 172.011606 &  782.3046 & 1\\\\\n",
       "\t  99978 & 2 & 2 & 5 & 0.93 & 3 & 2 & 3.75 & 1 & 3 &  923.593 & 1 & 170.806918 & 1094.3999 & 1\\\\\n",
       "\t  99979 & 1 & 1 & 3 & 0.45 & 1 & 4 & 1.53 & 0 & 1 &  815.193 & 0 &   0.000000 &  815.1930 & 1\\\\\n",
       "\t  99980 & 1 & 4 & 7 & 0.93 & 3 & 3 & 3.41 & 1 & 3 & 1076.593 & 0 &   0.000000 & 1076.5930 & 0\\\\\n",
       "\t  99981 & 2 & 4 & 1 & 0.36 & 2 & 3 & 1.01 & 1 & 3 &  192.493 & 1 & 122.201948 &  314.6950 & 0\\\\\n",
       "\t  99982 & 1 & 2 & 1 & 0.10 & 1 & 7 & 2.58 & 1 & 3 &  397.193 & 1 & 234.891119 &  632.0841 & 1\\\\\n",
       "\t  99983 & 2 & 1 & 3 & 0.29 & 1 & 7 & 3.11 & 0 & 1 &  793.393 & 1 & 272.327239 & 1065.7202 & 1\\\\\n",
       "\t  99984 & 2 & 3 & 6 & 0.42 & 3 & 4 & 2.27 & 1 & 3 &  918.293 & 1 & 174.239125 & 1092.5321 & 1\\\\\n",
       "\t  99985 & 1 & 3 & 2 & 0.21 & 1 & 6 & 1.47 & 1 & 2 &  410.993 & 1 & 147.821982 &  558.8150 & 1\\\\\n",
       "\t  99986 & 1 & 2 & 7 & 0.05 & 2 & 5 & 2.44 & 1 & 2 &  973.693 & 1 & 202.675542 & 1176.3685 & 1\\\\\n",
       "\t  99987 & 1 & 4 & 0 & 0.43 & 1 & 3 & 0.45 & 0 & 3 &  213.593 & 1 &  70.892972 &  284.4860 & 0\\\\\n",
       "\t  99988 & 1 & 3 & 3 & 0.05 & 1 & 5 & 3.87 & 0 & 3 &  680.193 & 0 &   0.000000 &  680.1930 & 1\\\\\n",
       "\t  99989 & 1 & 2 & 7 & 0.89 & 2 & 6 & 3.78 & 0 & 2 & 1204.893 & 0 &   0.000000 & 1204.8930 & 1\\\\\n",
       "\t  99990 & 2 & 3 & 6 & 0.41 & 1 & 2 & 0.66 & 1 & 4 &  916.493 & 0 &   0.000000 &  916.4930 & 1\\\\\n",
       "\t  99991 & 1 & 4 & 4 & 0.96 & 1 & 1 & 1.39 & 0 & 3 &  869.493 & 0 &   0.000000 &  869.4930 & 1\\\\\n",
       "\t  99992 & 1 & 1 & 1 & 0.33 & 1 & 4 & 0.05 & 1 & 1 &  440.593 & 0 &   0.000000 &  440.5930 & 1\\\\\n",
       "\t  99993 & 1 & 4 & 0 & 0.20 & 2 & 5 & 2.37 & 1 & 3 &  124.693 & 0 &   0.000000 &  124.6930 & 0\\\\\n",
       "\t  99994 & 1 & 1 & 0 & 0.38 & 3 & 4 & 0.12 & 1 & 1 &  235.593 & 0 &   0.000000 &  235.5930 & 0\\\\\n",
       "\t  99995 & 1 & 2 & 2 & 0.42 & 2 & 5 & 4.52 & 0 & 3 &  605.793 & 1 & 171.695075 &  777.4881 & 1\\\\\n",
       "\t  99996 & 1 & 2 & 1 & 0.38 & 1 & 3 & 3.26 & 0 & 2 &  522.593 & 0 &   0.000000 &  522.5930 & 1\\\\\n",
       "\t  99997 & 1 & 4 & 5 & 0.71 & 2 & 7 & 2.19 & 0 & 3 &  811.993 & 0 &   0.000000 &  811.9930 & 0\\\\\n",
       "\t  99998 & 2 & 2 & 0 & 0.32 & 1 & 6 & 4.31 & 1 & 2 &  397.293 & 0 &   0.000000 &  397.2930 & 1\\\\\n",
       "\t  99999 & 2 & 3 & 6 & 0.86 & 2 & 5 & 1.46 & 0 & 3 &  909.993 & 0 &   0.000000 &  909.9930 & 1\\\\\n",
       "\t 100000 & 1 & 4 & 5 & 0.43 & 1 & 5 & 1.18 & 0 & 3 &  825.093 & 0 &   0.000000 &  825.0930 & 0\\\\\n",
       "\\end{tabular}\n"
      ],
      "text/markdown": [
       "\n",
       "A data.table: 100000 × 15\n",
       "\n",
       "| u_id &lt;int&gt; | u_gender &lt;dbl&gt; | u_age &lt;dbl&gt; | u_weekly_utilisation &lt;int&gt; | u_sub_utilisation &lt;dbl&gt; | u_format_pref &lt;dbl&gt; | u_genre_pref &lt;int&gt; | u_rating_given &lt;dbl&gt; | u_other_sub &lt;int&gt; | u_occupation &lt;dbl&gt; | baseline_score &lt;dbl&gt; | treated &lt;int&gt; | treatment_score &lt;dbl&gt; | total_score &lt;dbl&gt; | resub &lt;dbl&gt; |\n",
       "|---|---|---|---|---|---|---|---|---|---|---|---|---|---|---|\n",
       "|  1 | 2 | 2 | 2 | 0.40 | 1 | 4 | 3.05 | 0 | 4 |  769.693 | 1 | 251.14148 | 1020.8345 | 1 |\n",
       "|  2 | 2 | 3 | 1 | 0.38 | 1 | 4 | 2.01 | 1 | 3 |  425.093 | 0 |   0.00000 |  425.0930 | 1 |\n",
       "|  3 | 2 | 2 | 6 | 0.31 | 2 | 5 | 0.47 | 0 | 3 |  848.993 | 0 |   0.00000 |  848.9930 | 1 |\n",
       "|  4 | 1 | 4 | 6 | 0.09 | 2 | 3 | 0.43 | 0 | 4 |  818.393 | 1 | 149.06428 |  967.4573 | 1 |\n",
       "|  5 | 2 | 3 | 0 | 0.33 | 1 | 3 | 0.69 | 0 | 2 |  212.593 | 1 |  19.37872 |  231.9717 | 0 |\n",
       "|  6 | 2 | 3 | 7 | 0.06 | 1 | 3 | 3.79 | 0 | 3 | 1137.493 | 1 |  42.37630 | 1179.8693 | 1 |\n",
       "|  7 | 1 | 3 | 6 | 0.82 | 2 | 5 | 0.32 | 0 | 4 |  907.793 | 0 |   0.00000 |  907.7930 | 1 |\n",
       "|  8 | 1 | 3 | 6 | 0.16 | 1 | 5 | 2.76 | 0 | 2 |  983.993 | 1 |  72.06029 | 1056.0533 | 1 |\n",
       "|  9 | 2 | 2 | 1 | 0.84 | 1 | 7 | 4.41 | 1 | 2 |  584.893 | 0 |   0.00000 |  584.8930 | 1 |\n",
       "| 10 | 2 | 2 | 1 | 0.55 | 1 | 2 | 1.94 | 0 | 3 |  478.693 | 0 |   0.00000 |  478.6930 | 1 |\n",
       "| 11 | 1 | 4 | 5 | 0.24 | 1 | 6 | 2.66 | 0 | 3 |  874.393 | 1 |  55.02383 |  929.4168 | 1 |\n",
       "| 12 | 2 | 2 | 3 | 0.69 | 1 | 7 | 4.52 | 1 | 4 |  860.893 | 1 | 316.72198 | 1177.6150 | 1 |\n",
       "| 13 | 1 | 3 | 4 | 0.73 | 1 | 4 | 1.07 | 1 | 2 |  768.593 | 1 | 148.70758 |  917.3006 | 1 |\n",
       "| 14 | 1 | 2 | 3 | 0.93 | 1 | 2 | 1.22 | 1 | 3 |  667.093 | 1 | 145.21798 |  812.3110 | 1 |\n",
       "| 15 | 1 | 2 | 4 | 0.05 | 1 | 4 | 3.57 | 1 | 2 |  865.193 | 0 |   0.00000 |  865.1930 | 1 |\n",
       "| 16 | 1 | 2 | 6 | 0.62 | 2 | 5 | 2.13 | 1 | 2 |  917.293 | 1 | 183.58612 | 1100.8791 | 1 |\n",
       "| 17 | 1 | 3 | 0 | 0.52 | 2 | 2 | 1.14 | 0 | 3 |  159.793 | 1 |  62.68076 |  222.4738 | 0 |\n",
       "| 18 | 2 | 3 | 3 | 0.91 | 1 | 6 | 1.85 | 0 | 2 |  690.993 | 1 | 112.04741 |  803.0404 | 1 |\n",
       "| 19 | 2 | 2 | 6 | 0.90 | 2 | 1 | 2.11 | 0 | 4 | 1147.693 | 0 |   0.00000 | 1147.6930 | 1 |\n",
       "| 20 | 2 | 1 | 3 | 0.45 | 1 | 2 | 2.43 | 1 | 1 |  725.193 | 0 |   0.00000 |  725.1930 | 1 |\n",
       "| 21 | 1 | 1 | 2 | 0.92 | 2 | 6 | 2.82 | 1 | 1 |  590.793 | 1 | 354.71812 |  945.5111 | 1 |\n",
       "| 22 | 2 | 2 | 3 | 0.29 | 3 | 5 | 3.76 | 0 | 3 |  665.893 | 1 | 162.27018 |  828.1632 | 1 |\n",
       "| 23 | 1 | 4 | 5 | 0.81 | 1 | 7 | 4.34 | 0 | 4 | 1092.493 | 0 |   0.00000 | 1092.4930 | 1 |\n",
       "| 24 | 2 | 2 | 0 | 0.26 | 1 | 4 | 3.96 | 1 | 2 |  451.993 | 0 |   0.00000 |  451.9930 | 1 |\n",
       "| 25 | 2 | 2 | 3 | 0.15 | 3 | 3 | 4.17 | 1 | 3 |  613.193 | 0 |   0.00000 |  613.1930 | 1 |\n",
       "| 26 | 1 | 4 | 6 | 0.11 | 2 | 7 | 4.35 | 1 | 3 |  901.993 | 0 |   0.00000 |  901.9930 | 1 |\n",
       "| 27 | 1 | 1 | 0 | 0.09 | 2 | 4 | 3.99 | 1 | 1 |  391.393 | 0 |   0.00000 |  391.3930 | 1 |\n",
       "| 28 | 1 | 3 | 5 | 0.64 | 2 | 1 | 1.05 | 0 | 3 |  825.893 | 1 | 108.98711 |  934.8801 | 1 |\n",
       "| 29 | 1 | 4 | 7 | 0.96 | 1 | 4 | 0.99 | 0 | 3 | 1194.493 | 0 |   0.00000 | 1194.4930 | 1 |\n",
       "| 30 | 1 | 2 | 1 | 0.49 | 2 | 7 | 3.50 | 1 | 3 |  393.893 | 0 |   0.00000 |  393.8930 | 1 |\n",
       "| ... | ... | ... | ... | ... | ... | ... | ... | ... | ... | ... | ... | ... | ... | ... |\n",
       "|  99971 | 2 | 3 | 1 | 0.16 | 1 | 3 | 0.54 | 1 | 4 |  302.993 | 0 |   0.000000 |  302.9930 | 0 |\n",
       "|  99972 | 1 | 3 | 7 | 0.16 | 1 | 7 | 3.03 | 1 | 3 | 1057.493 | 0 |   0.000000 | 1057.4930 | 1 |\n",
       "|  99973 | 2 | 6 | 0 | 0.23 | 3 | 7 | 0.95 | 1 | 5 |  117.593 | 0 |   0.000000 |  117.5930 | 0 |\n",
       "|  99974 | 2 | 2 | 2 | 0.55 | 2 | 6 | 4.64 | 0 | 4 |  688.693 | 0 |   0.000000 |  688.6930 | 1 |\n",
       "|  99975 | 2 | 3 | 7 | 0.80 | 1 | 5 | 3.91 | 1 | 4 | 1244.693 | 0 |   0.000000 | 1244.6930 | 1 |\n",
       "|  99976 | 1 | 4 | 0 | 0.32 | 1 | 3 | 1.41 | 0 | 3 |  247.293 | 1 |  -2.150143 |  245.1429 | 0 |\n",
       "|  99977 | 2 | 3 | 2 | 0.32 | 2 | 1 | 3.27 | 0 | 4 |  610.293 | 1 | 172.011606 |  782.3046 | 1 |\n",
       "|  99978 | 2 | 2 | 5 | 0.93 | 3 | 2 | 3.75 | 1 | 3 |  923.593 | 1 | 170.806918 | 1094.3999 | 1 |\n",
       "|  99979 | 1 | 1 | 3 | 0.45 | 1 | 4 | 1.53 | 0 | 1 |  815.193 | 0 |   0.000000 |  815.1930 | 1 |\n",
       "|  99980 | 1 | 4 | 7 | 0.93 | 3 | 3 | 3.41 | 1 | 3 | 1076.593 | 0 |   0.000000 | 1076.5930 | 0 |\n",
       "|  99981 | 2 | 4 | 1 | 0.36 | 2 | 3 | 1.01 | 1 | 3 |  192.493 | 1 | 122.201948 |  314.6950 | 0 |\n",
       "|  99982 | 1 | 2 | 1 | 0.10 | 1 | 7 | 2.58 | 1 | 3 |  397.193 | 1 | 234.891119 |  632.0841 | 1 |\n",
       "|  99983 | 2 | 1 | 3 | 0.29 | 1 | 7 | 3.11 | 0 | 1 |  793.393 | 1 | 272.327239 | 1065.7202 | 1 |\n",
       "|  99984 | 2 | 3 | 6 | 0.42 | 3 | 4 | 2.27 | 1 | 3 |  918.293 | 1 | 174.239125 | 1092.5321 | 1 |\n",
       "|  99985 | 1 | 3 | 2 | 0.21 | 1 | 6 | 1.47 | 1 | 2 |  410.993 | 1 | 147.821982 |  558.8150 | 1 |\n",
       "|  99986 | 1 | 2 | 7 | 0.05 | 2 | 5 | 2.44 | 1 | 2 |  973.693 | 1 | 202.675542 | 1176.3685 | 1 |\n",
       "|  99987 | 1 | 4 | 0 | 0.43 | 1 | 3 | 0.45 | 0 | 3 |  213.593 | 1 |  70.892972 |  284.4860 | 0 |\n",
       "|  99988 | 1 | 3 | 3 | 0.05 | 1 | 5 | 3.87 | 0 | 3 |  680.193 | 0 |   0.000000 |  680.1930 | 1 |\n",
       "|  99989 | 1 | 2 | 7 | 0.89 | 2 | 6 | 3.78 | 0 | 2 | 1204.893 | 0 |   0.000000 | 1204.8930 | 1 |\n",
       "|  99990 | 2 | 3 | 6 | 0.41 | 1 | 2 | 0.66 | 1 | 4 |  916.493 | 0 |   0.000000 |  916.4930 | 1 |\n",
       "|  99991 | 1 | 4 | 4 | 0.96 | 1 | 1 | 1.39 | 0 | 3 |  869.493 | 0 |   0.000000 |  869.4930 | 1 |\n",
       "|  99992 | 1 | 1 | 1 | 0.33 | 1 | 4 | 0.05 | 1 | 1 |  440.593 | 0 |   0.000000 |  440.5930 | 1 |\n",
       "|  99993 | 1 | 4 | 0 | 0.20 | 2 | 5 | 2.37 | 1 | 3 |  124.693 | 0 |   0.000000 |  124.6930 | 0 |\n",
       "|  99994 | 1 | 1 | 0 | 0.38 | 3 | 4 | 0.12 | 1 | 1 |  235.593 | 0 |   0.000000 |  235.5930 | 0 |\n",
       "|  99995 | 1 | 2 | 2 | 0.42 | 2 | 5 | 4.52 | 0 | 3 |  605.793 | 1 | 171.695075 |  777.4881 | 1 |\n",
       "|  99996 | 1 | 2 | 1 | 0.38 | 1 | 3 | 3.26 | 0 | 2 |  522.593 | 0 |   0.000000 |  522.5930 | 1 |\n",
       "|  99997 | 1 | 4 | 5 | 0.71 | 2 | 7 | 2.19 | 0 | 3 |  811.993 | 0 |   0.000000 |  811.9930 | 0 |\n",
       "|  99998 | 2 | 2 | 0 | 0.32 | 1 | 6 | 4.31 | 1 | 2 |  397.293 | 0 |   0.000000 |  397.2930 | 1 |\n",
       "|  99999 | 2 | 3 | 6 | 0.86 | 2 | 5 | 1.46 | 0 | 3 |  909.993 | 0 |   0.000000 |  909.9930 | 1 |\n",
       "| 100000 | 1 | 4 | 5 | 0.43 | 1 | 5 | 1.18 | 0 | 3 |  825.093 | 0 |   0.000000 |  825.0930 | 0 |\n",
       "\n"
      ],
      "text/plain": [
       "       u_id   u_gender u_age u_weekly_utilisation u_sub_utilisation\n",
       "1       1     2        2     2                    0.40             \n",
       "2       2     2        3     1                    0.38             \n",
       "3       3     2        2     6                    0.31             \n",
       "4       4     1        4     6                    0.09             \n",
       "5       5     2        3     0                    0.33             \n",
       "6       6     2        3     7                    0.06             \n",
       "7       7     1        3     6                    0.82             \n",
       "8       8     1        3     6                    0.16             \n",
       "9       9     2        2     1                    0.84             \n",
       "10     10     2        2     1                    0.55             \n",
       "11     11     1        4     5                    0.24             \n",
       "12     12     2        2     3                    0.69             \n",
       "13     13     1        3     4                    0.73             \n",
       "14     14     1        2     3                    0.93             \n",
       "15     15     1        2     4                    0.05             \n",
       "16     16     1        2     6                    0.62             \n",
       "17     17     1        3     0                    0.52             \n",
       "18     18     2        3     3                    0.91             \n",
       "19     19     2        2     6                    0.90             \n",
       "20     20     2        1     3                    0.45             \n",
       "21     21     1        1     2                    0.92             \n",
       "22     22     2        2     3                    0.29             \n",
       "23     23     1        4     5                    0.81             \n",
       "24     24     2        2     0                    0.26             \n",
       "25     25     2        2     3                    0.15             \n",
       "26     26     1        4     6                    0.11             \n",
       "27     27     1        1     0                    0.09             \n",
       "28     28     1        3     5                    0.64             \n",
       "29     29     1        4     7                    0.96             \n",
       "30     30     1        2     1                    0.49             \n",
       "...    ...    ...      ...   ...                  ...              \n",
       "99971   99971 2        3     1                    0.16             \n",
       "99972   99972 1        3     7                    0.16             \n",
       "99973   99973 2        6     0                    0.23             \n",
       "99974   99974 2        2     2                    0.55             \n",
       "99975   99975 2        3     7                    0.80             \n",
       "99976   99976 1        4     0                    0.32             \n",
       "99977   99977 2        3     2                    0.32             \n",
       "99978   99978 2        2     5                    0.93             \n",
       "99979   99979 1        1     3                    0.45             \n",
       "99980   99980 1        4     7                    0.93             \n",
       "99981   99981 2        4     1                    0.36             \n",
       "99982   99982 1        2     1                    0.10             \n",
       "99983   99983 2        1     3                    0.29             \n",
       "99984   99984 2        3     6                    0.42             \n",
       "99985   99985 1        3     2                    0.21             \n",
       "99986   99986 1        2     7                    0.05             \n",
       "99987   99987 1        4     0                    0.43             \n",
       "99988   99988 1        3     3                    0.05             \n",
       "99989   99989 1        2     7                    0.89             \n",
       "99990   99990 2        3     6                    0.41             \n",
       "99991   99991 1        4     4                    0.96             \n",
       "99992   99992 1        1     1                    0.33             \n",
       "99993   99993 1        4     0                    0.20             \n",
       "99994   99994 1        1     0                    0.38             \n",
       "99995   99995 1        2     2                    0.42             \n",
       "99996   99996 1        2     1                    0.38             \n",
       "99997   99997 1        4     5                    0.71             \n",
       "99998   99998 2        2     0                    0.32             \n",
       "99999   99999 2        3     6                    0.86             \n",
       "100000 100000 1        4     5                    0.43             \n",
       "       u_format_pref u_genre_pref u_rating_given u_other_sub u_occupation\n",
       "1      1             4            3.05           0           4           \n",
       "2      1             4            2.01           1           3           \n",
       "3      2             5            0.47           0           3           \n",
       "4      2             3            0.43           0           4           \n",
       "5      1             3            0.69           0           2           \n",
       "6      1             3            3.79           0           3           \n",
       "7      2             5            0.32           0           4           \n",
       "8      1             5            2.76           0           2           \n",
       "9      1             7            4.41           1           2           \n",
       "10     1             2            1.94           0           3           \n",
       "11     1             6            2.66           0           3           \n",
       "12     1             7            4.52           1           4           \n",
       "13     1             4            1.07           1           2           \n",
       "14     1             2            1.22           1           3           \n",
       "15     1             4            3.57           1           2           \n",
       "16     2             5            2.13           1           2           \n",
       "17     2             2            1.14           0           3           \n",
       "18     1             6            1.85           0           2           \n",
       "19     2             1            2.11           0           4           \n",
       "20     1             2            2.43           1           1           \n",
       "21     2             6            2.82           1           1           \n",
       "22     3             5            3.76           0           3           \n",
       "23     1             7            4.34           0           4           \n",
       "24     1             4            3.96           1           2           \n",
       "25     3             3            4.17           1           3           \n",
       "26     2             7            4.35           1           3           \n",
       "27     2             4            3.99           1           1           \n",
       "28     2             1            1.05           0           3           \n",
       "29     1             4            0.99           0           3           \n",
       "30     2             7            3.50           1           3           \n",
       "...    ...           ...          ...            ...         ...         \n",
       "99971  1             3            0.54           1           4           \n",
       "99972  1             7            3.03           1           3           \n",
       "99973  3             7            0.95           1           5           \n",
       "99974  2             6            4.64           0           4           \n",
       "99975  1             5            3.91           1           4           \n",
       "99976  1             3            1.41           0           3           \n",
       "99977  2             1            3.27           0           4           \n",
       "99978  3             2            3.75           1           3           \n",
       "99979  1             4            1.53           0           1           \n",
       "99980  3             3            3.41           1           3           \n",
       "99981  2             3            1.01           1           3           \n",
       "99982  1             7            2.58           1           3           \n",
       "99983  1             7            3.11           0           1           \n",
       "99984  3             4            2.27           1           3           \n",
       "99985  1             6            1.47           1           2           \n",
       "99986  2             5            2.44           1           2           \n",
       "99987  1             3            0.45           0           3           \n",
       "99988  1             5            3.87           0           3           \n",
       "99989  2             6            3.78           0           2           \n",
       "99990  1             2            0.66           1           4           \n",
       "99991  1             1            1.39           0           3           \n",
       "99992  1             4            0.05           1           1           \n",
       "99993  2             5            2.37           1           3           \n",
       "99994  3             4            0.12           1           1           \n",
       "99995  2             5            4.52           0           3           \n",
       "99996  1             3            3.26           0           2           \n",
       "99997  2             7            2.19           0           3           \n",
       "99998  1             6            4.31           1           2           \n",
       "99999  2             5            1.46           0           3           \n",
       "100000 1             5            1.18           0           3           \n",
       "       baseline_score treated treatment_score total_score resub\n",
       "1       769.693       1       251.14148       1020.8345   1    \n",
       "2       425.093       0         0.00000        425.0930   1    \n",
       "3       848.993       0         0.00000        848.9930   1    \n",
       "4       818.393       1       149.06428        967.4573   1    \n",
       "5       212.593       1        19.37872        231.9717   0    \n",
       "6      1137.493       1        42.37630       1179.8693   1    \n",
       "7       907.793       0         0.00000        907.7930   1    \n",
       "8       983.993       1        72.06029       1056.0533   1    \n",
       "9       584.893       0         0.00000        584.8930   1    \n",
       "10      478.693       0         0.00000        478.6930   1    \n",
       "11      874.393       1        55.02383        929.4168   1    \n",
       "12      860.893       1       316.72198       1177.6150   1    \n",
       "13      768.593       1       148.70758        917.3006   1    \n",
       "14      667.093       1       145.21798        812.3110   1    \n",
       "15      865.193       0         0.00000        865.1930   1    \n",
       "16      917.293       1       183.58612       1100.8791   1    \n",
       "17      159.793       1        62.68076        222.4738   0    \n",
       "18      690.993       1       112.04741        803.0404   1    \n",
       "19     1147.693       0         0.00000       1147.6930   1    \n",
       "20      725.193       0         0.00000        725.1930   1    \n",
       "21      590.793       1       354.71812        945.5111   1    \n",
       "22      665.893       1       162.27018        828.1632   1    \n",
       "23     1092.493       0         0.00000       1092.4930   1    \n",
       "24      451.993       0         0.00000        451.9930   1    \n",
       "25      613.193       0         0.00000        613.1930   1    \n",
       "26      901.993       0         0.00000        901.9930   1    \n",
       "27      391.393       0         0.00000        391.3930   1    \n",
       "28      825.893       1       108.98711        934.8801   1    \n",
       "29     1194.493       0         0.00000       1194.4930   1    \n",
       "30      393.893       0         0.00000        393.8930   1    \n",
       "...    ...            ...     ...             ...         ...  \n",
       "99971   302.993       0         0.000000       302.9930   0    \n",
       "99972  1057.493       0         0.000000      1057.4930   1    \n",
       "99973   117.593       0         0.000000       117.5930   0    \n",
       "99974   688.693       0         0.000000       688.6930   1    \n",
       "99975  1244.693       0         0.000000      1244.6930   1    \n",
       "99976   247.293       1        -2.150143       245.1429   0    \n",
       "99977   610.293       1       172.011606       782.3046   1    \n",
       "99978   923.593       1       170.806918      1094.3999   1    \n",
       "99979   815.193       0         0.000000       815.1930   1    \n",
       "99980  1076.593       0         0.000000      1076.5930   0    \n",
       "99981   192.493       1       122.201948       314.6950   0    \n",
       "99982   397.193       1       234.891119       632.0841   1    \n",
       "99983   793.393       1       272.327239      1065.7202   1    \n",
       "99984   918.293       1       174.239125      1092.5321   1    \n",
       "99985   410.993       1       147.821982       558.8150   1    \n",
       "99986   973.693       1       202.675542      1176.3685   1    \n",
       "99987   213.593       1        70.892972       284.4860   0    \n",
       "99988   680.193       0         0.000000       680.1930   1    \n",
       "99989  1204.893       0         0.000000      1204.8930   1    \n",
       "99990   916.493       0         0.000000       916.4930   1    \n",
       "99991   869.493       0         0.000000       869.4930   1    \n",
       "99992   440.593       0         0.000000       440.5930   1    \n",
       "99993   124.693       0         0.000000       124.6930   0    \n",
       "99994   235.593       0         0.000000       235.5930   0    \n",
       "99995   605.793       1       171.695075       777.4881   1    \n",
       "99996   522.593       0         0.000000       522.5930   1    \n",
       "99997   811.993       0         0.000000       811.9930   0    \n",
       "99998   397.293       0         0.000000       397.2930   1    \n",
       "99999   909.993       0         0.000000       909.9930   1    \n",
       "100000  825.093       0         0.000000       825.0930   0    "
      ]
     },
     "metadata": {},
     "output_type": "display_data"
    }
   ],
   "source": [
    "# Adding additional noise by allowing an erratic behavior of 5% of customer \n",
    "set.seed(10)\n",
    "perc_err=num_users*0.05\n",
    "USERS[sample(USERS$u_id,perc_err),resub:=ifelse(resub==0,1,0)]\n",
    "\n",
    "USERS\n"
   ]
  },
  {
   "cell_type": "code",
   "execution_count": 14,
   "metadata": {},
   "outputs": [],
   "source": [
    "# Scaling scores\n",
    "# USERS$score_scaled <- scale(USERS$score)  #scaling the scores\n",
    "# USERS[,churn:=ifelse(score>0,0,1)] #if positive score, the user doesn't churn (0), otherwise they churn (1)\n",
    "# to create some error in the dataset, for some random ids switch btw 0 and 1\n",
    "# seed(10)\n",
    "# USERS[sample(USERS$u_id,100),churn:=ifelse(churn==1,0,1)]"
   ]
  },
  {
   "cell_type": "code",
   "execution_count": 15,
   "metadata": {},
   "outputs": [],
   "source": [
    "data = USERS %>% select(-baseline_score, -treatment_score, -total_score) %>% rename(y=resub, treat=treated)\n",
    "data=as.data.frame(data)"
   ]
  },
  {
   "cell_type": "code",
   "execution_count": 16,
   "metadata": {},
   "outputs": [
    {
     "name": "stderr",
     "output_type": "stream",
     "text": [
      "Warning message:\n",
      "\"`funs()` was deprecated in dplyr 0.8.0.\n",
      "Please use a list of either functions or lambdas: \n",
      "\n",
      "  # Simple named list: \n",
      "  list(mean = mean, median = median)\n",
      "\n",
      "  # Auto named with `tibble::lst()`: \n",
      "  tibble::lst(mean, median)\n",
      "\n",
      "  # Using lambdas\n",
      "  list(~ mean(., trim = .2), ~ median(., na.rm = TRUE))\n",
      "\u001b[90mThis warning is displayed once every 8 hours.\u001b[39m\n",
      "\u001b[90mCall `lifecycle::last_warnings()` to see where this warning was generated.\u001b[39m\"\n"
     ]
    }
   ],
   "source": [
    "# Converting categorical variables into factors\n",
    "data = data %>%\n",
    "  mutate_at(vars(u_gender, u_format_pref, u_genre_pref, u_other_sub, u_occupation),\n",
    "            funs(factor))\n",
    "\n",
    "# We also perform one hot encoding, to be used in models which do not support factors\n",
    "\n",
    "data_cat= data %>% select(u_gender, u_format_pref, u_genre_pref, u_other_sub, u_occupation)\n",
    "data_noncat= data %>% select(-u_gender, -u_format_pref, -u_genre_pref, -u_other_sub, -u_occupation, -u_id)\n",
    "data_oh = one_hot(as.data.table(data_cat))\n",
    "data_oh=cbind(data$u_id, data_oh, data_noncat)\n",
    "colnames(data_oh)[1]='u_id'\n",
    "data_oh$y=as.factor(data_oh$y)"
   ]
  },
  {
   "cell_type": "code",
   "execution_count": 17,
   "metadata": {},
   "outputs": [],
   "source": [
    "# Dividing our Dataset in Three parts: Training, Test and Holdout\n",
    "\n",
    "#holdout_data_id = sample(seq_len(nrow(data)), size = num_users*0.20)\n",
    "#working_data = data[-holdout_data_id, ]\n",
    "#holdout_data = data[holdout_data_id, ]\n",
    "#split = SplitUplift(holdout_data, 0.6, c(\"treat\", \"y\"))\n",
    "set.seed(10)\n",
    "split = SplitUplift(data, 0.6, c(\"treat\", \"y\"))\n",
    "train=split[[1]]\n",
    "test=split[[2]]\n",
    "\n",
    "# Reproducing the sample split on the hot encoded dataset\n",
    "set.seed(10)\n",
    "split_oh = SplitUplift(data_oh, 0.6, c(\"treat\", \"y\"))\n",
    "train_oh=as.data.frame(split_oh[[1]])\n",
    "test_oh=as.data.frame(split_oh[[2]])\n",
    "\n",
    "# Define the set of covariates (without y and treat)\n",
    "features=colnames(train)[2:(length(colnames(train))-2)]\n",
    "features_oh=colnames(train_oh)[2:(length(colnames(train_oh))-2)]\n"
   ]
  },
  {
   "cell_type": "markdown",
   "metadata": {},
   "source": [
    "# Exploratory Data Analysis"
   ]
  },
  {
   "cell_type": "markdown",
   "metadata": {},
   "source": [
    "- Exploring the distributions of our features\n",
    "- Look at the differences in treatment effects across various \"univariete\" subgroups (for example ages, occupation) in order to have a preliminary idea of the extent of possible heterogenity.\n",
    "- Look at the correlation matrix"
   ]
  },
  {
   "cell_type": "markdown",
   "metadata": {},
   "source": [
    "# Traditional A/B Testing"
   ]
  },
  {
   "cell_type": "markdown",
   "metadata": {},
   "source": [
    "In questa sezione potremmo sviluppare l'analisi dei risultati del semplice A/B test, per identificare l'Average Treatment Effect."
   ]
  },
  {
   "cell_type": "markdown",
   "metadata": {},
   "source": [
    "# Uplift Models"
   ]
  },
  {
   "cell_type": "markdown",
   "metadata": {},
   "source": [
    "## Two-Models"
   ]
  },
  {
   "cell_type": "markdown",
   "metadata": {},
   "source": [
    "### Intuition"
   ]
  },
  {
   "cell_type": "code",
   "execution_count": 18,
   "metadata": {},
   "outputs": [],
   "source": [
    "# First of all, we create a copy of data,train and test set exclusively for two-models\n",
    "data_tm=data\n",
    "train_tm=train\n",
    "test_tm=test\n",
    "\n",
    "#We then separate treated and control in both groups\n",
    "train_tm_control=subset(train_tm, treat==0)\n",
    "train_tm_treatment=subset(train_tm, treat==1)\n",
    "test_tm_control = subset(test_tm, treat==0)\n",
    "test_tm_treatment = subset(test_tm, treat==1)\n",
    "\n",
    "# Intuition\n",
    "# logit_model_C<-glm(y ~ u_weekly_utilisation + u_rating_given + u_gender, family= binomial(link=logit), data=train_tm_control)  \n",
    "# logit_model_T<-glm(y ~ u_weekly_utilisation + u_rating_given + u_gender, family= binomial(link=logit),  data=train_tm_treatment)\n",
    "# data_tm$pred_C= logit_model_C %>% predict(data_tm, type = \"response\")\n",
    "# data_tm$pred_T= logit_model_T %>% predict(data_tm, type = \"response\")\n",
    "# data_tm$tau=data_tm$pred_T-data_tm$pred_C\n",
    "# print('Estimated Probabilities when Customers are not treated')\n",
    "# plot_ly(x=data_tm$u_weekly_utilisation, y=data_tm$u_rating_given, z=data_tm$pred_C,  type=\"scatter3d\", mode=\"markers\")\n",
    "# print('Estimated Probabilities when Customers are treated')\n",
    "# plot_ly(x=data_tm$u_weekly_utilisation, y=data_tm$u_rating_given, z=data_tm$pred_T,  type=\"scatter3d\", mode=\"markers\")\n",
    "# print('Estimated TE computed as the difference between the abovementioned probs')\n",
    "# plot_ly(x=data_tm$u_weekly_utilisation, y=data_tm$u_rating_given, z=data_tm$tau,  type=\"scatter3d\", mode=\"markers\")"
   ]
  },
  {
   "cell_type": "markdown",
   "metadata": {},
   "source": [
    "### Two-Model: Logit"
   ]
  },
  {
   "cell_type": "code",
   "execution_count": 19,
   "metadata": {},
   "outputs": [],
   "source": [
    "# Defining the formula for the model\n",
    "logitformula=as.formula(paste(\"y~\", paste(features, collapse=\"+\")))\n",
    "\n",
    "logit_model_C<-glm(logitformula, family= binomial(link=logit), data=train_tm_control)\n",
    "logit_model_T<-glm(logitformula, family= binomial(link=logit), data=train_tm_treatment)\n",
    "\n",
    "\n",
    "# Computing the propability of resub for individuals on both the \n",
    "# the train and the test set\n",
    "\n",
    "train_tm$pred_C= logit_model_C %>% predict(train_tm, type = \"response\")\n",
    "train_tm$pred_T= logit_model_T %>% predict(train_tm, type = \"response\")\n",
    "\n",
    "#computing the difference between these probabilities (tau): it is the estimated individual treatment effect \n",
    "train_tm$tau= train_tm$pred_T - train_tm$pred_C\n",
    "\n",
    "\n",
    "test_tm$pred_C= logit_model_C %>% predict(test_tm, type = \"response\")\n",
    "test_tm$pred_T= logit_model_T %>% predict(test_tm, type = \"response\")\n",
    "test_tm$tau= test_tm$pred_T - test_tm$pred_C\n"
   ]
  },
  {
   "cell_type": "code",
   "execution_count": 20,
   "metadata": {},
   "outputs": [
    {
     "data": {
      "text/plain": [
       "      Targeted Population (%) Incremental Uplift (%) Observed Uplift (%)\n",
       " [1,]                     0.1               6.126173         57.65277950\n",
       " [2,]                     0.2               9.669139         37.24125619\n",
       " [3,]                     0.3              10.036062          4.09055920\n",
       " [4,]                     0.4              10.128185          0.05068424\n",
       " [5,]                     0.5              10.111556          0.00000000\n",
       " [6,]                     0.6              10.164670          0.00000000\n",
       " [7,]                     0.7              10.045130          0.00000000\n",
       " [8,]                     0.8              10.064818          0.00000000\n",
       " [9,]                     0.9              10.038281          0.00000000\n",
       "[10,]                     1.0               9.986970          0.00000000\n",
       "attr(,\"class\")\n",
       "[1] \"print.PerformanceUplift\""
      ]
     },
     "metadata": {},
     "output_type": "display_data"
    },
    {
     "data": {
      "text/html": [
       "0.816496580927726"
      ],
      "text/latex": [
       "0.816496580927726"
      ],
      "text/markdown": [
       "0.816496580927726"
      ],
      "text/plain": [
       "[1] 0.8164966"
      ]
     },
     "metadata": {},
     "output_type": "display_data"
    },
    {
     "data": {
      "text/html": [
       "4.09966707616079"
      ],
      "text/latex": [
       "4.09966707616079"
      ],
      "text/markdown": [
       "4.09966707616079"
      ],
      "text/plain": [
       "[1] 4.099667"
      ]
     },
     "metadata": {},
     "output_type": "display_data"
    },
    {
     "data": {
      "image/png": "[encoded data removed]",
      "text/plain": [
       "plot without title"
      ]
     },
     "metadata": {
      "image/png": {
       "height": 420,
       "width": 420
      }
     },
     "output_type": "display_data"
    }
   ],
   "source": [
    "# Model Evaluation on the test set\n",
    "\n",
    "perf_tm=PerformanceUplift(data = test_tm, treat = \"treat\",\n",
    "                          outcome = \"y\", prediction = \"tau\", equal.intervals = TRUE, nb.group = 10)\n",
    "\n",
    "perf_tm\n",
    "barplot.PerformanceUplift(perf_tm)\n",
    "\n",
    "QiniArea(perf_tm)"
   ]
  },
  {
   "cell_type": "code",
   "execution_count": 21,
   "metadata": {},
   "outputs": [
    {
     "data": {
      "image/png": "[encoded data removed]",
      "text/plain": [
       "plot without title"
      ]
     },
     "metadata": {
      "image/png": {
       "height": 420,
       "width": 420
      }
     },
     "output_type": "display_data"
    },
    {
     "data": {
      "image/png": "[encoded data removed]",
      "text/plain": [
       "plot without title"
      ]
     },
     "metadata": {
      "image/png": {
       "height": 420,
       "width": 420
      }
     },
     "output_type": "display_data"
    }
   ],
   "source": [
    "# Plotting Qini curve and Qini Coeff on the test set - scrivere funzione che lo faccia \n",
    "# in automatico\n",
    "\n",
    "df=data.frame(matrix(nrow=10, ncol=3))\n",
    "df[,1]=perf_tm[[1]]\n",
    "df[,2]=round(perf_tm[[6]],2)\n",
    "df[,3]=round(perf_tm[[7]],2)\n",
    "colnames(df)=c(\"Dec\", \"num.incr\", \"perc.incr\")\n",
    "firstrow=numeric(3)\n",
    "df=rbind(firstrow,df)\n",
    "\n",
    "\n",
    "##Plot Qini curves\n",
    "qini_curve1<-ggplot(df, aes(x=Dec, y=num.incr))+geom_point(color=\"blue\")+geom_line(color=\"blue\")+\n",
    "  mytheme+labs(title=\"Qini Curve (abs) - TM Logit\", y=\"Incr. Num. of Retained Customers\", x=\"Perc. of Customers Targeted\")+\n",
    "  scale_x_continuous(breaks=seq(0, 1, 0.1))+geom_segment(x = 0, y=0, xend=1, yend=df[11,2], color=\"red\", \n",
    "                                                         linetype=\"dashed\", size=0.5)\n",
    "qini_curve1\n",
    "\n",
    "qini_curve2<-ggplot(df, aes(x=Dec, y=perc.incr))+geom_point(color=\"blue\")+geom_line(color=\"blue\")+\n",
    "  mytheme+labs(title=\"Qini Curve (%) - TM Logit\", y=\"Incr. Num. of Retained Customers\", x=\"Perc. of Customers Targeted\")+\n",
    "  xlim(0, 1)+geom_segment(x = 0, y=0, xend=1, yend=df[11,3], color=\"red\", \n",
    "                          linetype=\"dashed\", size=0.5)\n",
    "qini_curve2"
   ]
  },
  {
   "cell_type": "markdown",
   "metadata": {},
   "source": [
    "#### Improving the model through model selection"
   ]
  },
  {
   "cell_type": "code",
   "execution_count": 22,
   "metadata": {},
   "outputs": [
    {
     "data": {
      "text/plain": [
       "      Targeted Population (%) Incremental Uplift (%) Observed Uplift (%)\n",
       " [1,]                     0.1               6.126173         57.65277950\n",
       " [2,]                     0.2               9.669139         37.24125619\n",
       " [3,]                     0.3              10.036062          4.09055920\n",
       " [4,]                     0.4              10.128185          0.05068424\n",
       " [5,]                     0.5              10.111556          0.00000000\n",
       " [6,]                     0.6              10.164670          0.00000000\n",
       " [7,]                     0.7              10.045130          0.00000000\n",
       " [8,]                     0.8              10.064818          0.00000000\n",
       " [9,]                     0.9              10.038281          0.00000000\n",
       "[10,]                     1.0               9.986970          0.00000000\n",
       "attr(,\"class\")\n",
       "[1] \"print.PerformanceUplift\""
      ]
     },
     "metadata": {},
     "output_type": "display_data"
    },
    {
     "data": {
      "text/html": [
       "0.816496580927726"
      ],
      "text/latex": [
       "0.816496580927726"
      ],
      "text/markdown": [
       "0.816496580927726"
      ],
      "text/plain": [
       "[1] 0.8164966"
      ]
     },
     "metadata": {},
     "output_type": "display_data"
    },
    {
     "data": {
      "text/html": [
       "4.09966707616079"
      ],
      "text/latex": [
       "4.09966707616079"
      ],
      "text/markdown": [
       "4.09966707616079"
      ],
      "text/plain": [
       "[1] 4.099667"
      ]
     },
     "metadata": {},
     "output_type": "display_data"
    },
    {
     "data": {
      "image/png": "[encoded data removed]",
      "text/plain": [
       "plot without title"
      ]
     },
     "metadata": {
      "image/png": {
       "height": 420,
       "width": 420
      }
     },
     "output_type": "display_data"
    },
    {
     "data": {
      "image/png": "[encoded data removed]",
      "text/plain": [
       "plot without title"
      ]
     },
     "metadata": {
      "image/png": {
       "height": 420,
       "width": 420
      }
     },
     "output_type": "display_data"
    },
    {
     "data": {
      "image/png": "[encoded data removed]",
      "text/plain": [
       "plot without title"
      ]
     },
     "metadata": {
      "image/png": {
       "height": 420,
       "width": 420
      }
     },
     "output_type": "display_data"
    }
   ],
   "source": [
    "#### 2.1.2 Model selection ####\n",
    "\n",
    "\n",
    "# Here there are two options: implementing model selection as one would do\n",
    "# for binary classification, considering model as separated and using the\n",
    "# the best single models possible; or implementing model selection by \n",
    "# so as to maximize the Qini area.\n",
    "\n",
    "\n",
    "\n",
    "#Once the two models have been estimated, let's derive once gain the \n",
    "# estimated treatment effects \n",
    "\n",
    "\n",
    "\n",
    "\n",
    "# Evaluating Performance, Qini curve and Qini Coeff on the test set - scrivere funzione che lo faccia \n",
    "# in automatico\n",
    "\n",
    "perf_tm_final=PerformanceUplift(data = test_tm, treat = \"treat\",\n",
    "                                outcome = \"y\", prediction = \"tau\", equal.intervals = TRUE, nb.group = 10)\n",
    "\n",
    "perf_tm_final\n",
    "barplot.PerformanceUplift(perf_tm_final)\n",
    "\n",
    "QiniArea(perf_tm_final) \n",
    "\n",
    "# Plotting Qini curve and Qini Coeff on the test set - scrivere funzione che lo faccia \n",
    "# in automatico\n",
    "\n",
    "df=data.frame(matrix(nrow=10, ncol=3))\n",
    "df[,1]=perf_tm_final[[1]]\n",
    "df[,2]=round(perf_tm_final[[6]],2)\n",
    "df[,3]=round(perf_tm_final[[7]],2)\n",
    "colnames(df)=c(\"Dec\", \"num.incr\", \"perc.incr\")\n",
    "firstrow=numeric(3)\n",
    "df=rbind(firstrow,df)\n",
    "\n",
    "\n",
    "##Plot Qini curves\n",
    "qini_curve1<-ggplot(df, aes(x=Dec, y=num.incr))+geom_point(color=\"blue\")+geom_line(color=\"blue\")+\n",
    "  mytheme+labs(title=\"Qini Curve (abs) - TM Logit (opt)\", y=\"Incr. Num. of Retained Customers\", x=\"Perc. of Customers Targeted\")+\n",
    "  scale_x_continuous(breaks=seq(0, 1, 0.1))+geom_segment(x = 0, y=0, xend=1, yend=df[11,2], color=\"red\", \n",
    "                                                         linetype=\"dashed\", size=0.5)\n",
    "qini_curve1\n",
    "\n",
    "qini_curve2<-ggplot(df, aes(x=Dec, y=perc.incr))+geom_point(color=\"blue\")+geom_line(color=\"blue\")+\n",
    "  mytheme+labs(title=\"Qini Curve (%) - TM Logit (Opt)\", y=\"Incr. Num. of Retained Customers\", x=\"Perc. of Customers Targeted\")+\n",
    "  xlim(0, 1)+geom_segment(x = 0, y=0, xend=1, yend=df[11,3], color=\"red\", \n",
    "                          linetype=\"dashed\", size=0.5)\n",
    "qini_curve2\n"
   ]
  },
  {
   "cell_type": "markdown",
   "metadata": {},
   "source": [
    "### XGBoost\n",
    "Source: https://humboldt-wi.github.io/blog/research/applied_predictive_modeling_19/social_pressure/"
   ]
  },
  {
   "cell_type": "code",
   "execution_count": 23,
   "metadata": {},
   "outputs": [
    {
     "name": "stderr",
     "output_type": "stream",
     "text": [
      "[Tune] Started tuning learner classif.xgboost for parameter set:\n",
      "\n",
      "             Type len Def     Constr Req Tunable Trafo\n",
      "nrounds   integer   -   - 100 to 500   -    TRUE     -\n",
      "max_depth integer   -   -    1 to 10   -    TRUE     -\n",
      "eta       numeric   -   - 0.1 to 0.5   -    TRUE     -\n",
      "lambda    numeric   -   -    -1 to 0   -    TRUE     Y\n",
      "\n",
      "With control class: TuneControlRandom\n",
      "\n",
      "Imputation value: 1\n",
      "\n",
      "[Tune-x] 1: nrounds=165; max_depth=5; eta=0.126; lambda=0.108\n",
      "\n",
      "[Tune-y] 1: mmce.test.mean=0.1264500; time: 0.3 min\n",
      "\n",
      "[Tune-x] 2: nrounds=135; max_depth=1; eta=0.103; lambda=0.401\n",
      "\n",
      "[Tune-y] 2: mmce.test.mean=0.1365667; time: 0.1 min\n",
      "\n",
      "[Tune-x] 3: nrounds=181; max_depth=4; eta=0.176; lambda=0.201\n",
      "\n",
      "[Tune-y] 3: mmce.test.mean=0.1271500; time: 0.3 min\n",
      "\n",
      "[Tune-x] 4: nrounds=308; max_depth=7; eta=0.236; lambda=0.115\n",
      "\n",
      "[Tune-y] 4: mmce.test.mean=0.1312667; time: 0.8 min\n",
      "\n",
      "[Tune-x] 5: nrounds=325; max_depth=5; eta=0.499; lambda=0.675\n",
      "\n",
      "[Tune-y] 5: mmce.test.mean=0.1360667; time: 0.6 min\n",
      "\n",
      "[Tune] Result: nrounds=165; max_depth=5; eta=0.126; lambda=0.108 : mmce.test.mean=0.1264500\n",
      "\n",
      "[Tune] Started tuning learner classif.xgboost for parameter set:\n",
      "\n",
      "             Type len Def     Constr Req Tunable Trafo\n",
      "nrounds   integer   -   - 100 to 500   -    TRUE     -\n",
      "max_depth integer   -   -    1 to 10   -    TRUE     -\n",
      "eta       numeric   -   - 0.1 to 0.5   -    TRUE     -\n",
      "lambda    numeric   -   -    -1 to 0   -    TRUE     Y\n",
      "\n",
      "With control class: TuneControlRandom\n",
      "\n",
      "Imputation value: 1\n",
      "\n",
      "[Tune-x] 1: nrounds=323; max_depth=7; eta=0.212; lambda=0.166\n",
      "\n",
      "[Tune-y] 1: mmce.test.mean=0.0534750; time: 0.6 min\n",
      "\n",
      "[Tune-x] 2: nrounds=129; max_depth=3; eta=0.275; lambda=0.213\n",
      "\n",
      "[Tune-y] 2: mmce.test.mean=0.0518250; time: 0.1 min\n",
      "\n",
      "[Tune-x] 3: nrounds=297; max_depth=7; eta=0.254; lambda=0.105\n",
      "\n",
      "[Tune-y] 3: mmce.test.mean=0.0537750; time: 0.5 min\n",
      "\n",
      "[Tune-x] 4: nrounds=374; max_depth=6; eta=0.468; lambda=0.128\n",
      "\n",
      "[Tune-y] 4: mmce.test.mean=0.0543750; time: 0.6 min\n",
      "\n",
      "[Tune-x] 5: nrounds=372; max_depth=5; eta=0.45; lambda=0.196\n",
      "\n",
      "[Tune-y] 5: mmce.test.mean=0.0543500; time: 0.5 min\n",
      "\n",
      "[Tune] Result: nrounds=129; max_depth=3; eta=0.275; lambda=0.213 : mmce.test.mean=0.0518250\n",
      "\n"
     ]
    },
    {
     "data": {
      "text/plain": [
       "      Targeted Population (%) Incremental Uplift (%) Observed Uplift (%)\n",
       " [1,]                     0.1               4.401325          46.2543641\n",
       " [2,]                     0.2               6.709495          15.5597789\n",
       " [3,]                     0.3               7.300102           2.6841312\n",
       " [4,]                     0.4               7.633289           1.2506503\n",
       " [5,]                     0.5               7.966708           1.5166835\n",
       " [6,]                     0.6               8.149320           1.3399816\n",
       " [7,]                     0.7               8.291721           0.8982036\n",
       " [8,]                     0.8               8.490802           1.2121212\n",
       " [9,]                     0.9               8.883956           3.3406918\n",
       "[10,]                     1.0               9.986970           9.8485544\n",
       "attr(,\"class\")\n",
       "[1] \"print.PerformanceUplift\""
      ]
     },
     "metadata": {},
     "output_type": "display_data"
    },
    {
     "data": {
      "text/html": [
       "0.288888888888889"
      ],
      "text/latex": [
       "0.288888888888889"
      ],
      "text/markdown": [
       "0.288888888888889"
      ],
      "text/plain": [
       "[1] 0.2888889"
      ]
     },
     "metadata": {},
     "output_type": "display_data"
    },
    {
     "data": {
      "text/html": [
       "2.32324912619324"
      ],
      "text/latex": [
       "2.32324912619324"
      ],
      "text/markdown": [
       "2.32324912619324"
      ],
      "text/plain": [
       "[1] 2.323249"
      ]
     },
     "metadata": {},
     "output_type": "display_data"
    },
    {
     "data": {
      "image/png": "[encoded data removed]",
      "text/plain": [
       "plot without title"
      ]
     },
     "metadata": {
      "image/png": {
       "height": 420,
       "width": 420
      }
     },
     "output_type": "display_data"
    }
   ],
   "source": [
    "# Let's experiment with a more complex Classifier: XGBoost -- codice preso online\n",
    "\n",
    "#Setting Up the xgboost learner\n",
    "\n",
    "xgb_learner <- makeLearner(\"classif.xgboost\", predict.type = \"prob\", par.vals = list(\n",
    "  objective = \"binary:logistic\", eval_metric = \"error\"))\n",
    "\n",
    "\n",
    "xgb_params <- makeParamSet(\n",
    "  makeIntegerParam(\"nrounds\", lower = 100, upper = 500), makeIntegerParam(\"max_depth\", lower = 1, upper = 10),\n",
    "  makeNumericParam(\"eta\", lower = .1, upper = .5), makeNumericParam(\"lambda\", lower = -1, upper = 0, trafo = function(x) 10^x))\n",
    "ctrl <- makeTuneControlRandom(maxit = 5)  #nel codice era 15, ma per ora ho diminuito per far prima\n",
    "resample_desc <- makeResampleDesc(\"CV\", iters = 4)\n",
    "\n",
    "\n",
    "#creating the model for treatment group:\n",
    "task<-makeClassifTask(data=train_oh[ ,!(colnames(train_oh) == \"treat\")], target=\"y\")\n",
    "tuned_params <- tuneParams(learner = xgb_learner,task = task, resampling = resample_desc,\n",
    "                           par.set = xgb_params,control = ctrl)\n",
    "treatment_xgbmodel<- mlr::train(learner = setHyperPars(learner = xgb_learner,par.vals = tuned_params$x),task = task)\n",
    "\n",
    "#creating the model for control group:\n",
    "task<-makeClassifTask(data=test_oh[ ,!(colnames(test_oh) == \"treat\")],target=\"y\")\n",
    "tuned_params <- tuneParams(learner = xgb_learner,task = task,resampling = resample_desc,\n",
    "                           par.set = xgb_params,control = ctrl)\n",
    "control_xgbmodel<- mlr::train(learner = setHyperPars(learner = xgb_learner,par.vals = tuned_params$x),task = task)\n",
    "\n",
    "#making treatment effect estimates on train and test data:\n",
    "train_tm$pred_T_xgb<-predict(treatment_xgbmodel, newdata=train_oh[ ,!(colnames(train_oh) == \"treat\")])$data[[2]]\n",
    "train_tm$pred_C_xgb<-predict(control_xgbmodel, newdata=train_oh[ ,!(colnames(train_oh) == \"treat\")])$data[[2]]\n",
    "train_tm$tau_xgb<-train_tm$pred_T_xgb-train_tm$pred_C_xgb\n",
    "\n",
    "test_tm$pred_T_xgb<-predict(treatment_xgbmodel,newdata=test_oh[ ,!(colnames(test_oh) == \"treat\")])$data[[2]]\n",
    "test_tm$pred_C_xgb<-predict(control_xgbmodel,newdata=test_oh[ ,!(colnames(test_oh) == \"treat\")])$data[[2]]\n",
    "test_tm$tau_xgb<-test_tm$pred_T_xgb-test_tm$pred_C_xgb\n",
    "\n",
    "#Evaluating Performance\n",
    "\n",
    "perf_xgb=PerformanceUplift(data = test_tm, treat = \"treat\",\n",
    "                          outcome = \"y\", prediction = \"tau_xgb\", equal.intervals = TRUE, nb.group = 10)\n",
    "\n",
    "perf_xgb\n",
    "barplot.PerformanceUplift(perf_xgb)\n",
    "\n",
    "QiniArea(perf_xgb) "
   ]
  },
  {
   "cell_type": "code",
   "execution_count": 24,
   "metadata": {},
   "outputs": [
    {
     "data": {
      "image/png": "[encoded data removed]",
      "text/plain": [
       "plot without title"
      ]
     },
     "metadata": {
      "image/png": {
       "height": 420,
       "width": 420
      }
     },
     "output_type": "display_data"
    },
    {
     "data": {
      "image/png": "[encoded data removed]",
      "text/plain": [
       "plot without title"
      ]
     },
     "metadata": {
      "image/png": {
       "height": 420,
       "width": 420
      }
     },
     "output_type": "display_data"
    }
   ],
   "source": [
    "# Plotting Qini curve and Qini Coeff on the test set - scrivere funzione che lo faccia \n",
    "# in automatico\n",
    "\n",
    "df=data.frame(matrix(nrow=10, ncol=3))\n",
    "df[,1]=perf_xgb[[1]]\n",
    "df[,2]=round(perf_xgb[[6]],2)\n",
    "df[,3]=round(perf_xgb[[7]],2)\n",
    "colnames(df)=c(\"Dec\", \"num.incr\", \"perc.incr\")\n",
    "firstrow=numeric(3)\n",
    "df=rbind(firstrow,df)\n",
    "\n",
    "##Plot Qini curves\n",
    "qini_curve1<-ggplot(df, aes(x=Dec, y=num.incr))+geom_point(color=\"blue\")+geom_line(color=\"blue\")+\n",
    "  mytheme+labs(title=\"Qini Curve (abs) - TM XGB\", y=\"Incr. Num. of Retained Customers\", x=\"Perc. of Customers Targeted\")+\n",
    "  scale_x_continuous(breaks=seq(0, 1, 0.1))+geom_segment(x = 0, y=0, xend=1, yend=df[11,2], color=\"red\", \n",
    "                                                         linetype=\"dashed\", size=0.5)\n",
    "qini_curve1\n",
    "\n",
    "qini_curve2<-ggplot(df, aes(x=Dec, y=perc.incr))+geom_point(color=\"blue\")+geom_line(color=\"blue\")+\n",
    "  mytheme+labs(title=\"Qini Curve (%) - TM XGB\", y=\"Incr. Num. of Retained Customers\", x=\"Perc. of Customers Targeted\")+\n",
    "  xlim(0, 1)+geom_segment(x = 0, y=0, xend=1, yend=df[11,3], color=\"red\", \n",
    "                          linetype=\"dashed\", size=0.5)\n",
    "qini_curve2"
   ]
  },
  {
   "cell_type": "markdown",
   "metadata": {},
   "source": [
    "## Single Model with Interactions"
   ]
  },
  {
   "cell_type": "markdown",
   "metadata": {},
   "source": [
    "### Intuition"
   ]
  },
  {
   "cell_type": "code",
   "execution_count": 25,
   "metadata": {},
   "outputs": [],
   "source": [
    "# Intuition\n",
    "# logit_model_inter<-glm(y ~ u_weekly_utilisation + u_rating_given + treat + u_weekly_utilisation*treat + u_rating_given*treat , family= binomial(link=logit), data=data)\n",
    "# data_interaction=data\n",
    "# data_interaction$pred= logit_model_inter %>% predict(data_interaction, type = \"response\")\n",
    "# print('Estimated Probabilities')\n",
    "# plot_ly(x=data_interaction$u_weekly_utilisation, y=data_interaction$u_rating_given, z=data_interaction$pred,  type=\"scatter3d\", mode=\"markers\", color=data_interaction$treat)\n",
    "# print('Estimated Probabilities for treated and non treated customers')"
   ]
  },
  {
   "cell_type": "markdown",
   "metadata": {},
   "source": [
    "### Basic Model"
   ]
  },
  {
   "cell_type": "code",
   "execution_count": 26,
   "metadata": {},
   "outputs": [
    {
     "name": "stdout",
     "output_type": "stream",
     "text": [
      "\n",
      "Call:  InterUplift(data = train, treat = \"treat\", outcome = \"y\", predictors = features, \n",
      "    input = \"all\")\n",
      "\n",
      "Coefficients:\n",
      "               (Intercept)                       treat  \n",
      "                  0.272898                    1.373958  \n",
      "                 u_gender2                       u_age  \n",
      "                  0.015169                   -0.133078  \n",
      "      u_weekly_utilisation           u_sub_utilisation  \n",
      "                  0.578915                    0.859479  \n",
      "            u_format_pref2              u_format_pref3  \n",
      "                 -0.695017                   -0.779524  \n",
      "             u_genre_pref2               u_genre_pref3  \n",
      "                 -0.614695                   -0.495697  \n",
      "             u_genre_pref4               u_genre_pref5  \n",
      "                 -0.002982                   -0.559332  \n",
      "             u_genre_pref6               u_genre_pref7  \n",
      "                 -0.559085                   -0.582062  \n",
      "            u_rating_given                u_other_sub1  \n",
      "                  0.305304                   -0.368569  \n",
      "             u_occupation2               u_occupation3  \n",
      "                 -0.399442                   -0.334034  \n",
      "             u_occupation4               u_occupation5  \n",
      "                 -0.075042                    0.156067  \n",
      "           treat:u_gender2                 treat:u_age  \n",
      "                 -0.028452                   -0.070075  \n",
      "treat:u_weekly_utilisation     treat:u_sub_utilisation  \n",
      "                 -0.333476                   -0.308320  \n",
      "      treat:u_format_pref2        treat:u_format_pref3  \n",
      "                  0.366416                    0.467264  \n",
      "       treat:u_genre_pref2         treat:u_genre_pref3  \n",
      "                  0.163756                    0.096446  \n",
      "       treat:u_genre_pref4         treat:u_genre_pref5  \n",
      "                  0.087212                    0.388027  \n",
      "       treat:u_genre_pref6         treat:u_genre_pref7  \n",
      "                  0.397965                    0.338512  \n",
      "      treat:u_rating_given          treat:u_other_sub1  \n",
      "                 -0.123628                    0.405361  \n",
      "       treat:u_occupation2         treat:u_occupation3  \n",
      "                  0.092037                    0.056737  \n",
      "       treat:u_occupation4         treat:u_occupation5  \n",
      "                  0.262253                    0.144358  \n",
      "\n",
      "Degrees of Freedom: 59999 Total (i.e. Null);  59962 Residual\n",
      "Null Deviance:\t    53780 \n",
      "Residual Deviance: 44170 \tAIC: 44250\n"
     ]
    },
    {
     "data": {
      "text/plain": [
       "\n",
       "Call:\n",
       "InterUplift(data = train, treat = \"treat\", outcome = \"y\", predictors = features, \n",
       "    input = \"all\")\n",
       "\n",
       "Deviance Residuals: \n",
       "    Min       1Q   Median       3Q      Max  \n",
       "-3.5502   0.2373   0.4045   0.5885   2.0670  \n",
       "\n",
       "Coefficients:\n",
       "                            Estimate Std. Error z value             Pr(>|z|)\n",
       "(Intercept)                 0.272898   0.091033   2.998             0.002719\n",
       "treat                       1.373958   0.137915   9.962 < 0.0000000000000002\n",
       "u_gender2                   0.015169   0.033610   0.451             0.651751\n",
       "u_age                      -0.133078   0.019042  -6.989   0.0000000000027757\n",
       "u_weekly_utilisation        0.578915   0.009071  63.823 < 0.0000000000000002\n",
       "u_sub_utilisation           0.859479   0.057792  14.872 < 0.0000000000000002\n",
       "u_format_pref2             -0.695017   0.035233 -19.726 < 0.0000000000000002\n",
       "u_format_pref3             -0.779524   0.055000 -14.173 < 0.0000000000000002\n",
       "u_genre_pref2              -0.614695   0.063459  -9.687 < 0.0000000000000002\n",
       "u_genre_pref3              -0.495697   0.064691  -7.663   0.0000000000000182\n",
       "u_genre_pref4              -0.002982   0.067662  -0.044             0.964842\n",
       "u_genre_pref5              -0.559332   0.064196  -8.713 < 0.0000000000000002\n",
       "u_genre_pref6              -0.559085   0.064432  -8.677 < 0.0000000000000002\n",
       "u_genre_pref7              -0.582062   0.064145  -9.074 < 0.0000000000000002\n",
       "u_rating_given              0.305304   0.011786  25.904 < 0.0000000000000002\n",
       "u_other_sub1               -0.368569   0.033067 -11.146 < 0.0000000000000002\n",
       "u_occupation2              -0.399442   0.072460  -5.513   0.0000000353532508\n",
       "u_occupation3              -0.334034   0.076309  -4.377   0.0000120114218655\n",
       "u_occupation4              -0.075042   0.080165  -0.936             0.349226\n",
       "u_occupation5               0.156067   0.142228   1.097             0.272510\n",
       "treat:u_gender2            -0.028452   0.049798  -0.571             0.567768\n",
       "treat:u_age                -0.070075   0.027545  -2.544             0.010959\n",
       "treat:u_weekly_utilisation -0.333476   0.012329 -27.048 < 0.0000000000000002\n",
       "treat:u_sub_utilisation    -0.308320   0.085278  -3.615             0.000300\n",
       "treat:u_format_pref2        0.366416   0.051960   7.052   0.0000000000017642\n",
       "treat:u_format_pref3        0.467264   0.081380   5.742   0.0000000093704777\n",
       "treat:u_genre_pref2         0.163756   0.092141   1.777             0.075530\n",
       "treat:u_genre_pref3         0.096446   0.093315   1.034             0.301343\n",
       "treat:u_genre_pref4         0.087212   0.099147   0.880             0.379065\n",
       "treat:u_genre_pref5         0.388027   0.095115   4.080   0.0000451246435685\n",
       "treat:u_genre_pref6         0.397965   0.095046   4.187   0.0000282548193731\n",
       "treat:u_genre_pref7         0.338512   0.094394   3.586             0.000336\n",
       "treat:u_rating_given       -0.123628   0.017239  -7.171   0.0000000000007433\n",
       "treat:u_other_sub1          0.405361   0.048857   8.297 < 0.0000000000000002\n",
       "treat:u_occupation2         0.092037   0.111999   0.822             0.411207\n",
       "treat:u_occupation3         0.056737   0.117508   0.483             0.629215\n",
       "treat:u_occupation4         0.262253   0.124432   2.108             0.035065\n",
       "treat:u_occupation5         0.144358   0.208748   0.692             0.489227\n",
       "                              \n",
       "(Intercept)                ** \n",
       "treat                      ***\n",
       "u_gender2                     \n",
       "u_age                      ***\n",
       "u_weekly_utilisation       ***\n",
       "u_sub_utilisation          ***\n",
       "u_format_pref2             ***\n",
       "u_format_pref3             ***\n",
       "u_genre_pref2              ***\n",
       "u_genre_pref3              ***\n",
       "u_genre_pref4                 \n",
       "u_genre_pref5              ***\n",
       "u_genre_pref6              ***\n",
       "u_genre_pref7              ***\n",
       "u_rating_given             ***\n",
       "u_other_sub1               ***\n",
       "u_occupation2              ***\n",
       "u_occupation3              ***\n",
       "u_occupation4                 \n",
       "u_occupation5                 \n",
       "treat:u_gender2               \n",
       "treat:u_age                *  \n",
       "treat:u_weekly_utilisation ***\n",
       "treat:u_sub_utilisation    ***\n",
       "treat:u_format_pref2       ***\n",
       "treat:u_format_pref3       ***\n",
       "treat:u_genre_pref2        .  \n",
       "treat:u_genre_pref3           \n",
       "treat:u_genre_pref4           \n",
       "treat:u_genre_pref5        ***\n",
       "treat:u_genre_pref6        ***\n",
       "treat:u_genre_pref7        ***\n",
       "treat:u_rating_given       ***\n",
       "treat:u_other_sub1         ***\n",
       "treat:u_occupation2           \n",
       "treat:u_occupation3           \n",
       "treat:u_occupation4        *  \n",
       "treat:u_occupation5           \n",
       "---\n",
       "Signif. codes:  0 '***' 0.001 '**' 0.01 '*' 0.05 '.' 0.1 ' ' 1\n",
       "\n",
       "(Dispersion parameter for binomial family taken to be 1)\n",
       "\n",
       "    Null deviance: 53780  on 59999  degrees of freedom\n",
       "Residual deviance: 44175  on 59962  degrees of freedom\n",
       "AIC: 44251\n",
       "\n",
       "Number of Fisher Scoring iterations: 5\n"
      ]
     },
     "metadata": {},
     "output_type": "display_data"
    }
   ],
   "source": [
    "### 3.1 Basic Single Model ####\n",
    "\n",
    "#Creating a copy of the train and test sets\n",
    "train_interuplift=train\n",
    "test_interuplift=test\n",
    "\n",
    "#Estimating the model\n",
    "intermodel<-InterUplift(train, treat='treat', outcome='y', predictors=features, input = \"all\")\n",
    "\n",
    "print(intermodel)\n",
    "summary(intermodel)\n",
    "\n"
   ]
  },
  {
   "cell_type": "code",
   "execution_count": 27,
   "metadata": {},
   "outputs": [
    {
     "data": {
      "text/plain": [
       "      Targeted Population (%) Incremental Uplift (%) Observed Uplift (%)\n",
       " [1,]                     0.1               5.219424         48.89500138\n",
       " [2,]                     0.2               8.126014         29.25379543\n",
       " [3,]                     0.3               8.370911          2.94559490\n",
       " [4,]                     0.4               8.214226         -0.12463092\n",
       " [5,]                     0.5               8.284826          0.46930239\n",
       " [6,]                     0.6               8.350635          0.02466575\n",
       " [7,]                     0.7               8.187759          0.07101021\n",
       " [8,]                     0.8               8.036696         -1.07107660\n",
       " [9,]                     0.9               8.036657         -0.84510589\n",
       "[10,]                     1.0               7.934585         -0.37228254\n",
       "attr(,\"class\")\n",
       "[1] \"print.PerformanceUplift\""
      ]
     },
     "metadata": {},
     "output_type": "display_data"
    },
    {
     "data": {
      "text/html": [
       "0.688888888888889"
      ],
      "text/latex": [
       "0.688888888888889"
      ],
      "text/markdown": [
       "0.688888888888889"
      ],
      "text/plain": [
       "[1] 0.6888889"
      ]
     },
     "metadata": {},
     "output_type": "display_data"
    },
    {
     "data": {
      "text/html": [
       "3.47399867788024"
      ],
      "text/latex": [
       "3.47399867788024"
      ],
      "text/markdown": [
       "3.47399867788024"
      ],
      "text/plain": [
       "[1] 3.473999"
      ]
     },
     "metadata": {},
     "output_type": "display_data"
    },
    {
     "data": {
      "image/png": "[encoded data removed]",
      "text/plain": [
       "plot without title"
      ]
     },
     "metadata": {
      "image/png": {
       "height": 420,
       "width": 420
      }
     },
     "output_type": "display_data"
    }
   ],
   "source": [
    "#Extracting predictions for train data\n",
    "pred_intermodel= predict(intermodel, train_interuplift, treat='treat')\n",
    "train_interuplift$pred_intermodel=pred_intermodel\n",
    "\n",
    "#Eveluating the model performance\n",
    "perf_intermodel=PerformanceUplift(data = train_interuplift, treat = \"treat\",\n",
    "                                  outcome = \"y\", prediction = \"pred_intermodel\", equal.intervals = TRUE, nb.group = 10)\n",
    "\n",
    "\n",
    "perf_intermodel\n",
    "barplot.PerformanceUplift(perf_intermodel)\n",
    "\n",
    "QiniArea(perf_intermodel) "
   ]
  },
  {
   "cell_type": "code",
   "execution_count": 28,
   "metadata": {},
   "outputs": [
    {
     "data": {
      "text/plain": [
       "      Targeted Population (%) Incremental Uplift (%) Observed Uplift (%)\n",
       " [1,]                     0.1               6.126173         57.65277950\n",
       " [2,]                     0.2               9.669139         37.24125619\n",
       " [3,]                     0.3              10.036062          4.09055920\n",
       " [4,]                     0.4              10.128185          0.05068424\n",
       " [5,]                     0.5              10.111556          0.00000000\n",
       " [6,]                     0.6              10.164670          0.00000000\n",
       " [7,]                     0.7              10.045130          0.00000000\n",
       " [8,]                     0.8              10.064818          0.00000000\n",
       " [9,]                     0.9              10.038281          0.00000000\n",
       "[10,]                     1.0               9.986970          0.00000000\n",
       "attr(,\"class\")\n",
       "[1] \"print.PerformanceUplift\""
      ]
     },
     "metadata": {},
     "output_type": "display_data"
    },
    {
     "data": {
      "text/html": [
       "0.816496580927726"
      ],
      "text/latex": [
       "0.816496580927726"
      ],
      "text/markdown": [
       "0.816496580927726"
      ],
      "text/plain": [
       "[1] 0.8164966"
      ]
     },
     "metadata": {},
     "output_type": "display_data"
    },
    {
     "data": {
      "text/html": [
       "4.09966707616079"
      ],
      "text/latex": [
       "4.09966707616079"
      ],
      "text/markdown": [
       "4.09966707616079"
      ],
      "text/plain": [
       "[1] 4.099667"
      ]
     },
     "metadata": {},
     "output_type": "display_data"
    },
    {
     "data": {
      "image/png": "[encoded data removed]",
      "text/plain": [
       "plot without title"
      ]
     },
     "metadata": {
      "image/png": {
       "height": 420,
       "width": 420
      }
     },
     "output_type": "display_data"
    }
   ],
   "source": [
    "# Test set\n",
    "\n",
    "#Extracting predictions for test  data\n",
    "pred_intermodel_test= predict(intermodel, test_interuplift, treat='treat')\n",
    "test_interuplift$pred_intermodel=pred_intermodel_test\n",
    "\n",
    "#Eveluating the model performance on the test set\n",
    "perf_intermodel=PerformanceUplift(data = test_interuplift, treat = \"treat\",\n",
    "                                  outcome = \"y\", prediction = \"pred_intermodel\", equal.intervals = TRUE, nb.group = 10)\n",
    "\n",
    "\n",
    "perf_intermodel\n",
    "barplot.PerformanceUplift(perf_intermodel)\n",
    "\n",
    "QiniArea(perf_intermodel) "
   ]
  },
  {
   "cell_type": "code",
   "execution_count": 29,
   "metadata": {},
   "outputs": [
    {
     "data": {
      "image/png": "[encoded data removed]",
      "text/plain": [
       "plot without title"
      ]
     },
     "metadata": {
      "image/png": {
       "height": 420,
       "width": 420
      }
     },
     "output_type": "display_data"
    },
    {
     "data": {
      "text/html": [
       "4.09966707616079"
      ],
      "text/latex": [
       "4.09966707616079"
      ],
      "text/markdown": [
       "4.09966707616079"
      ],
      "text/plain": [
       "[1] 4.099667"
      ]
     },
     "metadata": {},
     "output_type": "display_data"
    },
    {
     "data": {
      "image/png": "[encoded data removed]",
      "text/plain": [
       "plot without title"
      ]
     },
     "metadata": {
      "image/png": {
       "height": 420,
       "width": 420
      }
     },
     "output_type": "display_data"
    }
   ],
   "source": [
    "# Plotting Qini curve and Qini Coeff on the test set - scrivere funzione che lo faccia \n",
    "# in automatico\n",
    "\n",
    "df=data.frame(matrix(nrow=10, ncol=3))\n",
    "df[,1]=perf_intermodel[[1]]\n",
    "df[,2]=round(perf_intermodel[[6]],2)\n",
    "df[,3]=round(perf_intermodel[[7]],2)\n",
    "colnames(df)=c(\"Dec\", \"num.incr\", \"perc.incr\")\n",
    "firstrow=numeric(3)\n",
    "df=rbind(firstrow,df)\n",
    "\n",
    "\n",
    "# Plot Qini curves\n",
    "qini_curve_1<-ggplot(df, aes(x=Dec, y=num.incr))+geom_point(color=\"blue\")+geom_line(color=\"blue\")+\n",
    "  mytheme+labs(title=\"Qini Curve - SM (Logit)\", y=\"Incr. Num. of Retained Cust\", x=\"Perc. of Customers Targeted\")+\n",
    "  scale_x_continuous(breaks=seq(0, 1, 0.1))+geom_segment(x = 0, y=0, xend=1, yend=df[11,2], color=\"red\", \n",
    "                                                         linetype=\"dashed\", size=0.5)\n",
    "qini_curve_1\n",
    "\n",
    "\n",
    "qini_curve_2<-ggplot(df, aes(x=Dec, y=perc.incr))+geom_point(color=\"blue\")+geom_line(color=\"blue\")+\n",
    "  mytheme+labs(title=\"Qini Curve - SM (Logit)\", y=\"Incr. % of Retained Cust\", x=\"Perc. of Customers Targeted\")+\n",
    "  xlim(0, 1)+geom_segment(x = 0, y=0, xend=1, yend=df[11,3], color=\"red\", \n",
    "               linetype=\"dashed\", size=0.5)\n",
    "qini_curve_2\n",
    "\n",
    "# Qini area\n",
    "\n",
    "QiniArea(perf_intermodel) "
   ]
  },
  {
   "cell_type": "markdown",
   "metadata": {},
   "source": [
    "### Model Selection"
   ]
  },
  {
   "cell_type": "code",
   "execution_count": 31,
   "metadata": {
    "scrolled": true
   },
   "outputs": [
    {
     "name": "stderr",
     "output_type": "stream",
     "text": [
      "Warning message in PerformanceUplift(valid, treat, outcome, \"lambda.pred\", rank.precision = rank.precision, :\n",
      "\"The number of unique predictions will be used as the number of groups\"\n",
      "Warning message in PerformanceUplift(valid, treat, outcome, \"lambda.pred\", rank.precision = rank.precision, :\n",
      "\"The number of unique predictions will be used as the number of groups\"\n",
      "Warning message in predict.lm(object, newdata, se.fit, scale = 1, type = if (type == :\n",
      "\"prediction from a rank-deficient fit may be misleading\"\n",
      "Warning message in predict.lm(object, newdata, se.fit, scale = 1, type = if (type == :\n",
      "\"prediction from a rank-deficient fit may be misleading\"\n",
      "Warning message in predict.lm(object, newdata, se.fit, scale = 1, type = if (type == :\n",
      "\"prediction from a rank-deficient fit may be misleading\"\n",
      "Warning message in predict.lm(object, newdata, se.fit, scale = 1, type = if (type == :\n",
      "\"prediction from a rank-deficient fit may be misleading\"\n",
      "Warning message in predict.lm(object, newdata, se.fit, scale = 1, type = if (type == :\n",
      "\"prediction from a rank-deficient fit may be misleading\"\n",
      "Warning message in predict.lm(object, newdata, se.fit, scale = 1, type = if (type == :\n",
      "\"prediction from a rank-deficient fit may be misleading\"\n",
      "Warning message in predict.lm(object, newdata, se.fit, scale = 1, type = if (type == :\n",
      "\"prediction from a rank-deficient fit may be misleading\"\n",
      "Warning message in predict.lm(object, newdata, se.fit, scale = 1, type = if (type == :\n",
      "\"prediction from a rank-deficient fit may be misleading\"\n",
      "Warning message in predict.lm(object, newdata, se.fit, scale = 1, type = if (type == :\n",
      "\"prediction from a rank-deficient fit may be misleading\"\n",
      "Warning message in predict.lm(object, newdata, se.fit, scale = 1, type = if (type == :\n",
      "\"prediction from a rank-deficient fit may be misleading\"\n",
      "Warning message in predict.lm(object, newdata, se.fit, scale = 1, type = if (type == :\n",
      "\"prediction from a rank-deficient fit may be misleading\"\n",
      "Warning message in predict.lm(object, newdata, se.fit, scale = 1, type = if (type == :\n",
      "\"prediction from a rank-deficient fit may be misleading\"\n",
      "Warning message in predict.lm(object, newdata, se.fit, scale = 1, type = if (type == :\n",
      "\"prediction from a rank-deficient fit may be misleading\"\n",
      "Warning message in predict.lm(object, newdata, se.fit, scale = 1, type = if (type == :\n",
      "\"prediction from a rank-deficient fit may be misleading\"\n",
      "Warning message in predict.lm(object, newdata, se.fit, scale = 1, type = if (type == :\n",
      "\"prediction from a rank-deficient fit may be misleading\"\n",
      "Warning message in predict.lm(object, newdata, se.fit, scale = 1, type = if (type == :\n",
      "\"prediction from a rank-deficient fit may be misleading\"\n",
      "Warning message in predict.lm(object, newdata, se.fit, scale = 1, type = if (type == :\n",
      "\"prediction from a rank-deficient fit may be misleading\"\n",
      "Warning message in predict.lm(object, newdata, se.fit, scale = 1, type = if (type == :\n",
      "\"prediction from a rank-deficient fit may be misleading\"\n",
      "Warning message in predict.lm(object, newdata, se.fit, scale = 1, type = if (type == :\n",
      "\"prediction from a rank-deficient fit may be misleading\"\n",
      "Warning message in predict.lm(object, newdata, se.fit, scale = 1, type = if (type == :\n",
      "\"prediction from a rank-deficient fit may be misleading\"\n",
      "Warning message in predict.lm(object, newdata, se.fit, scale = 1, type = if (type == :\n",
      "\"prediction from a rank-deficient fit may be misleading\"\n",
      "Warning message in predict.lm(object, newdata, se.fit, scale = 1, type = if (type == :\n",
      "\"prediction from a rank-deficient fit may be misleading\"\n",
      "Warning message in predict.lm(object, newdata, se.fit, scale = 1, type = if (type == :\n",
      "\"prediction from a rank-deficient fit may be misleading\"\n",
      "Warning message in predict.lm(object, newdata, se.fit, scale = 1, type = if (type == :\n",
      "\"prediction from a rank-deficient fit may be misleading\"\n"
     ]
    }
   ],
   "source": [
    "## 3.2 Model selection ####\n",
    "\n",
    "\n",
    "# Understanding the function LassoPath\n",
    "# formula=intermodel[[23]]\n",
    "# my_path=LassoPath(train_interuplift, formula)\n",
    "# my_path_mod=LassoPath_mod(train_interuplift, formula)\n",
    "\n",
    "#Finding the optimal set of features\n",
    "# La funzione BestFeatures() non funziona con variabili categoriche inserite come fattori, e dunque vanno messe one hot encoded come per l'xgb\n",
    "# Penso che per il momento la funzione non metta una categoria come baseline e dunque sputa il set di warnings che si vedono sotto (relativi alla multicollinearità delle featuers)\n",
    "# Capire come può essere risolta questa cosa (provare a rimuovere una categoria per ogni variabili dela dataset oh, oppure modificare il source code della funzione affinché lavori con variabili\n",
    "# categoriche fattorizzate).\n",
    "\n",
    "inter_opt_feat=BestFeatures(data=data_oh, treat='treat', outcome='y', predictors=features_oh, rank.precision = 2, \n",
    "             equal.intervals = FALSE, nb.group = 10, \n",
    "             validation = TRUE, p = 0.4)\n",
    "\n",
    "# La funzione BestFeatures va a trovare un set di features ottimo per il modello, utilizzando\n",
    "# la cross validation (semplce train vs test) e considerando il Qini coeff. Unico problema è che parte dall'intero dataset ed utilizza \n",
    "# train e test set creati da zero (fa nuovamente lo split internamente). Noi abbiamo bisogno che utilizzi\n",
    "# il train e il test set che abbiamo già creato e utilizzato negli altri modelli.\n",
    "# Bisogna dunque modificare la funzione affinché lavori in questo modo.\n",
    "\n",
    "# Writing the corresponding formula for the model\n",
    "formula_final_inter=as.formula(paste(\"y~\", paste(inter_opt_feat, collapse=\"+\")))\n",
    "\n"
   ]
  },
  {
   "cell_type": "code",
   "execution_count": 32,
   "metadata": {},
   "outputs": [],
   "source": [
    "###INTERUPLIFT FORMULA: una versione leggermente modificata della funzione InterUplift()\n",
    "# che permette di stimare un modello partendo da una formula prespecificata dall'utente\n",
    "\n",
    "InterUplift.formula <- function(formula, treat, data, ...){\n",
    "  \n",
    "  # Formula interface to InterUplift.\n",
    "  if (!inherits(formula, \"formula\"))\n",
    "    stop(\"Method is only for formula objects\")\n",
    "  \n",
    "  mf <- match.call(expand.dots = FALSE)\n",
    "  args <- match(c(\"formula\", \"data\"), names(mf), 0)\n",
    "  mf <- mf[c(1, args)]\n",
    "  mf$drop.unused.levels <- TRUE\n",
    "  mf[[1]] <- as.name(\"model.frame\")\n",
    "  mf <- eval.parent(mf)\n",
    "  \n",
    "  Terms <- attr(mf, \"terms\")\n",
    "  Terms <- names(attr(Terms,\"dataClasses\")) \n",
    "  \n",
    "  if (length(intersect(treat,colnames(data))) == 0)\n",
    "    stop(\"InterUplift: data does not include the control/treatment variable treat).\")    \n",
    "  \n",
    "  outcome <- Terms[1]\n",
    "  predictors <- Terms[-1]\n",
    "  fit <- InterUplift(data=data, treat=treat, outcome=outcome, predictors=predictors, input = \"all\", ...)\n",
    "  \n",
    "  \n",
    "  cl <- match.call()\n",
    "  cl[[1]] <- as.name(\"InterUplift\")\n",
    "  fit$call <- cl\n",
    "  \n",
    "  return(fit)\n",
    "}"
   ]
  },
  {
   "cell_type": "code",
   "execution_count": 34,
   "metadata": {},
   "outputs": [
    {
     "name": "stdout",
     "output_type": "stream",
     "text": [
      "\n",
      "Call:  InterUplift(formula = formula_final_inter, treat = \"treat\", data = train_oh)\n",
      "\n",
      "Coefficients:\n",
      "               (Intercept)                       treat  \n",
      "                  -0.73761                     2.35163  \n",
      "                u_gender_1                  u_gender_2  \n",
      "                  -0.01517                          NA  \n",
      "           u_format_pref_2             u_format_pref_3  \n",
      "                  -0.69502                    -0.77952  \n",
      "            u_genre_pref_1              u_genre_pref_2  \n",
      "                   0.58206                    -0.03263  \n",
      "            u_genre_pref_3              u_genre_pref_4  \n",
      "                   0.08637                     0.57908  \n",
      "            u_genre_pref_5              u_genre_pref_6  \n",
      "                   0.02273                     0.02298  \n",
      "            u_genre_pref_7               u_other_sub_0  \n",
      "                        NA                     0.36857  \n",
      "             u_other_sub_1              u_occupation_1  \n",
      "                        NA                     0.07504  \n",
      "            u_occupation_2              u_occupation_3  \n",
      "                  -0.32440                    -0.25899  \n",
      "            u_occupation_5                       u_age  \n",
      "                   0.23111                    -0.13308  \n",
      "      u_weekly_utilisation           u_sub_utilisation  \n",
      "                   0.57892                     0.85948  \n",
      "            u_rating_given              u_occupation_4  \n",
      "                   0.30530                          NA  \n",
      "          treat:u_gender_1            treat:u_gender_2  \n",
      "                   0.02845                          NA  \n",
      "     treat:u_format_pref_2       treat:u_format_pref_3  \n",
      "                   0.36642                     0.46726  \n",
      "      treat:u_genre_pref_1        treat:u_genre_pref_2  \n",
      "                  -0.33851                    -0.17476  \n",
      "      treat:u_genre_pref_3        treat:u_genre_pref_4  \n",
      "                  -0.24207                    -0.25130  \n",
      "      treat:u_genre_pref_5        treat:u_genre_pref_6  \n",
      "                   0.04952                     0.05945  \n",
      "      treat:u_genre_pref_7         treat:u_other_sub_0  \n",
      "                        NA                    -0.40536  \n",
      "       treat:u_other_sub_1        treat:u_occupation_1  \n",
      "                        NA                    -0.26225  \n",
      "      treat:u_occupation_2        treat:u_occupation_3  \n",
      "                  -0.17022                    -0.20552  \n",
      "      treat:u_occupation_5                 treat:u_age  \n",
      "                  -0.11790                    -0.07007  \n",
      "treat:u_weekly_utilisation     treat:u_sub_utilisation  \n",
      "                  -0.33348                    -0.30832  \n",
      "      treat:u_rating_given        treat:u_occupation_4  \n",
      "                  -0.12363                          NA  \n",
      "\n",
      "Degrees of Freedom: 59999 Total (i.e. Null);  59962 Residual\n",
      "Null Deviance:\t    53780 \n",
      "Residual Deviance: 44170 \tAIC: 44250\n"
     ]
    },
    {
     "data": {
      "text/plain": [
       "\n",
       "Call:\n",
       "InterUplift(formula = formula_final_inter, treat = \"treat\", data = train_oh)\n",
       "\n",
       "Deviance Residuals: \n",
       "    Min       1Q   Median       3Q      Max  \n",
       "-3.5502   0.2373   0.4045   0.5885   2.0670  \n",
       "\n",
       "Coefficients: (8 not defined because of singularities)\n",
       "                            Estimate Std. Error z value             Pr(>|z|)\n",
       "(Intercept)                -0.737606   0.096069  -7.678   0.0000000000000162\n",
       "treat                       2.351633   0.142378  16.517 < 0.0000000000000002\n",
       "u_gender_1                 -0.015169   0.033610  -0.451             0.651751\n",
       "u_gender_2                        NA         NA      NA                   NA\n",
       "u_format_pref_2            -0.695017   0.035233 -19.726 < 0.0000000000000002\n",
       "u_format_pref_3            -0.779524   0.055000 -14.173 < 0.0000000000000002\n",
       "u_genre_pref_1              0.582062   0.064145   9.074 < 0.0000000000000002\n",
       "u_genre_pref_2             -0.032633   0.058848  -0.555             0.579218\n",
       "u_genre_pref_3              0.086366   0.060166   1.435             0.151158\n",
       "u_genre_pref_4              0.579080   0.063513   9.117 < 0.0000000000000002\n",
       "u_genre_pref_5              0.022730   0.059604   0.381             0.702935\n",
       "u_genre_pref_6              0.022977   0.059885   0.384             0.701205\n",
       "u_genre_pref_7                    NA         NA      NA                   NA\n",
       "u_other_sub_0               0.368569   0.033067  11.146 < 0.0000000000000002\n",
       "u_other_sub_1                     NA         NA      NA                   NA\n",
       "u_occupation_1              0.075042   0.080165   0.936             0.349226\n",
       "u_occupation_2             -0.324400   0.051609  -6.286   0.0000000003262310\n",
       "u_occupation_3             -0.258991   0.048684  -5.320   0.0000001038435889\n",
       "u_occupation_5              0.231109   0.113519   2.036             0.041764\n",
       "u_age                      -0.133078   0.019042  -6.989   0.0000000000027757\n",
       "u_weekly_utilisation        0.578915   0.009071  63.823 < 0.0000000000000002\n",
       "u_sub_utilisation           0.859479   0.057792  14.872 < 0.0000000000000002\n",
       "u_rating_given              0.305304   0.011786  25.904 < 0.0000000000000002\n",
       "u_occupation_4                    NA         NA      NA                   NA\n",
       "treat:u_gender_1            0.028452   0.049798   0.571             0.567768\n",
       "treat:u_gender_2                  NA         NA      NA                   NA\n",
       "treat:u_format_pref_2       0.366416   0.051960   7.052   0.0000000000017642\n",
       "treat:u_format_pref_3       0.467264   0.081380   5.742   0.0000000093704777\n",
       "treat:u_genre_pref_1       -0.338512   0.094394  -3.586             0.000336\n",
       "treat:u_genre_pref_2       -0.174756   0.087214  -2.004             0.045096\n",
       "treat:u_genre_pref_3       -0.242066   0.088445  -2.737             0.006202\n",
       "treat:u_genre_pref_4       -0.251300   0.094711  -2.653             0.007970\n",
       "treat:u_genre_pref_5        0.049515   0.090334   0.548             0.583596\n",
       "treat:u_genre_pref_6        0.059453   0.090279   0.659             0.510188\n",
       "treat:u_genre_pref_7              NA         NA      NA                   NA\n",
       "treat:u_other_sub_0        -0.405361   0.048857  -8.297 < 0.0000000000000002\n",
       "treat:u_other_sub_1               NA         NA      NA                   NA\n",
       "treat:u_occupation_1       -0.262253   0.124432  -2.108             0.035065\n",
       "treat:u_occupation_2       -0.170216   0.078575  -2.166             0.030289\n",
       "treat:u_occupation_3       -0.205517   0.074168  -2.771             0.005589\n",
       "treat:u_occupation_5       -0.117896   0.164829  -0.715             0.474447\n",
       "treat:u_age                -0.070075   0.027545  -2.544             0.010959\n",
       "treat:u_weekly_utilisation -0.333476   0.012329 -27.048 < 0.0000000000000002\n",
       "treat:u_sub_utilisation    -0.308320   0.085278  -3.615             0.000300\n",
       "treat:u_rating_given       -0.123628   0.017239  -7.171   0.0000000000007433\n",
       "treat:u_occupation_4              NA         NA      NA                   NA\n",
       "                              \n",
       "(Intercept)                ***\n",
       "treat                      ***\n",
       "u_gender_1                    \n",
       "u_gender_2                    \n",
       "u_format_pref_2            ***\n",
       "u_format_pref_3            ***\n",
       "u_genre_pref_1             ***\n",
       "u_genre_pref_2                \n",
       "u_genre_pref_3                \n",
       "u_genre_pref_4             ***\n",
       "u_genre_pref_5                \n",
       "u_genre_pref_6                \n",
       "u_genre_pref_7                \n",
       "u_other_sub_0              ***\n",
       "u_other_sub_1                 \n",
       "u_occupation_1                \n",
       "u_occupation_2             ***\n",
       "u_occupation_3             ***\n",
       "u_occupation_5             *  \n",
       "u_age                      ***\n",
       "u_weekly_utilisation       ***\n",
       "u_sub_utilisation          ***\n",
       "u_rating_given             ***\n",
       "u_occupation_4                \n",
       "treat:u_gender_1              \n",
       "treat:u_gender_2              \n",
       "treat:u_format_pref_2      ***\n",
       "treat:u_format_pref_3      ***\n",
       "treat:u_genre_pref_1       ***\n",
       "treat:u_genre_pref_2       *  \n",
       "treat:u_genre_pref_3       ** \n",
       "treat:u_genre_pref_4       ** \n",
       "treat:u_genre_pref_5          \n",
       "treat:u_genre_pref_6          \n",
       "treat:u_genre_pref_7          \n",
       "treat:u_other_sub_0        ***\n",
       "treat:u_other_sub_1           \n",
       "treat:u_occupation_1       *  \n",
       "treat:u_occupation_2       *  \n",
       "treat:u_occupation_3       ** \n",
       "treat:u_occupation_5          \n",
       "treat:u_age                *  \n",
       "treat:u_weekly_utilisation ***\n",
       "treat:u_sub_utilisation    ***\n",
       "treat:u_rating_given       ***\n",
       "treat:u_occupation_4          \n",
       "---\n",
       "Signif. codes:  0 '***' 0.001 '**' 0.01 '*' 0.05 '.' 0.1 ' ' 1\n",
       "\n",
       "(Dispersion parameter for binomial family taken to be 1)\n",
       "\n",
       "    Null deviance: 53780  on 59999  degrees of freedom\n",
       "Residual deviance: 44175  on 59962  degrees of freedom\n",
       "AIC: 44251\n",
       "\n",
       "Number of Fisher Scoring iterations: 5\n"
      ]
     },
     "metadata": {},
     "output_type": "display_data"
    },
    {
     "ename": "ERROR",
     "evalue": "Error in eval(predvars, data, env): oggetto \"u_gender_1\" non trovato\n",
     "output_type": "error",
     "traceback": [
      "Error in eval(predvars, data, env): oggetto \"u_gender_1\" non trovato\nTraceback:\n",
      "1. predict(final_intermodel_train, train_interuplift, treat = \"treat\")",
      "2. predict.InterUplift(final_intermodel_train, train_interuplift, \n .     treat = \"treat\")",
      "3. predict.glm(object, newdata = data1, type = \"response\", ...)",
      "4. predict.lm(object, newdata, se.fit, scale = 1, type = if (type == \n .     \"link\") \"response\" else type, terms = terms, na.action = na.action)",
      "5. model.frame(Terms, newdata, na.action = na.action, xlev = object$xlevels)",
      "6. model.frame.default(Terms, newdata, na.action = na.action, xlev = object$xlevels)",
      "7. eval(predvars, data, env)",
      "8. eval(predvars, data, env)"
     ]
    }
   ],
   "source": [
    "# Train\n",
    "final_intermodel_train<-InterUplift.formula(formula=formula_final_inter, treat=\"treat\", data=train_oh) \n",
    "print(final_intermodel_train)\n",
    "summary(final_intermodel_train)\n",
    "\n",
    "\n",
    "pred_intermodel_final= predict(final_intermodel_train, train_interuplift, treat='treat')\n",
    "train_interuplift$pred_intermodel_final=pred_intermodel_final\n",
    "perf_intermodel_final=PerformanceUplift(data = train_interuplift, treat = \"treat\",\n",
    "                                  outcome = \"y\", prediction = \"pred_intermodel_final\", equal.intervals = TRUE, nb.group = 10)\n",
    "\n",
    "perf_intermodel_final\n",
    "barplot.PerformanceUplift(perf_intermodel_final)\n",
    "QiniArea(perf_intermodel_final) \n",
    "\n",
    "\n",
    "# Test\n",
    "\n",
    "final_intermodel_test<-InterUplift.formula(formula=formula_final_inter, treat=\"treat\", data=test_interuplift) \n",
    "print(final_intermodel_test)\n",
    "summary(final_intermodel_test)\n",
    "\n",
    "\n",
    "pred_intermodel_final= predict(final_intermodel_test, test_interuplift, treat='treat')\n",
    "test_interuplift$pred_intermodel_final=pred_intermodel_final\n",
    "perf_intermodel_final=PerformanceUplift(data = test_interuplift, treat = \"treat\",\n",
    "                                        outcome = \"y\", prediction = \"pred_intermodel_final\", equal.intervals = TRUE, nb.group = 10)\n",
    "perf_intermodel_final\n",
    "barplot.PerformanceUplift(perf_intermodel_final)\n",
    "QiniArea(perf_intermodel_final)\n",
    "\n",
    "\n",
    "# Holdout - Per ora non lo abbiamo"
   ]
  },
  {
   "cell_type": "code",
   "execution_count": null,
   "metadata": {},
   "outputs": [],
   "source": [
    "# Plotting Qini curve and Qini Coeff on the test set - scrivere funzione che lo faccia \n",
    "# in automatico\n",
    "\n",
    "df=data.frame(matrix(nrow=10, ncol=3))\n",
    "df[,1]=perf_intermodel_final[[1]]\n",
    "df[,2]=round(perf_intperf_intermodel_finalermodel[[6]],2)\n",
    "df[,3]=round(perf_intermodel_final[[7]],2)\n",
    "colnames(df)=c(\"Dec\", \"num.incr\", \"perc.incr\")\n",
    "firstrow=numeric(3)\n",
    "df=rbind(firstrow,df)\n",
    "\n",
    "\n",
    "# Plot Qini curves\n",
    "qini_curve_1<-ggplot(df, aes(x=Dec, y=num.incr))+geom_point(color=\"blue\")+geom_line(color=\"blue\")+\n",
    "  mytheme+labs(title=\"Qini Curve - SM Logit (opt)\", y=\"Incr. Num. of Retained Cust\", x=\"Perc. of Customers Targeted\")+\n",
    "  scale_x_continuous(breaks=seq(0, 1, 0.1))+geom_segment(x = 0, y=0, xend=1, yend=df[11,2], color=\"red\", \n",
    "                                                         linetype=\"dashed\", size=0.5)\n",
    "qini_curve_1\n",
    "\n",
    "\n",
    "qini_curve_2<-ggplot(df, aes(x=Dec, y=perc.incr))+geom_point(color=\"blue\")+geom_line(color=\"blue\")+\n",
    "  mytheme+labs(title=\"Qini Curve - SM (Logit)\", y=\"Incr. % of Retained Cust\", x=\"Perc. of Customers Targeted\")+\n",
    "  xlim(0, 1)+geom_segment(x = 0, y=0, xend=1, yend=df[11,3], color=\"red\", \n",
    "               linetype=\"dashed\", size=0.5)\n",
    "qini_curve_2"
   ]
  }
 ],
 "metadata": {
  "kernelspec": {
   "display_name": "R",
   "language": "R",
   "name": "ir"
  },
  "toc": {
   "base_numbering": 1,
   "nav_menu": {},
   "number_sections": true,
   "sideBar": true,
   "skip_h1_title": false,
   "title_cell": "Table of Contents",
   "title_sidebar": "Contents",
   "toc_cell": false,
   "toc_position": {},
   "toc_section_display": true,
   "toc_window_display": false
  },
  "varInspector": {
   "cols": {
    "lenName": 16,
    "lenType": 16,
    "lenVar": 40
   },
   "kernels_config": {
    "python": {
     "delete_cmd_postfix": "",
     "delete_cmd_prefix": "del ",
     "library": "var_list.py",
     "varRefreshCmd": "print(var_dic_list())"
    },
    "r": {
     "delete_cmd_postfix": ") ",
     "delete_cmd_prefix": "rm(",
     "library": "var_list.r",
     "varRefreshCmd": "cat(var_dic_list()) "
    }
   },
   "position": {
    "height": "560.766px",
    "left": "1697.02px",
    "right": "20px",
    "top": "288px",
    "width": "799.992px"
   },
   "types_to_exclude": [
    "module",
    "function",
    "builtin_function_or_method",
    "instance",
    "_Feature"
   ],
   "window_display": false
  }
 },
 "nbformat": 4,
 "nbformat_minor": 4
}
